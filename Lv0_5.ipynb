{
 "cells": [
  {
   "cell_type": "markdown",
   "metadata": {},
   "source": [
    "# 수열과 구간 쿼리 4\n",
    "### 문제 설명\n",
    "정수 배열 arr와 2차원 정수 배열 queries이 주어집니다. queries의 원소는 각각 하나의 query를 나타내며, [s, e, k] 꼴입니다.\n",
    "각 query마다 순서대로 s ≤ i ≤ e인 모든 i에 대해 i가 k의 배수이면 arr[i]에 1을 더합니다.\n",
    "위 규칙에 따라 queries를 처리한 이후의 arr를 return 하는 solution 함수를 완성해 주세요.\n",
    "\n",
    "[0, 1, 2, 4, 3]\t[[0, 4, 1],[0, 3, 2],[0, 3, 3]]\t[3, 2, 4, 6, 4]\n",
    "\n",
    "### 제한사항\n",
    "1 ≤ arr의 길이 ≤ 1,000\n",
    "0 ≤ arr의 원소 ≤ 1,000,000\n",
    "1 ≤ queries의 길이 ≤ 1,000\n",
    "0 ≤ s ≤ e < arr의 길이\n",
    "0 ≤ k ≤ 5\n"
   ]
  },
  {
   "cell_type": "code",
   "execution_count": 4,
   "metadata": {},
   "outputs": [],
   "source": [
    "def solution1(arr, queries):\n",
    "    for s, e, k in queries:\n",
    "        for i in range(s,e+1):\n",
    "            if i%k == 0:\n",
    "                arr[i] += 1\n",
    "    return arr"
   ]
  },
  {
   "cell_type": "code",
   "execution_count": 5,
   "metadata": {},
   "outputs": [
    {
     "data": {
      "text/plain": [
       "[3, 2, 4, 6, 4]"
      ]
     },
     "execution_count": 5,
     "metadata": {},
     "output_type": "execute_result"
    }
   ],
   "source": [
    "arr = [0, 1, 2, 4, 3]\n",
    "que = [[0, 4, 1],[0, 3, 2],[0, 3, 3]]\n",
    "solution1(arr,que)"
   ]
  },
  {
   "cell_type": "markdown",
   "metadata": {},
   "source": [
    "# 배열 만들기 2\n",
    "## 문제 설명\n",
    "정수 l과 r이 주어졌을 때, l 이상 r이하의 정수 중에서 숫자 \"0\"과 \"5\"로만 이루어진 모든 정수를 오름차순으로 저장한 배열을 return 하는 solution 함수를 완성해 주세요.\n",
    "만약 그러한 정수가 없다면, -1이 담긴 배열을 return 합니다.\n",
    "\n",
    "5\t555\t[5, 50, 55, 500, 505, 550, 555]\n",
    "10\t20\t[-1]"
   ]
  },
  {
   "cell_type": "code",
   "execution_count": null,
   "metadata": {},
   "outputs": [],
   "source": [
    "def solution2(l, r):\n",
    "    answer = []\n",
    "    for i in range(l,r):\n",
    "        \n",
    "    return answer"
   ]
  },
  {
   "cell_type": "code",
   "execution_count": 21,
   "metadata": {},
   "outputs": [
    {
     "data": {
      "text/plain": [
       "3"
      ]
     },
     "execution_count": 21,
     "metadata": {},
     "output_type": "execute_result"
    }
   ],
   "source": [
    "r = 555\n",
    "l = 5\n",
    "for i in range(l,r+1):\n",
    "    "
   ]
  },
  {
   "cell_type": "code",
   "execution_count": 22,
   "metadata": {},
   "outputs": [
    {
     "data": {
      "text/plain": [
       "['555']"
      ]
     },
     "execution_count": 22,
     "metadata": {},
     "output_type": "execute_result"
    }
   ],
   "source": [
    "str(555).split()"
   ]
  },
  {
   "cell_type": "code",
   "execution_count": null,
   "metadata": {},
   "outputs": [],
   "source": []
  }
 ],
 "metadata": {
  "kernelspec": {
   "display_name": "py",
   "language": "python",
   "name": "python3"
  },
  "language_info": {
   "codemirror_mode": {
    "name": "ipython",
    "version": 3
   },
   "file_extension": ".py",
   "mimetype": "text/x-python",
   "name": "python",
   "nbconvert_exporter": "python",
   "pygments_lexer": "ipython3",
   "version": "3.8.17"
  },
  "orig_nbformat": 4
 },
 "nbformat": 4,
 "nbformat_minor": 2
}
