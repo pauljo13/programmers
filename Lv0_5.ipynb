{
 "cells": [
  {
   "cell_type": "markdown",
   "metadata": {},
   "source": [
    "# 수열과 구간 쿼리 4\n",
    "### 문제 설명\n",
    "정수 배열 arr와 2차원 정수 배열 queries이 주어집니다. queries의 원소는 각각 하나의 query를 나타내며, [s, e, k] 꼴입니다.\n",
    "각 query마다 순서대로 s ≤ i ≤ e인 모든 i에 대해 i가 k의 배수이면 arr[i]에 1을 더합니다.\n",
    "위 규칙에 따라 queries를 처리한 이후의 arr를 return 하는 solution 함수를 완성해 주세요.\n",
    "\n",
    "[0, 1, 2, 4, 3]\t[[0, 4, 1],[0, 3, 2],[0, 3, 3]]\t[3, 2, 4, 6, 4]\n",
    "\n",
    "### 제한사항\n",
    "1 ≤ arr의 길이 ≤ 1,000\n",
    "0 ≤ arr의 원소 ≤ 1,000,000\n",
    "1 ≤ queries의 길이 ≤ 1,000\n",
    "0 ≤ s ≤ e < arr의 길이\n",
    "0 ≤ k ≤ 5\n"
   ]
  },
  {
   "cell_type": "code",
   "execution_count": 2,
   "metadata": {},
   "outputs": [],
   "source": [
    "def solution1(arr, queries):\n",
    "    for s, e, k in queries:\n",
    "        for i in range(s,e+1):\n",
    "            if i%k == 0:\n",
    "                arr[i] += 1\n",
    "    return arr"
   ]
  },
  {
   "cell_type": "code",
   "execution_count": 3,
   "metadata": {},
   "outputs": [
    {
     "data": {
      "text/plain": [
       "[3, 2, 4, 6, 4]"
      ]
     },
     "execution_count": 3,
     "metadata": {},
     "output_type": "execute_result"
    }
   ],
   "source": [
    "arr = [0, 1, 2, 4, 3]\n",
    "que = [[0, 4, 1],[0, 3, 2],[0, 3, 3]]\n",
    "solution1(arr,que)"
   ]
  },
  {
   "cell_type": "markdown",
   "metadata": {},
   "source": [
    "# 배열 만들기 2\n",
    "## 문제 설명\n",
    "정수 l과 r이 주어졌을 때, l 이상 r이하의 정수 중에서 숫자 \"0\"과 \"5\"로만 이루어진 모든 정수를 오름차순으로 저장한 배열을 return 하는 solution 함수를 완성해 주세요.\n",
    "만약 그러한 정수가 없다면, -1이 담긴 배열을 return 합니다.\n",
    "\n",
    "5\t555\t[5, 50, 55, 500, 505, 550, 555]\n",
    "10\t20\t[-1]"
   ]
  },
  {
   "cell_type": "code",
   "execution_count": 4,
   "metadata": {},
   "outputs": [
    {
     "ename": "IndentationError",
     "evalue": "expected an indented block (2461015044.py, line 5)",
     "output_type": "error",
     "traceback": [
      "\u001b[0;36m  Cell \u001b[0;32mIn[4], line 5\u001b[0;36m\u001b[0m\n\u001b[0;31m    return answer\u001b[0m\n\u001b[0m    ^\u001b[0m\n\u001b[0;31mIndentationError\u001b[0m\u001b[0;31m:\u001b[0m expected an indented block\n"
     ]
    }
   ],
   "source": [
    "def solution2(l, r):\n",
    "    answer = []\n",
    "    return answer"
   ]
  },
  {
   "cell_type": "code",
   "execution_count": 22,
   "metadata": {},
   "outputs": [
    {
     "name": "stdout",
     "output_type": "stream",
     "text": [
      "[-1]\n"
     ]
    }
   ],
   "source": [
    "# set 끼리 계산이 된다.\n",
    "r = 20\n",
    "l = 10\n",
    "answer = []\n",
    "for num in range(l,r+1):\n",
    "    if not set(str(num)) - set(['0','5']):\n",
    "        answer.append(num)\n",
    "print(answer) if answer else print([-1])\n"
   ]
  },
  {
   "cell_type": "code",
   "execution_count": 21,
   "metadata": {},
   "outputs": [
    {
     "data": {
      "text/plain": [
       "{'1', '3', '4', '6'}"
      ]
     },
     "execution_count": 21,
     "metadata": {},
     "output_type": "execute_result"
    }
   ],
   "source": [
    "set(['0','1', '2', '3', '4', '5', '6']) - set(['0','5','2'])"
   ]
  },
  {
   "cell_type": "code",
   "execution_count": null,
   "metadata": {},
   "outputs": [
    {
     "data": {
      "text/plain": [
       "['555']"
      ]
     },
     "execution_count": 22,
     "metadata": {},
     "output_type": "execute_result"
    }
   ],
   "source": [
    "str(555).split()"
   ]
  },
  {
   "cell_type": "markdown",
   "metadata": {},
   "source": [
    "# 카운트 업\n",
    "## 문제 설명\n",
    "정수 start_num와 end_num가 주어질 때, start_num부터 end_num까지의 숫자를 차례로 담은 리스트를 return하도록 solution 함수를 완성해주세요.\n",
    "3\t10\t[3, 4, 5, 6, 7, 8, 9, 10]\n"
   ]
  },
  {
   "cell_type": "code",
   "execution_count": null,
   "metadata": {},
   "outputs": [],
   "source": [
    "def solution3(start_num, end_num):\n",
    "    answer = []\n",
    "    for i in range(start_num,end_num+1):\n",
    "        answer.append(i)\n",
    "    return answer"
   ]
  },
  {
   "cell_type": "code",
   "execution_count": null,
   "metadata": {},
   "outputs": [
    {
     "data": {
      "text/plain": [
       "[3, 4, 5, 6, 7, 8, 9, 10]"
      ]
     },
     "execution_count": 21,
     "metadata": {},
     "output_type": "execute_result"
    }
   ],
   "source": [
    "solution3(3,10)"
   ]
  },
  {
   "cell_type": "markdown",
   "metadata": {},
   "source": [
    "# 콜라츠 수열 만들기\n",
    "## 문제 설명\n",
    "모든 자연수 x에 대해서 현재 값이 x이면 x가 짝수일 때는 2로 나누고, x가 홀수일 때는 3 * x + 1로 바꾸는 계산을 계속해서 반복하면  언젠가는 반드시 x가 1이 되는지 묻는 문제를 콜라츠 문제라고 부릅니다.\n",
    "그리고 위 과정에서 거쳐간 모든 수를 기록한 수열을 콜라츠 수열이라고 부릅니다.  \n",
    "계산 결과 1,000 보다 작거나 같은 수에 대해서는 전부 언젠가 1에 도달한다는 것이 알려져 있습니다.  \n",
    "임의의 1,000 보다 작거나 같은 양의 정수 n이 주어질 때 초기값이 n인 콜라츠 수열을 return 하는 solution 함수를 완성해 주세요.  \n",
    "  \n",
    "10\t[10, 5, 16, 8, 4, 2, 1]\n"
   ]
  },
  {
   "cell_type": "code",
   "execution_count": null,
   "metadata": {},
   "outputs": [],
   "source": [
    "def solution(n):\n",
    "    answer = []\n",
    "    answer.append(n)\n",
    "    while True:\n",
    "        if n == 1:\n",
    "            return answer\n",
    "            break\n",
    "        else:\n",
    "            if n%2 == 0:\n",
    "                n = int(n/2)\n",
    "                answer.append(n)\n",
    "            else:\n",
    "                n = int(3*n+1)\n",
    "                answer.append(n)"
   ]
  },
  {
   "cell_type": "code",
   "execution_count": null,
   "metadata": {},
   "outputs": [
    {
     "data": {
      "text/plain": [
       "[10, 5, 16, 8, 4, 2, 1]"
      ]
     },
     "execution_count": 48,
     "metadata": {},
     "output_type": "execute_result"
    }
   ],
   "source": [
    "solution(10)"
   ]
  },
  {
   "cell_type": "markdown",
   "metadata": {},
   "source": [
    "# 배열 만들기 4\n",
    "## 문제 설명\n",
    "정수 배열 arr가 주어집니다. arr를 이용해 새로운 배열 stk를 만드려고 합니다.  \n",
    "변수 i를 만들어 초기값을 0으로 설정한 후 i가 arr의 길이보다 작으면 다음 작업을 반복합니다.  \n",
    "만약 stk가 빈 배열이라면 arr[i]를 stk에 추가하고 i에 1을 더합니다.  \n",
    "stk에 원소가 있고, stk의 마지막 원소가 arr[i]보다 작으면 arr[i]를 stk의 뒤에 추가하고 i에 1을 더합니다.  \n",
    "stk에 원소가 있는데 stk의 마지막 원소가 arr[i]보다 크거나 같으면 stk의 마지막 원소를 stk에서 제거합니다.  \n",
    "위 작업을 마친 후 만들어진 stk를 return 하는 solution 함수를 완성해 주세요.  \n",
    "  \n",
    "[1, 4, 2, 5, 3]\t[1, 2, 3]"
   ]
  },
  {
   "cell_type": "code",
   "execution_count": 32,
   "metadata": {},
   "outputs": [],
   "source": [
    "def solution5(arr):\n",
    "    stk = []\n",
    "    i = 0\n",
    "    while i < len(arr):\n",
    "        if not stk or stk[-1] < arr[i]:\n",
    "            stk.append(arr[i])\n",
    "            i += 1\n",
    "        else:\n",
    "            stk.pop(-1)\n",
    "    return stk"
   ]
  },
  {
   "cell_type": "code",
   "execution_count": 33,
   "metadata": {},
   "outputs": [
    {
     "data": {
      "text/plain": [
       "[1, 2, 3]"
      ]
     },
     "execution_count": 33,
     "metadata": {},
     "output_type": "execute_result"
    }
   ],
   "source": [
    "arr = [1,4,2,5,3]\n",
    "solution5(arr)"
   ]
  },
  {
   "cell_type": "code",
   "execution_count": 31,
   "metadata": {},
   "outputs": [
    {
     "name": "stdout",
     "output_type": "stream",
     "text": [
      "[1, 2, 3]\n"
     ]
    }
   ],
   "source": [
    "arr = [1,4,2,5,3]\n",
    "stk = []\n",
    "i = 0\n",
    "while i < len(arr):\n",
    "    if not stk or stk[-1] < arr[i]:\n",
    "        stk.append(arr[i])\n",
    "        i += 1\n",
    "    elif stk[-1] >= arr[i]:\n",
    "        stk.pop(-1)\n",
    "print(stk)"
   ]
  },
  {
   "cell_type": "code",
   "execution_count": 25,
   "metadata": {},
   "outputs": [
    {
     "name": "stdout",
     "output_type": "stream",
     "text": [
      "[1, 2, 3, 4]\n"
     ]
    }
   ],
   "source": [
    "a = [1,2,3,4,5]\n",
    "a.pop(-1)\n",
    "print(a)"
   ]
  }
 ],
 "metadata": {
  "kernelspec": {
   "display_name": "py",
   "language": "python",
   "name": "python3"
  },
  "language_info": {
   "codemirror_mode": {
    "name": "ipython",
    "version": 3
   },
   "file_extension": ".py",
   "mimetype": "text/x-python",
   "name": "python",
   "nbconvert_exporter": "python",
   "pygments_lexer": "ipython3",
   "version": "3.8.17"
  },
  "orig_nbformat": 4
 },
 "nbformat": 4,
 "nbformat_minor": 2
}
