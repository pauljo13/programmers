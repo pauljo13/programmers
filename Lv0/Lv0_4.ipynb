{
 "cells": [
  {
   "cell_type": "code",
   "execution_count": 27,
   "metadata": {},
   "outputs": [],
   "source": [
    "import math\n",
    "import time"
   ]
  },
  {
   "cell_type": "markdown",
   "metadata": {},
   "source": [
    "# 마지막 두 원소\n",
    "### 문제 설명\n",
    "정수 리스트 num_list가 주어질 때, 마지막 원소가 그전 원소보다 크면 마지막 원소에서 그전 원소를 뺀 값을 마지막 원소가 그전 원소보다 크지 않다면 마지막 원소를 두 배한 값을 추가하여 return하도록 solution 함수를 완성해주세요.\n",
    "\n",
    "### 제한사항\n",
    "2 ≤ num_list의 길이 ≤ 10\n",
    "1 ≤ num_list의 원소 ≤ 9\n",
    "\n",
    "### 입출력 예 설명\n",
    "입출력 예 #1\n",
    "\n",
    "마지막 원소인 6이 그전 원소인 1보다 크기 때문에 6 - 1인 5를 추가해 return합니다.\n",
    "\n",
    "입출력 예 #2\n",
    "\n",
    "마지막 원소인 5가 그전 원소인 7보다 크지 않기 때문에 5의 두 배인 10을 추가해 return합니다."
   ]
  },
  {
   "cell_type": "code",
   "execution_count": 10,
   "metadata": {},
   "outputs": [],
   "source": [
    "def solution1(num_list):\n",
    "    if num_list[-1] > num_list[-2]: \n",
    "        num_list.append(num_list[-1]-num_list[-2]) \n",
    "    else: \n",
    "        num_list.append(num_list[-1]*2)\n",
    "    return num_list"
   ]
  },
  {
   "cell_type": "code",
   "execution_count": null,
   "metadata": {},
   "outputs": [],
   "source": [
    "def solution1_2(num_list):\n",
    "    num_list.append(num_list[-1]-num_list[-2] if num_list[-1]>num_list[-2] else num_list[-1]*2)\n",
    "    return num_list"
   ]
  },
  {
   "cell_type": "markdown",
   "metadata": {},
   "source": [
    "# 수 조작하기 1\n",
    "### 문제 설명\n",
    "정수 n과 문자열 control이 주어집니다. control은 \"w\", \"a\", \"s\", \"d\"의 4개의 문자로 이루어져 있으며, control의 앞에서부터 순서대로 문자에 따라 n의 값을 바꿉니다.\n",
    "\n",
    "\"w\" : n이 1 커집니다.\n",
    "\"s\" : n이 1 작아집니다.\n",
    "\"d\" : n이 10 커집니다.\n",
    "\"a\" : n이 10 작아집니다.\n",
    "위 규칙에 따라 n을 바꿨을 때 가장 마지막에 나오는 n의 값을 return 하는 solution 함수를 완성해 주세요.\n",
    "\n",
    "### 제한사항\n",
    "-100,000 ≤ n ≤ 100,000\n",
    "1 ≤ control의 길이 ≤ 100,000\n",
    "control은 알파벳 소문자 \"w\", \"a\", \"s\", \"d\"로 이루어진 문자열입니다.\n",
    "\n",
    "### 입출력 예 설명\n",
    "입출력 예 #1\n",
    "\n",
    "수 n은 control에 따라 다음과 같은 순서로 변하게 됩니다.\n",
    "0 → 1 → 0 → 10 → 0 → 1 → 0 → 10 → 0 → -1 → -2 → -1\n",
    "따라서 -1을 return 합니다.\n"
   ]
  },
  {
   "cell_type": "code",
   "execution_count": 25,
   "metadata": {},
   "outputs": [],
   "source": [
    "def solution2(n, control):\n",
    "    dis = {'w':1,'s':-1,'d':10,'a':-10}\n",
    "    for i in list(control):\n",
    "        n += dis[i]\n",
    "    return n"
   ]
  },
  {
   "cell_type": "code",
   "execution_count": 28,
   "metadata": {},
   "outputs": [],
   "source": [
    "def solution2_2(n, control):\n",
    "    dis = {}\n",
    "    for i in list(control):\n",
    "        if i in dis:\n",
    "            dis[i] += 1\n",
    "        else:\n",
    "            dis[i] = 1\n",
    "    return dis['w']*1 + dis['s']*-1 + dis['d']*10 + dis['a']*-10"
   ]
  },
  {
   "cell_type": "code",
   "execution_count": 43,
   "metadata": {},
   "outputs": [],
   "source": [
    "def solution2_3(n, control):\n",
    "    dis = {}\n",
    "    for i in set(control):\n",
    "        dis[i] = control.count(i)\n",
    "    return dis['w']*1 + dis['s']*-1 + dis['d']*10 + dis['a']*-10"
   ]
  },
  {
   "cell_type": "code",
   "execution_count": 47,
   "metadata": {},
   "outputs": [
    {
     "name": "stdout",
     "output_type": "stream",
     "text": [
      "-1\n",
      "-1\n",
      "-1\n",
      "7.486343383789062e-05\n",
      "3.314018249511719e-05\n",
      "3.1948089599609375e-05\n",
      "True\n",
      "True\n"
     ]
    }
   ],
   "source": [
    "sta = time.time()\n",
    "print(solution2(0,\"wsdawsdassw\"))\n",
    "end = time.time()\n",
    "sta2 = time.time()\n",
    "print(solution2_2(0,\"wsdawsdassw\"))\n",
    "end2 = time.time()\n",
    "sta3 = time.time()\n",
    "print(solution2_3(0,\"wsdawsdassw\"))\n",
    "end3 = time.time()\n",
    "\n",
    "print(end-sta)\n",
    "print(end2-sta2)\n",
    "print(end3-sta3)\n",
    "print(end-sta > end2-sta2)\n",
    "print(end3-sta3 < end2-sta2)"
   ]
  },
  {
   "cell_type": "code",
   "execution_count": 24,
   "metadata": {},
   "outputs": [
    {
     "data": {
      "text/plain": [
       "['w', 's', 'd', 'a', 'w', 's', 'd', 'a', 's', 's', 'w']"
      ]
     },
     "execution_count": 24,
     "metadata": {},
     "output_type": "execute_result"
    }
   ],
   "source": [
    "dis = {'w':1,'s':-1,'d':10,'a':-10}\n",
    "w = \"wsdawsdassw\"\n",
    "a = list(w)\n",
    "a"
   ]
  },
  {
   "cell_type": "code",
   "execution_count": 41,
   "metadata": {},
   "outputs": [
    {
     "data": {
      "text/plain": [
       "['s', 'a', 'd', 'w']"
      ]
     },
     "execution_count": 41,
     "metadata": {},
     "output_type": "execute_result"
    }
   ],
   "source": [
    "s = list(set(w))\n",
    "s"
   ]
  },
  {
   "cell_type": "code",
   "execution_count": 42,
   "metadata": {},
   "outputs": [
    {
     "name": "stdout",
     "output_type": "stream",
     "text": [
      "s\n",
      "a\n",
      "d\n",
      "w\n"
     ]
    }
   ],
   "source": [
    "for i in set(w):\n",
    "    print(i)"
   ]
  },
  {
   "cell_type": "code",
   "execution_count": 37,
   "metadata": {},
   "outputs": [
    {
     "data": {
      "text/plain": [
       "3"
      ]
     },
     "execution_count": 37,
     "metadata": {},
     "output_type": "execute_result"
    }
   ],
   "source": [
    "w.count('w')"
   ]
  },
  {
   "cell_type": "code",
   "execution_count": 17,
   "metadata": {},
   "outputs": [
    {
     "data": {
      "text/plain": [
       "11"
      ]
     },
     "execution_count": 17,
     "metadata": {},
     "output_type": "execute_result"
    }
   ],
   "source": [
    "len('wsdawsdassw')"
   ]
  },
  {
   "cell_type": "markdown",
   "metadata": {},
   "source": [
    "# 수 조작하기 2\n",
    "### 문제 설명\n",
    "정수 배열 numLog가 주어집니다. 처음에 numLog[0]에서 부터 시작해 \"w\", \"a\", \"s\", \"d\"로 이루어진 문자열을 입력으로 받아 순서대로 다음과 같은 조작을 했다고 합시다.\n",
    "\n",
    "\"w\" : 수에 1을 더한다.\n",
    "\"s\" : 수에 1을 뺀다.\n",
    "\"d\" : 수에 10을 더한다.\n",
    "\"a\" : 수에 10을 뺀다.\n",
    "그리고 매번 조작을 할 때마다 결괏값을 기록한 정수 배열이 numLog입니다. 즉, numLog[i]는 numLog[0]로부터 총 i번의 조작을 가한 결과가 저장되어 있습니다.\n",
    "\n",
    "주어진 정수 배열 numLog에 대해 조작을 위해 입력받은 문자열을 return 하는 solution 함수를 완성해 주세요.\n",
    "\n",
    "### 제한사항\n",
    "2 ≤ log의 길이 ≤ 100,000\n",
    "-100,000 ≤ log[0] ≤ 100,000\n",
    "1 ≤ i ≤ log의 길이인 모든 i에 대해 |log[i] - log[i - 1]|의 값은 1 또는 10입니다.\n",
    "\n",
    "### 입출력 예 설명\n",
    "입출력 예 #1\n",
    "\n",
    "result인 \"wsdawsdassw\"를 따라 log[0]에서부터 시작해 조작을 하면 log의 값과 순서대로 일치합니다. 따라서 \"wsdawsdassw\"를 return 합니다.\n",
    "\n",
    "### Hint\n",
    "\"수 조작하기 1\" 문제의 n값이 log[0]에 해당하며, 이 문제에서 주어진 log에 따라 \"수 조작하기 1\" 문제의 control을 구하는 문제라고 이해할 수 있습니다.\n",
    "\n",
    "입출력 예 #1은 \"수 조작하기 1\" 문제의 입출력 예 #1과 같은 예시이므로 참고하시기 바랍니다."
   ]
  },
  {
   "cell_type": "code",
   "execution_count": 55,
   "metadata": {},
   "outputs": [],
   "source": [
    "def solution3(numLog):\n",
    "    dis = {1:'w',-1:'s',10:'d',-10:'a'}\n",
    "    answer = \"\"\n",
    "    for i in range(0,len(numLog)-1):\n",
    "        enc = -(numLog[i]-numLog[i+1])\n",
    "        answer += dis[enc]\n",
    "    return answer"
   ]
  },
  {
   "cell_type": "code",
   "execution_count": 56,
   "metadata": {},
   "outputs": [
    {
     "data": {
      "text/plain": [
       "'wsdawsdassw'"
      ]
     },
     "execution_count": 56,
     "metadata": {},
     "output_type": "execute_result"
    }
   ],
   "source": [
    "solution3([0, 1, 0, 10, 0, 1, 0, 10, 0, -1, -2, -1])"
   ]
  },
  {
   "cell_type": "code",
   "execution_count": 48,
   "metadata": {},
   "outputs": [
    {
     "data": {
      "text/plain": [
       "'w'"
      ]
     },
     "execution_count": 48,
     "metadata": {},
     "output_type": "execute_result"
    }
   ],
   "source": [
    "dis = {1:'w',-1:'s',10:'d',-10:'a'}"
   ]
  },
  {
   "cell_type": "code",
   "execution_count": 51,
   "metadata": {},
   "outputs": [
    {
     "data": {
      "text/plain": [
       "-1"
      ]
     },
     "execution_count": 51,
     "metadata": {},
     "output_type": "execute_result"
    }
   ],
   "source": [
    "l = [0, 1, 0, 10, 0, 1, 0, 10, 0, -1, -2, -1]\n",
    "-(l[1] - l[2])"
   ]
  },
  {
   "cell_type": "markdown",
   "metadata": {},
   "source": [
    "# 수열과 구간 쿼리 3\n",
    "### 문제 설명\n",
    "정수 배열 arr와 2차원 정수 배열 queries이 주어집니다. queries의 원소는 각각 하나의 query를 나타내며, [i, j] 꼴입니다.\n",
    "\n",
    "각 query마다 순서대로 arr[i]의 값과 arr[j]의 값을 서로 바꿉니다.\n",
    "\n",
    "위 규칙에 따라 queries를 처리한 이후의 arr를 return 하는 solution 함수를 완성해 주세요.\n",
    "\n",
    "### 제한사항\n",
    "1 ≤ arr의 길이 ≤ 1,000\n",
    "0 ≤ arr의 원소 ≤ 1,000,000\n",
    "1 ≤ queries의 길이 ≤ 1,000\n",
    "0 ≤ i < j < arr의 길이\n"
   ]
  },
  {
   "cell_type": "code",
   "execution_count": 67,
   "metadata": {},
   "outputs": [],
   "source": [
    "def solution4(arr, queries):\n",
    "    for i in range(0,len(queries)):\n",
    "        arr[queries[i][0]], arr[queries[i][1]] = arr[queries[i][1]], arr[queries[i][0]]\n",
    "    return arr"
   ]
  },
  {
   "cell_type": "code",
   "execution_count": 68,
   "metadata": {},
   "outputs": [],
   "source": [
    "a = [0, 1, 2, 3, 4]"
   ]
  },
  {
   "cell_type": "code",
   "execution_count": 69,
   "metadata": {},
   "outputs": [
    {
     "data": {
      "text/plain": [
       "0"
      ]
     },
     "execution_count": 69,
     "metadata": {},
     "output_type": "execute_result"
    }
   ],
   "source": [
    "q = [[0, 3],[1, 2],[1, 4]]\n",
    "q[0][0]"
   ]
  },
  {
   "cell_type": "code",
   "execution_count": 70,
   "metadata": {},
   "outputs": [
    {
     "data": {
      "text/plain": [
       "[3, 4, 1, 0, 2]"
      ]
     },
     "execution_count": 70,
     "metadata": {},
     "output_type": "execute_result"
    }
   ],
   "source": [
    "solution4(a,q)"
   ]
  },
  {
   "cell_type": "code",
   "execution_count": 71,
   "metadata": {},
   "outputs": [],
   "source": [
    "def solution4_1(arr, queries):\n",
    "    for a,b in queries:\n",
    "        arr[a],arr[b]=arr[b],arr[a]\n",
    "    return arr"
   ]
  },
  {
   "cell_type": "markdown",
   "metadata": {},
   "source": [
    "# 수열과 구간 쿼리 2\n",
    "### 문제 설명\n",
    "정수 배열 arr와 2차원 정수 배열 queries이 주어집니다. queries의 원소는 각각 하나의 query를 나타내며, [s, e, k] 꼴입니다.\n",
    "\n",
    "각 query마다 순서대로 s ≤ i ≤ e인 모든 i에 대해 k보다 크면서 가장 작은 arr[i]를 찾습니다.\n",
    "\n",
    "각 쿼리의 순서에 맞게 답을 저장한 배열을 반환하는 solution 함수를 완성해 주세요.\n",
    "단, 특정 쿼리의 답이 존재하지 않으면 -1을 저장합니다.\n",
    "\n",
    "### 제한사항\n",
    "1 ≤ arr의 길이 ≤ 1,000\n",
    "0 ≤ arr의 원소 ≤ 1,000,000\n",
    "1 ≤ queries의 길이 ≤ 1,000\n",
    "0 ≤ s ≤ e < arr의 길이\n",
    "0 ≤ k ≤ 1,000,000\n"
   ]
  },
  {
   "cell_type": "code",
   "execution_count": 136,
   "metadata": {},
   "outputs": [],
   "source": [
    "def solution5(arr, queries):\n",
    "    answer = []\n",
    "    for s, e, k in queries:\n",
    "        i = [i for i in arr[s:e+1] if i > k]\n",
    "        answer.append(-1 if not i else min(i))\n",
    "    return answer"
   ]
  },
  {
   "cell_type": "code",
   "execution_count": 104,
   "metadata": {},
   "outputs": [],
   "source": [
    "ar = [0, 1, 2, 4, 3]\n",
    "qu = [[0, 4, 2],[0, 3, 2],[0, 2, 2]]"
   ]
  },
  {
   "cell_type": "code",
   "execution_count": 124,
   "metadata": {},
   "outputs": [
    {
     "data": {
      "text/plain": [
       "-1"
      ]
     },
     "execution_count": 124,
     "metadata": {},
     "output_type": "execute_result"
    }
   ],
   "source": [
    "[i for i in ar[0:2+1] if i > 2] or -1"
   ]
  },
  {
   "cell_type": "code",
   "execution_count": 137,
   "metadata": {},
   "outputs": [
    {
     "data": {
      "text/plain": [
       "[3, 4, -1]"
      ]
     },
     "execution_count": 137,
     "metadata": {},
     "output_type": "execute_result"
    }
   ],
   "source": [
    "solution5(ar,qu)"
   ]
  },
  {
   "cell_type": "code",
   "execution_count": null,
   "metadata": {},
   "outputs": [],
   "source": []
  }
 ],
 "metadata": {
  "kernelspec": {
   "display_name": "pro",
   "language": "python",
   "name": "python3"
  },
  "language_info": {
   "codemirror_mode": {
    "name": "ipython",
    "version": 3
   },
   "file_extension": ".py",
   "mimetype": "text/x-python",
   "name": "python",
   "nbconvert_exporter": "python",
   "pygments_lexer": "ipython3",
   "version": "3.8.17"
  },
  "orig_nbformat": 4
 },
 "nbformat": 4,
 "nbformat_minor": 2
}
