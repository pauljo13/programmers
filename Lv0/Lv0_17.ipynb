{
 "cells": [
  {
   "cell_type": "markdown",
   "metadata": {},
   "source": [
    "# 2023-12-26\n",
    "### Q1. 세 개의 구분자\n",
    "#### 문제 설명\n",
    "임의의 문자열이 주어졌을 때 문자 \"a\", \"b\", \"c\"를 구분자로 사용해 문자열을 나누고자 합니다.  \n",
    "예를 들어 주어진 문자열이 \"baconlettucetomato\"라면 나눠진 문자열 목록은 [\"onlettu\", \"etom\", \"to\"] 가 됩니다.  \n",
    "문자열 myStr이 주어졌을 때 위 예시와 같이 \"a\", \"b\", \"c\"를 사용해 나눠진 문자열을 순서대로 저장한 배열을 return 하는 solution 함수를 완성해 주세요.  \n",
    "단, 두 구분자 사이에 다른 문자가 없을 경우에는 아무것도 저장하지 않으며, return할 배열이 빈 배열이라면 [\"EMPTY\"]를 return 합니다.  \n",
    "  \n",
    "myStr\tresult  \n",
    "\"baconlettucetomato\"\t[\"onlettu\", \"etom\", \"to\"]  \n",
    "\"abcd\"\t[\"d\"]  \n",
    "\"cabab\"\t[\"EMPTY\"]  "
   ]
  },
  {
   "cell_type": "code",
   "execution_count": null,
   "metadata": {},
   "outputs": [],
   "source": [
    "def solution1(myStr):\n",
    "    answer = []\n",
    "    return answer"
   ]
  },
  {
   "cell_type": "code",
   "execution_count": 7,
   "metadata": {},
   "outputs": [],
   "source": [
    "test = \"baconlettucetomato\"\n",
    "for i in [\"a\",\"b\",\"c\"]:\n",
    "    test.split(i)"
   ]
  },
  {
   "cell_type": "markdown",
   "metadata": {},
   "source": [
    "### Q2.\n",
    "#### 문제 설명"
   ]
  },
  {
   "cell_type": "markdown",
   "metadata": {},
   "source": [
    "### Q3.\n",
    "#### 문제 설명"
   ]
  },
  {
   "cell_type": "markdown",
   "metadata": {},
   "source": [
    "### Q4.\n",
    "#### 문제 설명"
   ]
  },
  {
   "cell_type": "markdown",
   "metadata": {},
   "source": [
    "### Q5.\n",
    "#### 문제 설명"
   ]
  }
 ],
 "metadata": {
  "kernelspec": {
   "display_name": "py",
   "language": "python",
   "name": "python3"
  },
  "language_info": {
   "codemirror_mode": {
    "name": "ipython",
    "version": 3
   },
   "file_extension": ".py",
   "mimetype": "text/x-python",
   "name": "python",
   "nbconvert_exporter": "python",
   "pygments_lexer": "ipython3",
   "version": "3.8.17"
  }
 },
 "nbformat": 4,
 "nbformat_minor": 2
}
