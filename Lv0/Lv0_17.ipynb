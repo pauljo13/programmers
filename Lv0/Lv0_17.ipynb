{
 "cells": [
  {
   "cell_type": "markdown",
   "metadata": {},
   "source": [
    "# 2023-12-26\n",
    "### Q1. 세 개의 구분자\n",
    "#### 문제 설명\n",
    "임의의 문자열이 주어졌을 때 문자 \"a\", \"b\", \"c\"를 구분자로 사용해 문자열을 나누고자 합니다.  \n",
    "예를 들어 주어진 문자열이 \"baconlettucetomato\"라면 나눠진 문자열 목록은 [\"onlettu\", \"etom\", \"to\"] 가 됩니다.  \n",
    "문자열 myStr이 주어졌을 때 위 예시와 같이 \"a\", \"b\", \"c\"를 사용해 나눠진 문자열을 순서대로 저장한 배열을 return 하는 solution 함수를 완성해 주세요.  \n",
    "단, 두 구분자 사이에 다른 문자가 없을 경우에는 아무것도 저장하지 않으며, return할 배열이 빈 배열이라면 [\"EMPTY\"]를 return 합니다.  \n",
    "  \n",
    "myStr\tresult  \n",
    "\"baconlettucetomato\"\t[\"onlettu\", \"etom\", \"to\"]  \n",
    "\"abcd\"\t[\"d\"]  \n",
    "\"cabab\"\t[\"EMPTY\"]  "
   ]
  },
  {
   "cell_type": "code",
   "execution_count": 32,
   "metadata": {},
   "outputs": [],
   "source": [
    "def solution1(myStr):\n",
    "    myStr = myStr.replace(\"a\",\" \")\n",
    "    myStr = myStr.replace(\"b\",\" \")\n",
    "    answer = myStr.replace(\"c\",\" \")\n",
    "    answer = answer.split(\" \")\n",
    "    while \"\" in answer:\n",
    "        answer.remove(\"\")\n",
    "    if not answer:\n",
    "        return [\"EMPTY\"]\n",
    "    else:\n",
    "        return answer"
   ]
  },
  {
   "cell_type": "code",
   "execution_count": 41,
   "metadata": {},
   "outputs": [],
   "source": [
    "def solution1_1(myStr):\n",
    "    split_str = myStr.split(\"a\")\n",
    "    result = []\n",
    "    for s in split_str:\n",
    "        if \"b\" in s:\n",
    "            split_b = s.split(\"b\")\n",
    "            for item in split_b:\n",
    "                if \"c\" in item:\n",
    "                    result.extend(item.split(\"c\"))\n",
    "                else:\n",
    "                    result.append(item)\n",
    "        elif \"c\" in s:\n",
    "            result.extend(s.split(\"c\"))\n",
    "        else:\n",
    "            result.append(s)\n",
    "    result = [item for item in result if item]\n",
    "    return result if result else [\"EMPTY\"]\n"
   ]
  },
  {
   "cell_type": "code",
   "execution_count": 33,
   "metadata": {},
   "outputs": [
    {
     "name": "stdout",
     "output_type": "stream",
     "text": [
      "['b', 'conlettucetom', 'to'] ['', 'aconlettucetomato'] ['ba', 'onlettu', 'etomato']\n"
     ]
    }
   ],
   "source": [
    "test = \"baconlettucetomato\"\n",
    "test2 = \"abcd\"\n",
    "test3 = \"cabab\"\n",
    "a = test.split(\"a\")\n",
    "b = test.split(\"b\")\n",
    "c = test.split(\"c\")\n",
    "print(a,b,c)"
   ]
  },
  {
   "cell_type": "code",
   "execution_count": 34,
   "metadata": {},
   "outputs": [
    {
     "data": {
      "text/plain": [
       "['onlettu', 'etom', 'to']"
      ]
     },
     "execution_count": 34,
     "metadata": {},
     "output_type": "execute_result"
    }
   ],
   "source": [
    "solution1(test)"
   ]
  },
  {
   "cell_type": "code",
   "execution_count": 42,
   "metadata": {},
   "outputs": [
    {
     "data": {
      "text/plain": [
       "['onlettu', 'etom', 'to']"
      ]
     },
     "execution_count": 42,
     "metadata": {},
     "output_type": "execute_result"
    }
   ],
   "source": [
    "solution1_1(test)"
   ]
  },
  {
   "cell_type": "code",
   "execution_count": 35,
   "metadata": {},
   "outputs": [
    {
     "data": {
      "text/plain": [
       "['d']"
      ]
     },
     "execution_count": 35,
     "metadata": {},
     "output_type": "execute_result"
    }
   ],
   "source": [
    "solution1(test2)"
   ]
  },
  {
   "cell_type": "code",
   "execution_count": 43,
   "metadata": {},
   "outputs": [
    {
     "data": {
      "text/plain": [
       "['d']"
      ]
     },
     "execution_count": 43,
     "metadata": {},
     "output_type": "execute_result"
    }
   ],
   "source": [
    "solution1_1(test2)"
   ]
  },
  {
   "cell_type": "code",
   "execution_count": 36,
   "metadata": {},
   "outputs": [
    {
     "data": {
      "text/plain": [
       "['EMPTY']"
      ]
     },
     "execution_count": 36,
     "metadata": {},
     "output_type": "execute_result"
    }
   ],
   "source": [
    "solution1(test3)"
   ]
  },
  {
   "cell_type": "code",
   "execution_count": 44,
   "metadata": {},
   "outputs": [
    {
     "data": {
      "text/plain": [
       "['EMPTY']"
      ]
     },
     "execution_count": 44,
     "metadata": {},
     "output_type": "execute_result"
    }
   ],
   "source": [
    "solution1_1(test3)"
   ]
  },
  {
   "cell_type": "code",
   "execution_count": 37,
   "metadata": {},
   "outputs": [
    {
     "name": "stdout",
     "output_type": "stream",
     "text": [
      "baconlettucetomato\n"
     ]
    }
   ],
   "source": [
    "a = \"\"\n",
    "for i in test:\n",
    "    a += i\n",
    "print(a)"
   ]
  },
  {
   "cell_type": "code",
   "execution_count": 16,
   "metadata": {},
   "outputs": [
    {
     "data": {
      "text/plain": [
       "'conlettucetomato'"
      ]
     },
     "execution_count": 16,
     "metadata": {},
     "output_type": "execute_result"
    }
   ],
   "source": [
    "test[2:]"
   ]
  },
  {
   "cell_type": "code",
   "execution_count": 25,
   "metadata": {},
   "outputs": [
    {
     "data": {
      "text/plain": [
       "['onlettu', 'etom', 'to']"
      ]
     },
     "execution_count": 25,
     "metadata": {},
     "output_type": "execute_result"
    }
   ],
   "source": [
    "b = test.replace(\"a\",\" \")\n",
    "c = b.replace(\"b\",\" \")\n",
    "answer = c.replace(\"c\",\" \")\n",
    "answer = answer.split(\" \")\n",
    "while \"\" in answer:\n",
    "    answer.remove(\"\")\n",
    "answer"
   ]
  },
  {
   "cell_type": "code",
   "execution_count": 38,
   "metadata": {},
   "outputs": [
    {
     "name": "stdout",
     "output_type": "stream",
     "text": [
      "o\n",
      "n\n",
      "l\n",
      "e\n",
      "t\n",
      "t\n",
      "u\n",
      "c\n",
      "e\n",
      "t\n",
      "o\n",
      "m\n",
      "a\n",
      "t\n",
      "o\n"
     ]
    }
   ],
   "source": [
    "for i in test[3:]:\n",
    "    print(i)"
   ]
  },
  {
   "cell_type": "markdown",
   "metadata": {},
   "source": [
    "### Q2. 배열의 원소만큼 추가하기\n",
    "#### 문제 설명\n",
    "아무 원소도 들어있지 않은 빈 배열 X가 있습니다. 양의 정수 배열 arr가 매개변수로 주어질 때, arr의 앞에서부터 차례대로 원소를 보면서 원소가 a라면 X의 맨 뒤에 a를 a번 추가하는 일을 반복한 뒤의 배열 X를 return 하는 solution 함수를 작성해 주세요.  \n",
    "  \n",
    "arr\tresult  \n",
    "[5, 1, 4]\t[5, 5, 5, 5, 5, 1, 4, 4, 4, 4]  \n",
    "[6, 6]\t[6, 6, 6, 6, 6, 6, 6, 6, 6, 6, 6, 6]  \n",
    "[1]\t[1]  "
   ]
  },
  {
   "cell_type": "code",
   "execution_count": 45,
   "metadata": {},
   "outputs": [],
   "source": [
    "def solution2(arr):\n",
    "    answer = []\n",
    "    for i in arr:\n",
    "        for l in range(i):\n",
    "            answer.append(i)\n",
    "    return answer"
   ]
  },
  {
   "cell_type": "code",
   "execution_count": 46,
   "metadata": {},
   "outputs": [
    {
     "data": {
      "text/plain": [
       "[5, 5, 5, 5, 5, 1, 4, 4, 4, 4]"
      ]
     },
     "execution_count": 46,
     "metadata": {},
     "output_type": "execute_result"
    }
   ],
   "source": [
    "arr1 = [5, 1, 4]\n",
    "arr2 = [6, 6]\n",
    "arr3 = [1]\n",
    "solution2(arr1)"
   ]
  },
  {
   "cell_type": "markdown",
   "metadata": {},
   "source": [
    "### Q3. 빈 배열에 추가, 삭제하기\n",
    "#### 문제 설명\n",
    "아무 원소도 들어있지 않은 빈 배열 X가 있습니다. 길이가 같은 정수 배열 arr과 boolean 배열 flag가 매개변수로 주어질 때, flag를 차례대로 순회하며 flag[i]가 true라면 X의 뒤에 arr[i]를 arr[i] × 2 번 추가하고, flag[i]가 false라면 X에서 마지막 arr[i]개의 원소를 제거한 뒤 X를 return 하는 solution 함수를 작성해 주세요.  \n",
    "  \n",
    "arr\tflag\tresult  \n",
    "[3, 2, 4, 1, 3]\t[true, false, true, false, false]\t[3, 3, 3, 3, 4, 4, 4, 4]  "
   ]
  },
  {
   "cell_type": "code",
   "execution_count": null,
   "metadata": {},
   "outputs": [],
   "source": [
    "def solution3(arr, flag):\n",
    "    answer = []\n",
    "    return answer"
   ]
  },
  {
   "cell_type": "markdown",
   "metadata": {},
   "source": [
    "### Q4.\n",
    "#### 문제 설명"
   ]
  },
  {
   "cell_type": "markdown",
   "metadata": {},
   "source": [
    "### Q5.\n",
    "#### 문제 설명"
   ]
  }
 ],
 "metadata": {
  "kernelspec": {
   "display_name": "py",
   "language": "python",
   "name": "python3"
  },
  "language_info": {
   "codemirror_mode": {
    "name": "ipython",
    "version": 3
   },
   "file_extension": ".py",
   "mimetype": "text/x-python",
   "name": "python",
   "nbconvert_exporter": "python",
   "pygments_lexer": "ipython3",
   "version": "3.8.17"
  }
 },
 "nbformat": 4,
 "nbformat_minor": 2
}
