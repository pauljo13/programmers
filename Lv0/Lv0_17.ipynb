{
 "cells": [
  {
   "cell_type": "markdown",
   "metadata": {},
   "source": [
    "# 2023-12-26\n",
    "### Q1. 세 개의 구분자\n",
    "#### 문제 설명\n",
    "임의의 문자열이 주어졌을 때 문자 \"a\", \"b\", \"c\"를 구분자로 사용해 문자열을 나누고자 합니다.  \n",
    "예를 들어 주어진 문자열이 \"baconlettucetomato\"라면 나눠진 문자열 목록은 [\"onlettu\", \"etom\", \"to\"] 가 됩니다.  \n",
    "문자열 myStr이 주어졌을 때 위 예시와 같이 \"a\", \"b\", \"c\"를 사용해 나눠진 문자열을 순서대로 저장한 배열을 return 하는 solution 함수를 완성해 주세요.  \n",
    "단, 두 구분자 사이에 다른 문자가 없을 경우에는 아무것도 저장하지 않으며, return할 배열이 빈 배열이라면 [\"EMPTY\"]를 return 합니다.  \n",
    "  \n",
    "myStr\tresult  \n",
    "\"baconlettucetomato\"\t[\"onlettu\", \"etom\", \"to\"]  \n",
    "\"abcd\"\t[\"d\"]  \n",
    "\"cabab\"\t[\"EMPTY\"]  "
   ]
  },
  {
   "cell_type": "code",
   "execution_count": 32,
   "metadata": {},
   "outputs": [],
   "source": [
    "def solution1(myStr):\n",
    "    myStr = myStr.replace(\"a\",\" \")\n",
    "    myStr = myStr.replace(\"b\",\" \")\n",
    "    answer = myStr.replace(\"c\",\" \")\n",
    "    answer = answer.split(\" \")\n",
    "    while \"\" in answer:\n",
    "        answer.remove(\"\")\n",
    "    if not answer:\n",
    "        return [\"EMPTY\"]\n",
    "    else:\n",
    "        return answer"
   ]
  },
  {
   "cell_type": "code",
   "execution_count": 41,
   "metadata": {},
   "outputs": [],
   "source": [
    "def solution1_1(myStr):\n",
    "    split_str = myStr.split(\"a\")\n",
    "    result = []\n",
    "    for s in split_str:\n",
    "        if \"b\" in s:\n",
    "            split_b = s.split(\"b\")\n",
    "            for item in split_b:\n",
    "                if \"c\" in item:\n",
    "                    result.extend(item.split(\"c\"))\n",
    "                else:\n",
    "                    result.append(item)\n",
    "        elif \"c\" in s:\n",
    "            result.extend(s.split(\"c\"))\n",
    "        else:\n",
    "            result.append(s)\n",
    "    result = [item for item in result if item]\n",
    "    return result if result else [\"EMPTY\"]\n"
   ]
  },
  {
   "cell_type": "code",
   "execution_count": 33,
   "metadata": {},
   "outputs": [
    {
     "name": "stdout",
     "output_type": "stream",
     "text": [
      "['b', 'conlettucetom', 'to'] ['', 'aconlettucetomato'] ['ba', 'onlettu', 'etomato']\n"
     ]
    }
   ],
   "source": [
    "test = \"baconlettucetomato\"\n",
    "test2 = \"abcd\"\n",
    "test3 = \"cabab\"\n",
    "a = test.split(\"a\")\n",
    "b = test.split(\"b\")\n",
    "c = test.split(\"c\")\n",
    "print(a,b,c)"
   ]
  },
  {
   "cell_type": "code",
   "execution_count": 34,
   "metadata": {},
   "outputs": [
    {
     "data": {
      "text/plain": [
       "['onlettu', 'etom', 'to']"
      ]
     },
     "execution_count": 34,
     "metadata": {},
     "output_type": "execute_result"
    }
   ],
   "source": [
    "solution1(test)"
   ]
  },
  {
   "cell_type": "code",
   "execution_count": 42,
   "metadata": {},
   "outputs": [
    {
     "data": {
      "text/plain": [
       "['onlettu', 'etom', 'to']"
      ]
     },
     "execution_count": 42,
     "metadata": {},
     "output_type": "execute_result"
    }
   ],
   "source": [
    "solution1_1(test)"
   ]
  },
  {
   "cell_type": "code",
   "execution_count": 35,
   "metadata": {},
   "outputs": [
    {
     "data": {
      "text/plain": [
       "['d']"
      ]
     },
     "execution_count": 35,
     "metadata": {},
     "output_type": "execute_result"
    }
   ],
   "source": [
    "solution1(test2)"
   ]
  },
  {
   "cell_type": "code",
   "execution_count": 43,
   "metadata": {},
   "outputs": [
    {
     "data": {
      "text/plain": [
       "['d']"
      ]
     },
     "execution_count": 43,
     "metadata": {},
     "output_type": "execute_result"
    }
   ],
   "source": [
    "solution1_1(test2)"
   ]
  },
  {
   "cell_type": "code",
   "execution_count": 36,
   "metadata": {},
   "outputs": [
    {
     "data": {
      "text/plain": [
       "['EMPTY']"
      ]
     },
     "execution_count": 36,
     "metadata": {},
     "output_type": "execute_result"
    }
   ],
   "source": [
    "solution1(test3)"
   ]
  },
  {
   "cell_type": "code",
   "execution_count": 44,
   "metadata": {},
   "outputs": [
    {
     "data": {
      "text/plain": [
       "['EMPTY']"
      ]
     },
     "execution_count": 44,
     "metadata": {},
     "output_type": "execute_result"
    }
   ],
   "source": [
    "solution1_1(test3)"
   ]
  },
  {
   "cell_type": "code",
   "execution_count": 37,
   "metadata": {},
   "outputs": [
    {
     "name": "stdout",
     "output_type": "stream",
     "text": [
      "baconlettucetomato\n"
     ]
    }
   ],
   "source": [
    "a = \"\"\n",
    "for i in test:\n",
    "    a += i\n",
    "print(a)"
   ]
  },
  {
   "cell_type": "code",
   "execution_count": 16,
   "metadata": {},
   "outputs": [
    {
     "data": {
      "text/plain": [
       "'conlettucetomato'"
      ]
     },
     "execution_count": 16,
     "metadata": {},
     "output_type": "execute_result"
    }
   ],
   "source": [
    "test[2:]"
   ]
  },
  {
   "cell_type": "code",
   "execution_count": 25,
   "metadata": {},
   "outputs": [
    {
     "data": {
      "text/plain": [
       "['onlettu', 'etom', 'to']"
      ]
     },
     "execution_count": 25,
     "metadata": {},
     "output_type": "execute_result"
    }
   ],
   "source": [
    "b = test.replace(\"a\",\" \")\n",
    "c = b.replace(\"b\",\" \")\n",
    "answer = c.replace(\"c\",\" \")\n",
    "answer = answer.split(\" \")\n",
    "while \"\" in answer:\n",
    "    answer.remove(\"\")\n",
    "answer"
   ]
  },
  {
   "cell_type": "code",
   "execution_count": 38,
   "metadata": {},
   "outputs": [
    {
     "name": "stdout",
     "output_type": "stream",
     "text": [
      "o\n",
      "n\n",
      "l\n",
      "e\n",
      "t\n",
      "t\n",
      "u\n",
      "c\n",
      "e\n",
      "t\n",
      "o\n",
      "m\n",
      "a\n",
      "t\n",
      "o\n"
     ]
    }
   ],
   "source": [
    "for i in test[3:]:\n",
    "    print(i)"
   ]
  },
  {
   "cell_type": "markdown",
   "metadata": {},
   "source": [
    "### Q2. 배열의 원소만큼 추가하기\n",
    "#### 문제 설명\n",
    "아무 원소도 들어있지 않은 빈 배열 X가 있습니다. 양의 정수 배열 arr가 매개변수로 주어질 때, arr의 앞에서부터 차례대로 원소를 보면서 원소가 a라면 X의 맨 뒤에 a를 a번 추가하는 일을 반복한 뒤의 배열 X를 return 하는 solution 함수를 작성해 주세요.  \n",
    "  \n",
    "arr\tresult  \n",
    "[5, 1, 4]\t[5, 5, 5, 5, 5, 1, 4, 4, 4, 4]  \n",
    "[6, 6]\t[6, 6, 6, 6, 6, 6, 6, 6, 6, 6, 6, 6]  \n",
    "[1]\t[1]  "
   ]
  },
  {
   "cell_type": "code",
   "execution_count": 45,
   "metadata": {},
   "outputs": [],
   "source": [
    "def solution2(arr):\n",
    "    answer = []\n",
    "    for i in arr:\n",
    "        for l in range(i):\n",
    "            answer.append(i)\n",
    "    return answer"
   ]
  },
  {
   "cell_type": "code",
   "execution_count": 46,
   "metadata": {},
   "outputs": [
    {
     "data": {
      "text/plain": [
       "[5, 5, 5, 5, 5, 1, 4, 4, 4, 4]"
      ]
     },
     "execution_count": 46,
     "metadata": {},
     "output_type": "execute_result"
    }
   ],
   "source": [
    "arr1 = [5, 1, 4]\n",
    "arr2 = [6, 6]\n",
    "arr3 = [1]\n",
    "solution2(arr1)"
   ]
  },
  {
   "cell_type": "markdown",
   "metadata": {},
   "source": [
    "### Q3. 빈 배열에 추가, 삭제하기\n",
    "#### 문제 설명\n",
    "아무 원소도 들어있지 않은 빈 배열 X가 있습니다. 길이가 같은 정수 배열 arr과 boolean 배열 flag가 매개변수로 주어질 때, flag를 차례대로 순회하며 flag[i]가 true라면 X의 뒤에 arr[i]를 arr[i] × 2 번 추가하고, flag[i]가 false라면 X에서 마지막 arr[i]개의 원소를 제거한 뒤 X를 return 하는 solution 함수를 작성해 주세요.  \n",
    "  \n",
    "arr\tflag\tresult  \n",
    "[3, 2, 4, 1, 3]\t[true, false, true, false, false]\t[3, 3, 3, 3, 4, 4, 4, 4]  "
   ]
  },
  {
   "cell_type": "code",
   "execution_count": 49,
   "metadata": {},
   "outputs": [],
   "source": [
    "def solution3(arr, flag):\n",
    "    answer = []\n",
    "    for i in range(len(arr)):\n",
    "        if flag[i] == True:\n",
    "            for l in range(arr[i]*2):\n",
    "                answer.append(arr[i])\n",
    "        elif flag[i] == False:\n",
    "            for l in range(arr[i]):\n",
    "                answer.pop()\n",
    "    return answer"
   ]
  },
  {
   "cell_type": "code",
   "execution_count": 50,
   "metadata": {},
   "outputs": [
    {
     "data": {
      "text/plain": [
       "[3, 3, 3, 3, 4, 4, 4, 4]"
      ]
     },
     "execution_count": 50,
     "metadata": {},
     "output_type": "execute_result"
    }
   ],
   "source": [
    "aa = [3, 2, 4, 1, 3]\n",
    "fl = [True, False, True, False, False]\n",
    "solution3(aa,fl)"
   ]
  },
  {
   "cell_type": "markdown",
   "metadata": {},
   "source": [
    "### Q4. 배열 만들기 6\n",
    "#### 문제 설명\n",
    "0과 1로만 이루어진 정수 배열 arr가 주어집니다. arr를 이용해 새로운 배열 stk을 만드려고 합니다.\n",
    "i의 초기값을 0으로 설정하고 i가 arr의 길이보다 작으면 다음을 반복합니다.\n",
    "  \n",
    "- 만약 stk이 빈 배열이라면 arr[i]를 stk에 추가하고 i에 1을 더합니다.\n",
    "- stk에 원소가 있고, stk의 마지막 원소가 arr[i]와 같으면 stk의 마지막 원소를 stk에서 제거하고 i에 1을 더합니다.\n",
    "- stk에 원소가 있는데 stk의 마지막 원소가 arr[i]와 다르면 stk의 맨 마지막에 arr[i]를 추가하고 i에 1을 더합니다.\n",
    "  \n",
    "위 작업을 마친 후 만들어진 stk을 return 하는 solution 함수를 완성해 주세요.  \n",
    "단, 만약 빈 배열을 return 해야한다면 [-1]을 return 합니다.  \n",
    "  \n",
    "arr\tresult  \n",
    "[0, 1, 1, 1, 0]\t[0, 1, 0]   \n",
    "[0, 1, 0, 1, 0]\t[0, 1, 0, 1, 0]    \n",
    "[0, 1, 1, 0]\t[-1]   "
   ]
  },
  {
   "cell_type": "code",
   "execution_count": 51,
   "metadata": {},
   "outputs": [],
   "source": [
    "def solutio4(arr):\n",
    "    answer = []\n",
    "    i = 0\n",
    "    while i != len(arr):\n",
    "        if not answer:\n",
    "            answer.append(arr[i])\n",
    "            i += 1\n",
    "        elif answer[-1] == arr[i]:\n",
    "            answer.pop()\n",
    "            i += 1\n",
    "        elif answer[-1] != arr[i]:\n",
    "            answer.append(arr[i])\n",
    "            i += 1\n",
    "    if not answer:\n",
    "        return [-1]\n",
    "    else:\n",
    "        return answer"
   ]
  },
  {
   "cell_type": "code",
   "execution_count": 52,
   "metadata": {},
   "outputs": [],
   "source": [
    "a1 = [0, 1, 1, 1, 0]\n",
    "a2 = [0, 1, 0, 1, 0]\n",
    "a3 = [0, 1, 1, 0]"
   ]
  },
  {
   "cell_type": "code",
   "execution_count": 53,
   "metadata": {},
   "outputs": [
    {
     "data": {
      "text/plain": [
       "[0, 1, 0]"
      ]
     },
     "execution_count": 53,
     "metadata": {},
     "output_type": "execute_result"
    }
   ],
   "source": [
    "solutio4(a1)"
   ]
  },
  {
   "cell_type": "code",
   "execution_count": 54,
   "metadata": {},
   "outputs": [
    {
     "data": {
      "text/plain": [
       "[0, 1, 0, 1, 0]"
      ]
     },
     "execution_count": 54,
     "metadata": {},
     "output_type": "execute_result"
    }
   ],
   "source": [
    "solutio4(a2)"
   ]
  },
  {
   "cell_type": "code",
   "execution_count": 55,
   "metadata": {},
   "outputs": [
    {
     "data": {
      "text/plain": [
       "[-1]"
      ]
     },
     "execution_count": 55,
     "metadata": {},
     "output_type": "execute_result"
    }
   ],
   "source": [
    "solutio4(a3)"
   ]
  },
  {
   "cell_type": "markdown",
   "metadata": {},
   "source": [
    "### Q5. 무작위로 K개의 수 뽑기\n",
    "#### 문제 설명\n",
    "랜덤으로 서로 다른 k개의 수를 저장한 배열을 만드려고 합니다. 적절한 방법이 떠오르지 않기 때문에 일정한 범위 내에서 무작위로 수를 뽑은 후, 지금까지 나온적이 없는 수이면 배열 맨 뒤에 추가하는 방식으로 만들기로 합니다.\n",
    "이미 어떤 수가 무작위로 주어질지 알고 있다고 가정하고, 실제 만들어질 길이 k의 배열을 예상해봅시다.\n",
    "정수 배열 arr가 주어집니다. 문제에서의 무작위의 수는 arr에 저장된 순서대로 주어질 예정이라고 했을 때, 완성될 배열을 return 하는 solution 함수를 완성해 주세요.\n",
    "단, 완성될 배열의 길이가 k보다 작으면 나머지 값을 전부 -1로 채워서 return 합니다.  \n",
    "  \n",
    "arr\tk\tresult  \n",
    "[0, 1, 1, 2, 2, 3]\t3\t[0, 1, 2]  \n",
    "[0, 1, 1, 1, 1]\t4\t[0, 1, -1, -1]  "
   ]
  },
  {
   "cell_type": "code",
   "execution_count": 74,
   "metadata": {},
   "outputs": [],
   "source": [
    "def solution5(arr, k):\n",
    "    answer = []\n",
    "    s = list(set(arr))\n",
    "    for i in s[:k]:\n",
    "        if i in answer:  \n",
    "            pass\n",
    "        else:\n",
    "            answer.append(i)\n",
    "    if len(answer) != k:\n",
    "        for i in range(k - len(answer)):\n",
    "            answer.append(-1)\n",
    "    return answer"
   ]
  },
  {
   "cell_type": "code",
   "execution_count": 75,
   "metadata": {},
   "outputs": [],
   "source": [
    "aaa1 = [0, 1, 1, 2, 2, 3]\n",
    "aaa2 = [0, 1, 1, 1, 1]"
   ]
  },
  {
   "cell_type": "code",
   "execution_count": 76,
   "metadata": {},
   "outputs": [
    {
     "data": {
      "text/plain": [
       "[1, 2, 2, 3]"
      ]
     },
     "execution_count": 76,
     "metadata": {},
     "output_type": "execute_result"
    }
   ],
   "source": [
    "aaa1[2:]"
   ]
  },
  {
   "cell_type": "code",
   "execution_count": 77,
   "metadata": {},
   "outputs": [
    {
     "data": {
      "text/plain": [
       "[0, 1, 2]"
      ]
     },
     "execution_count": 77,
     "metadata": {},
     "output_type": "execute_result"
    }
   ],
   "source": [
    "solution5(aaa1,3)"
   ]
  },
  {
   "cell_type": "code",
   "execution_count": 78,
   "metadata": {},
   "outputs": [
    {
     "data": {
      "text/plain": [
       "[0, 1, -1, -1]"
      ]
     },
     "execution_count": 78,
     "metadata": {},
     "output_type": "execute_result"
    }
   ],
   "source": [
    "solution5(aaa2,4)"
   ]
  },
  {
   "cell_type": "code",
   "execution_count": 64,
   "metadata": {},
   "outputs": [
    {
     "data": {
      "text/plain": [
       "1"
      ]
     },
     "execution_count": 64,
     "metadata": {},
     "output_type": "execute_result"
    }
   ],
   "source": [
    "s = list(set(aaa1))\n",
    "s[1]"
   ]
  },
  {
   "cell_type": "code",
   "execution_count": null,
   "metadata": {},
   "outputs": [],
   "source": []
  }
 ],
 "metadata": {
  "kernelspec": {
   "display_name": "py",
   "language": "python",
   "name": "python3"
  },
  "language_info": {
   "codemirror_mode": {
    "name": "ipython",
    "version": 3
   },
   "file_extension": ".py",
   "mimetype": "text/x-python",
   "name": "python",
   "nbconvert_exporter": "python",
   "pygments_lexer": "ipython3",
   "version": "3.8.17"
  }
 },
 "nbformat": 4,
 "nbformat_minor": 2
}
