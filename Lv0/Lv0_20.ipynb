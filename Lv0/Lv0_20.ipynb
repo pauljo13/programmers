{
 "cells": [
  {
   "cell_type": "markdown",
   "metadata": {},
   "source": [
    "# 2023-12-31\n",
    "### Q1. 0 떼기\n",
    "#### 문제 설명\n",
    "수로 이루어진 문자열 n_str이 주어질 때, n_str의 가장 왼쪽에 처음으로 등장하는 0들을 뗀 문자열을 return하도록 solution 함수를 완성해주세요.  \n",
    "  \n",
    "n_str\tresult  \n",
    "\"0010\"\t\"10\"  \n",
    "\"854020\"\t\"854020\"  "
   ]
  },
  {
   "cell_type": "code",
   "execution_count": 3,
   "metadata": {},
   "outputs": [],
   "source": [
    "def solution1(n_str):\n",
    "    for i in range(len(n_str)):\n",
    "        if n_str[i] != \"0\":\n",
    "            return n_str[i:]\n",
    "            break"
   ]
  },
  {
   "cell_type": "code",
   "execution_count": 4,
   "metadata": {},
   "outputs": [
    {
     "name": "stdout",
     "output_type": "stream",
     "text": [
      "0\n",
      "0\n",
      "1\n",
      "0\n"
     ]
    }
   ],
   "source": [
    "x = \"0010\"\n",
    "for i in range(len(x)):\n",
    "    print(x[i])"
   ]
  },
  {
   "cell_type": "code",
   "execution_count": 5,
   "metadata": {},
   "outputs": [
    {
     "data": {
      "text/plain": [
       "'10'"
      ]
     },
     "execution_count": 5,
     "metadata": {},
     "output_type": "execute_result"
    }
   ],
   "source": [
    "solution1(x)"
   ]
  },
  {
   "cell_type": "code",
   "execution_count": 6,
   "metadata": {},
   "outputs": [
    {
     "data": {
      "text/plain": [
       "'854020'"
      ]
     },
     "execution_count": 6,
     "metadata": {},
     "output_type": "execute_result"
    }
   ],
   "source": [
    "solution1(\"854020\")"
   ]
  },
  {
   "cell_type": "markdown",
   "metadata": {},
   "source": [
    "### Q2. 두 수의 합\n",
    "#### 문제 설명\n",
    "0 이상의 두 정수가 문자열 a, b로 주어질 때, a + b의 값을 문자열로 return 하는 solution 함수를 작성해 주세요.  \n",
    "  \n",
    "a\tb\tresult  \n",
    "\"582\"\t\"734\"\t\"1316\"  \n",
    "\"18446744073709551615\"\t\"287346502836570928366\"\t\"305793246910280479981\"  \n",
    "\"0\"\t\"0\"\t\"0\"  "
   ]
  },
  {
   "cell_type": "code",
   "execution_count": 7,
   "metadata": {},
   "outputs": [],
   "source": [
    "def solution2(a, b):\n",
    "    return str(int(a)+int(b))"
   ]
  },
  {
   "cell_type": "code",
   "execution_count": 8,
   "metadata": {},
   "outputs": [
    {
     "data": {
      "text/plain": [
       "'1316'"
      ]
     },
     "execution_count": 8,
     "metadata": {},
     "output_type": "execute_result"
    }
   ],
   "source": [
    "solution2(\"582\",\"734\")"
   ]
  },
  {
   "cell_type": "markdown",
   "metadata": {},
   "source": [
    "### Q3. 문자열로 변환\n",
    "#### 문제 설명\n",
    "정수 n이 주어질 때, n을 문자열로 변환하여 return하도록 solution 함수를 완성해주세요.  \n",
    "  \n",
    "n result  \n",
    "123\t\"123\"  \n",
    "2573\t\"2573\"  "
   ]
  },
  {
   "cell_type": "code",
   "execution_count": null,
   "metadata": {},
   "outputs": [],
   "source": [
    "def solution3(n):\n",
    "    return str(n)"
   ]
  },
  {
   "cell_type": "markdown",
   "metadata": {},
   "source": [
    "### Q4. 배열의 원소 삭제하기\n",
    "#### 문제 설명\n",
    "정수 배열 arr과 delete_list가 있습니다. arr의 원소 중 delete_list의 원소를 모두 삭제하고 남은 원소들은 기존의 arr에 있던 순서를 유지한 배열을 return 하는 solution 함수를 작성해 주세요.  \n",
    "  \n",
    "arr\tdelete_list\tresult  \n",
    "[293, 1000, 395, 678, 94]\t[94, 777, 104, 1000, 1, 12]\t[293, 395, 678]  \n",
    "[110, 66, 439, 785, 1]\t[377, 823, 119, 43]\t[110, 66, 439, 785, 1]  "
   ]
  },
  {
   "cell_type": "code",
   "execution_count": 9,
   "metadata": {},
   "outputs": [],
   "source": [
    "def solution4(arr, delete_list):\n",
    "    for i in arr:\n",
    "        if i in delete_list:\n",
    "            arr.pop(arr.index(i))\n",
    "    return arr"
   ]
  },
  {
   "cell_type": "code",
   "execution_count": 13,
   "metadata": {},
   "outputs": [],
   "source": [
    "def solution4_1(arr, delete_list):\n",
    "    ans = []\n",
    "    for i in arr:\n",
    "        if not i in delete_list:\n",
    "            ans.append(i)\n",
    "    return ans"
   ]
  },
  {
   "cell_type": "code",
   "execution_count": 14,
   "metadata": {},
   "outputs": [],
   "source": [
    "a1 = [293, 1000, 395, 678, 94]\n",
    "d1 = [94, 777, 104, 1000, 1, 12]\n",
    "a2 = [110, 66, 439, 785, 1]\n",
    "d2 = [377, 823, 119, 43]"
   ]
  },
  {
   "cell_type": "code",
   "execution_count": 15,
   "metadata": {},
   "outputs": [
    {
     "data": {
      "text/plain": [
       "[293, 395, 678]"
      ]
     },
     "execution_count": 15,
     "metadata": {},
     "output_type": "execute_result"
    }
   ],
   "source": [
    "solution4(a1,d1)"
   ]
  },
  {
   "cell_type": "code",
   "execution_count": 12,
   "metadata": {},
   "outputs": [
    {
     "data": {
      "text/plain": [
       "[110, 66, 439, 785, 1]"
      ]
     },
     "execution_count": 12,
     "metadata": {},
     "output_type": "execute_result"
    }
   ],
   "source": [
    "solution4(a2,d2)"
   ]
  },
  {
   "cell_type": "markdown",
   "metadata": {},
   "source": [
    "### Q5. 부분 문자열인지 확인하기\n",
    "#### 문제 설명\n",
    "부분 문자열이란 문자열에서 연속된 일부분에 해당하는 문자열을 의미합니다. 예를 들어, 문자열 \"ana\", \"ban\", \"anana\", \"banana\", \"n\"는 모두 문자열 \"banana\"의 부분 문자열이지만, \"aaa\", \"bnana\", \"wxyz\"는 모두 \"banana\"의 부분 문자열이 아닙니다.  \n",
    "  \n",
    "문자열 my_string과 target이 매개변수로 주어질 때, target이 문자열 my_string의 부분 문자열이라면 1을, 아니라면 0을 return 하는 solution 함수를 작성해 주세요.  \n",
    "  \n",
    "my_string\ttarget\tresult  \n",
    "\"banana\"\t\"ana\"\t1  \n",
    "\"banana\"\t\"wxyz\"\t0  "
   ]
  },
  {
   "cell_type": "code",
   "execution_count": 20,
   "metadata": {},
   "outputs": [],
   "source": [
    "def solution5(my_string, target):\n",
    "    answer = 0\n",
    "    if target in my_string:\n",
    "        answer += 1\n",
    "    return answer"
   ]
  },
  {
   "cell_type": "code",
   "execution_count": 22,
   "metadata": {},
   "outputs": [],
   "source": [
    "ms = \"banana\"\n",
    "t = \"ana\"\n",
    "t2 = \"wxyz\""
   ]
  },
  {
   "cell_type": "code",
   "execution_count": 19,
   "metadata": {},
   "outputs": [
    {
     "data": {
      "text/plain": [
       "True"
      ]
     },
     "execution_count": 19,
     "metadata": {},
     "output_type": "execute_result"
    }
   ],
   "source": [
    "t in ms"
   ]
  },
  {
   "cell_type": "code",
   "execution_count": 21,
   "metadata": {},
   "outputs": [
    {
     "data": {
      "text/plain": [
       "1"
      ]
     },
     "execution_count": 21,
     "metadata": {},
     "output_type": "execute_result"
    }
   ],
   "source": [
    "solution5(ms,t)"
   ]
  },
  {
   "cell_type": "code",
   "execution_count": 23,
   "metadata": {},
   "outputs": [
    {
     "data": {
      "text/plain": [
       "0"
      ]
     },
     "execution_count": 23,
     "metadata": {},
     "output_type": "execute_result"
    }
   ],
   "source": [
    "solution5(ms,t2)"
   ]
  },
  {
   "cell_type": "code",
   "execution_count": null,
   "metadata": {},
   "outputs": [],
   "source": []
  }
 ],
 "metadata": {
  "kernelspec": {
   "display_name": "py",
   "language": "python",
   "name": "python3"
  },
  "language_info": {
   "codemirror_mode": {
    "name": "ipython",
    "version": 3
   },
   "file_extension": ".py",
   "mimetype": "text/x-python",
   "name": "python",
   "nbconvert_exporter": "python",
   "pygments_lexer": "ipython3",
   "version": "3.8.17"
  }
 },
 "nbformat": 4,
 "nbformat_minor": 2
}
