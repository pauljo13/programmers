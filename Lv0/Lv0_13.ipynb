{
 "cells": [
  {
   "cell_type": "markdown",
   "metadata": {},
   "source": [
    "# 2023-12-23\n",
    "### Q1. 조건에 맞게 수열 변환하기 1\n",
    "#### 문제 설명\n",
    "정수 배열 arr가 주어집니다. arr의 각 원소에 대해 값이 50보다 크거나 같은 짝수라면 2로 나누고, 50보다 작은 홀수라면 2를 곱합니다. 그 결과인 정수 배열을 return 하는 solution 함수를 완성해 주세요.  \n",
    "\n",
    "arr\tresult  \n",
    "[1, 2, 3, 100, 99, 98]\t[2, 2, 6, 50, 99, 49]  "
   ]
  },
  {
   "cell_type": "code",
   "execution_count": 10,
   "metadata": {},
   "outputs": [],
   "source": [
    "def solution1(arr):\n",
    "    for i in range(len(arr)):\n",
    "        if arr[i] >= 50 and arr[i] % 2 == 0:\n",
    "            arr[i] /= 2\n",
    "        elif arr[i] <= 50 and arr[i] % 2 != 0:\n",
    "            arr[i] *= 2\n",
    "    return arr"
   ]
  },
  {
   "cell_type": "code",
   "execution_count": 11,
   "metadata": {},
   "outputs": [
    {
     "data": {
      "text/plain": [
       "[2, 2, 6, 50.0, 99, 49.0]"
      ]
     },
     "execution_count": 11,
     "metadata": {},
     "output_type": "execute_result"
    }
   ],
   "source": [
    "a = [1, 2, 3, 100, 99, 98]\n",
    "solution1(a)"
   ]
  },
  {
   "cell_type": "markdown",
   "metadata": {},
   "source": [
    "### Q2. 조건에 맞게 수열 변환하기 2\n",
    "#### 문제 설명\n",
    "정수 배열 arr가 주어집니다. arr의 각 원소에 대해 값이 50보다 크거나 같은 짝수라면 2로 나누고, 50보다 작은 홀수라면 2를 곱하고 다시 1을 더합니다.  \n",
    "\n",
    "이러한 작업을 x번 반복한 결과인 배열을 arr(x)라고 표현했을 때, arr(x) = arr(x + 1)인 x가 항상 존재합니다. 이러한 x 중 가장 작은 값을 return 하는 solution 함수를 완성해 주세요.  \n",
    "\n",
    "단, 두 배열에 대한 \"=\"는 두 배열의 크기가 서로 같으며, 같은 인덱스의 원소가 각각 서로 같음을 의미합니다.  \n",
    "\n",
    "arr\tresult  \n",
    "[1, 2, 3, 100, 99, 98]\t5  "
   ]
  },
  {
   "cell_type": "code",
   "execution_count": 110,
   "metadata": {},
   "outputs": [],
   "source": [
    "def solution2(arr):\n",
    "    x = 0\n",
    "    xarr2 = []\n",
    "    xarr2.append(arr)\n",
    "    while x != len(arr):\n",
    "        xarr = []\n",
    "        for i in range(len(arr)):\n",
    "            if arr[i] >= 50 and arr[i]%2 == 0:\n",
    "                xarr.append(arr[i]/2)\n",
    "            elif arr[i] <= 50 and arr[i]%2 != 0:\n",
    "                xarr.append((arr[i]*2)+1)\n",
    "            else:\n",
    "                xarr.append(arr[i])\n",
    "        xarr2.append(xarr)\n",
    "        arr = xarr\n",
    "        if xarr2[x] == xarr2[x+1]:\n",
    "            return x\n",
    "        x += 1"
   ]
  },
  {
   "cell_type": "code",
   "execution_count": 111,
   "metadata": {},
   "outputs": [
    {
     "data": {
      "text/plain": [
       "5"
      ]
     },
     "execution_count": 111,
     "metadata": {},
     "output_type": "execute_result"
    }
   ],
   "source": [
    "b = [1, 2, 3, 100, 99, 98]\n",
    "solution2(b)"
   ]
  },
  {
   "cell_type": "code",
   "execution_count": 95,
   "metadata": {},
   "outputs": [
    {
     "data": {
      "text/plain": [
       "3"
      ]
     },
     "execution_count": 95,
     "metadata": {},
     "output_type": "execute_result"
    }
   ],
   "source": [
    "c = []\n",
    "c.append([63, 2, 63, 51.0, 99, 99.0])\n",
    "c.append([63, 1, 63, 51.0, 99, 99.0])\n",
    "c.append([63, 1, 63, 51.0, 99, 99.0])\n",
    "len(c)"
   ]
  },
  {
   "cell_type": "code",
   "execution_count": 90,
   "metadata": {},
   "outputs": [
    {
     "name": "stdout",
     "output_type": "stream",
     "text": [
      "[1, 10, 3, 12, 5]\n"
     ]
    }
   ],
   "source": [
    "test2 = []\n",
    "ta = [1,2,3,4,5]\n",
    "z = 0\n",
    "while z != 5:\n",
    "    test = []\n",
    "    for i in ta:\n",
    "        if i % 2 == 0:\n",
    "            test.append(i+2)\n",
    "        else:\n",
    "            test.append(i)\n",
    "    test2.append(test)\n",
    "    ta = test\n",
    "    z += 1\n",
    "print(test2[-2])\n"
   ]
  },
  {
   "cell_type": "markdown",
   "metadata": {},
   "source": [
    "### Q3. 1로 만들기\n",
    "#### 문제 설명\n",
    "정수가 있을 때, 짝수라면 반으로 나누고, 홀수라면 1을 뺀 뒤 반으로 나누면, 마지막엔 1이 됩니다. 예를 들어 10이 있다면 다음과 같은 과정으로 1이 됩니다.  \n",
    "\n",
    "- 10 / 2 = 5\n",
    "- (5 - 1) / 2 = 4\n",
    "- 4 / 2 = 2\n",
    "- 2 / 2 = 1\n",
    "위와 같이 4번의 나누기 연산으로 1이 되었습니다.\n",
    "\n",
    "정수들이 담긴 리스트 num_list가 주어질 때, num_list의 모든 원소를 1로 만들기 위해서 필요한 나누기 연산의 횟수를 return하도록 solution 함수를 완성해주세요.  \n",
    "\n",
    "num_list\tresult  \n",
    "[12, 4, 15, 1, 14]\t11  "
   ]
  },
  {
   "cell_type": "code",
   "execution_count": null,
   "metadata": {},
   "outputs": [],
   "source": [
    "def solution3(num_list):\n",
    "    answer = 0\n",
    "    return answer"
   ]
  },
  {
   "cell_type": "markdown",
   "metadata": {},
   "source": [
    "### Q4. 길이에 따른 연산\n",
    "#### 문제 설명\n",
    "정수가 담긴 리스트 num_list가 주어질 때, 리스트의 길이가 11 이상이면 리스트에 있는 모든 원소의 합을 10 이하이면 모든 원소의 곱을 return하도록 solution 함수를 완성해주세요.  \n",
    "\n",
    "num_list\tresult  \n",
    "[3, 4, 5, 2, 5, 4, 6, 7, 3, 7, 2, 2, 1]\t51  \n",
    "[2, 3, 4, 5]\t120  "
   ]
  },
  {
   "cell_type": "markdown",
   "metadata": {},
   "source": [
    "### Q5. 원하는 문자열 찾기\n",
    "#### 문제 설명\n",
    "알파벳으로 이루어진 문자열 myString과 pat이 주어집니다. myString의 연속된 부분 문자열 중 pat이 존재하면 1을 그렇지 않으면 0을 return 하는 solution 함수를 완성해 주세요.\n",
    "\n",
    "단, 알파벳 대문자와 소문자는 구분하지 않습니다.  \n",
    "\n",
    "myString\tpat\treturn  \n",
    "\"AbCdEfG\"\t\"aBc\"\t1  \n",
    "\"aaAA\"\t\"aaaaa\"\t0  "
   ]
  }
 ],
 "metadata": {
  "kernelspec": {
   "display_name": "py",
   "language": "python",
   "name": "python3"
  },
  "language_info": {
   "codemirror_mode": {
    "name": "ipython",
    "version": 3
   },
   "file_extension": ".py",
   "mimetype": "text/x-python",
   "name": "python",
   "nbconvert_exporter": "python",
   "pygments_lexer": "ipython3",
   "version": "3.8.17"
  }
 },
 "nbformat": 4,
 "nbformat_minor": 2
}
