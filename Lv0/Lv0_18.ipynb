{
 "cells": [
  {
   "cell_type": "markdown",
   "metadata": {},
   "source": [
    "# 2023-12-29\n",
    "### Q1. 배열의 길이를 2의 거듭제곱으로 만들기\n",
    "#### 문제 설명\n",
    "정수 배열 arr이 매개변수로 주어집니다. arr의 길이가 2의 정수 거듭제곱이 되도록 arr 뒤에 정수 0을 추가하려고 합니다. arr에 최소한의 개수로 0을 추가한 배열을 return 하는 solution 함수를 작성해 주세요.\n",
    "  \n",
    "arr\tresult  \n",
    "[1, 2, 3, 4, 5, 6]\t[1, 2, 3, 4, 5, 6, 0, 0]  \n",
    "[58, 172, 746, 89]\t[58, 172, 746, 89]  "
   ]
  },
  {
   "cell_type": "code",
   "execution_count": 16,
   "metadata": {},
   "outputs": [],
   "source": [
    "def solution1(arr):\n",
    "    if bin(len(arr)).count(\"1\") == 1:\n",
    "        return arr\n",
    "    else:\n",
    "        while bin(len(arr)).count(\"1\") != 1:\n",
    "            arr.append(0)\n",
    "        return arr"
   ]
  },
  {
   "cell_type": "code",
   "execution_count": 8,
   "metadata": {},
   "outputs": [
    {
     "data": {
      "text/plain": [
       "2"
      ]
     },
     "execution_count": 8,
     "metadata": {},
     "output_type": "execute_result"
    }
   ],
   "source": [
    "test = [1, 2, 3, 4, 5, 6]\n",
    "len(test) % 4"
   ]
  },
  {
   "cell_type": "code",
   "execution_count": 15,
   "metadata": {},
   "outputs": [
    {
     "data": {
      "text/plain": [
       "'110'"
      ]
     },
     "execution_count": 15,
     "metadata": {},
     "output_type": "execute_result"
    }
   ],
   "source": [
    "bin(len(test))[2:]"
   ]
  },
  {
   "cell_type": "code",
   "execution_count": 10,
   "metadata": {},
   "outputs": [
    {
     "name": "stdout",
     "output_type": "stream",
     "text": [
      "1\n",
      "0b1\n",
      "2\n",
      "0b10\n",
      "4\n",
      "0b100\n",
      "8\n",
      "0b1000\n",
      "16\n",
      "0b10000\n",
      "32\n",
      "0b100000\n",
      "64\n",
      "0b1000000\n",
      "128\n",
      "0b10000000\n",
      "256\n",
      "0b100000000\n",
      "512\n",
      "0b1000000000\n"
     ]
    }
   ],
   "source": [
    "for i in range(0,10):\n",
    "    a = 2**i\n",
    "    print(a)\n",
    "    print(bin(a))"
   ]
  },
  {
   "cell_type": "code",
   "execution_count": 17,
   "metadata": {},
   "outputs": [
    {
     "data": {
      "text/plain": [
       "[1, 2, 3, 4, 5, 6, 0, 0]"
      ]
     },
     "execution_count": 17,
     "metadata": {},
     "output_type": "execute_result"
    }
   ],
   "source": [
    "solution1(test)"
   ]
  },
  {
   "cell_type": "markdown",
   "metadata": {},
   "source": [
    "### Q2. 배열 비교하기\n",
    "#### 문제 설명\n",
    "이 문제에서 두 정수 배열의 대소관계를 다음과 같이 정의합니다.  \n",
    "\n",
    "두 배열의 길이가 다르다면, 배열의 길이가 긴 쪽이 더 큽니다.\n",
    "배열의 길이가 같다면 각 배열에 있는 모든 원소의 합을 비교하여 다르다면 더 큰 쪽이 크고, 같다면 같습니다.  \n",
    "두 정수 배열 arr1과 arr2가 주어질 때, 위에서 정의한 배열의 대소관계에 대하여 arr2가 크다면 -1, arr1이 크다면 1, 두 배열이 같다면 0을 return 하는 solution 함수를 작성해 주세요.  \n",
    "\n",
    "arr1\tarr2\tresult  \n",
    "[49, 13]\t[70, 11, 2]\t-1  \n",
    "[100, 17, 84, 1]\t[55, 12, 65, 36]\t1  \n",
    "[1, 2, 3, 4, 5]\t[3, 3, 3, 3, 3]\t0  "
   ]
  },
  {
   "cell_type": "code",
   "execution_count": 44,
   "metadata": {},
   "outputs": [],
   "source": [
    "def solution2(arr1, arr2):\n",
    "    if len(arr1) == len(arr2):\n",
    "        if sum(arr1) == sum(arr2):\n",
    "            return 0\n",
    "        else:\n",
    "            asum = [sum(arr1),sum(arr2)]\n",
    "            return 1 if asum.index(max(asum))==0 else -1\n",
    "    alen = [len(arr1), len(arr2)]\n",
    "    return 1 if alen.index(max(alen))==0 else -1\n",
    "        "
   ]
  },
  {
   "cell_type": "code",
   "execution_count": 18,
   "metadata": {},
   "outputs": [],
   "source": [
    "a1 = [49, 13]\n",
    "a2 = [70, 11, 2]\n",
    "b1 = [100, 17, 84, 1]\n",
    "b2 = [55, 12, 65, 36]\n",
    "c1 = [1, 2, 3, 4, 5]\n",
    "c2 = [3, 3, 3, 3, 3]"
   ]
  },
  {
   "cell_type": "code",
   "execution_count": 47,
   "metadata": {},
   "outputs": [
    {
     "data": {
      "text/plain": [
       "0"
      ]
     },
     "execution_count": 47,
     "metadata": {},
     "output_type": "execute_result"
    }
   ],
   "source": [
    "solution2(c1,c2)"
   ]
  },
  {
   "cell_type": "code",
   "execution_count": 22,
   "metadata": {},
   "outputs": [
    {
     "data": {
      "text/plain": [
       "True"
      ]
     },
     "execution_count": 22,
     "metadata": {},
     "output_type": "execute_result"
    }
   ],
   "source": [
    "len(b1) == len(b2)"
   ]
  },
  {
   "cell_type": "code",
   "execution_count": 43,
   "metadata": {},
   "outputs": [
    {
     "data": {
      "text/plain": [
       "0"
      ]
     },
     "execution_count": 43,
     "metadata": {},
     "output_type": "execute_result"
    }
   ],
   "source": [
    "arr = [sum(b1),sum(b2)]\n",
    "arr.index(max(arr))"
   ]
  },
  {
   "cell_type": "markdown",
   "metadata": {},
   "source": [
    "### Q3. 문자열 묶기\n",
    "#### 문제 설명\n",
    "문자열 배열 strArr이 주어집니다. strArr의 원소들을 길이가 같은 문자열들끼리 그룹으로 묶었을 때 가장 개수가 많은 그룹의 크기를 return 하는 solution 함수를 완성해 주세요.  \n",
    "  \n",
    "strArr\tresult  \n",
    "[\"a\",\"bc\",\"d\",\"efg\",\"hi\"]\t2  "
   ]
  },
  {
   "cell_type": "code",
   "execution_count": null,
   "metadata": {},
   "outputs": [],
   "source": [
    "def solution3(strArr):\n",
    "    answer = 0\n",
    "    return answer"
   ]
  },
  {
   "cell_type": "code",
   "execution_count": 49,
   "metadata": {},
   "outputs": [
    {
     "data": {
      "text/plain": [
       "['a', 'bc', 'd', 'efg', 'hi']"
      ]
     },
     "execution_count": 49,
     "metadata": {},
     "output_type": "execute_result"
    }
   ],
   "source": [
    "sta = [\"a\",\"bc\",\"d\",\"efg\",\"hi\"]\n",
    "for"
   ]
  },
  {
   "cell_type": "markdown",
   "metadata": {},
   "source": [
    "### Q4. 배열의 길이에 따라 다른 연산하기\n",
    "#### 문제 설명\n",
    "정수 배열 arr과 정수 n이 매개변수로 주어집니다. arr의 길이가 홀수라면 arr의 모든 짝수 인덱스 위치에 n을 더한 배열을, arr의 길이가 짝수라면 arr의 모든 홀수 인덱스 위치에 n을 더한 배열을 return 하는 solution 함수를 작성해 주세요.  \n",
    "  \n",
    "arr\tn\tresult  \n",
    "[49, 12, 100, 276, 33]\t27\t[76, 12, 127, 276, 60]  \n",
    "[444, 555, 666, 777]\t100\t[444, 655, 666, 877]  "
   ]
  },
  {
   "cell_type": "markdown",
   "metadata": {},
   "source": [
    "### Q5. 뒤에서 5등까지\n",
    "#### 문제 설명\n",
    "정수로 이루어진 리스트 num_list가 주어집니다. num_list에서 가장 작은 5개의 수를 오름차순으로 담은 리스트를 return하도록 solution 함수를 완성해주세요.\n",
    "\n",
    "  \n",
    "num_list\tresult  \n",
    "[12, 4, 15, 46, 38, 1, 14]\t[1, 4, 12, 14, 15]  "
   ]
  }
 ],
 "metadata": {
  "kernelspec": {
   "display_name": "py",
   "language": "python",
   "name": "python3"
  },
  "language_info": {
   "codemirror_mode": {
    "name": "ipython",
    "version": 3
   },
   "file_extension": ".py",
   "mimetype": "text/x-python",
   "name": "python",
   "nbconvert_exporter": "python",
   "pygments_lexer": "ipython3",
   "version": "3.8.17"
  }
 },
 "nbformat": 4,
 "nbformat_minor": 2
}
