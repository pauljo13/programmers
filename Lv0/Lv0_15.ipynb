{
 "cells": [
  {
   "cell_type": "markdown",
   "metadata": {},
   "source": [
    "# 2023-12-25\n",
    "### Q1. 특정 문자열로 끝나는 가장 긴 부분 문자열 찾기\n",
    "#### 문제 설명\n",
    "문자열 myString과 pat가 주어집니다. myString의 부분 문자열중 pat로 끝나는 가장 긴 부분 문자열을 찾아서 return 하는 solution 함수를 완성해 주세요.  \n",
    "  \n",
    "myString\tpat\tresult  \n",
    "\"AbCdEFG\"\t\"dE\"\t\"AbCdE\"  \n",
    "\"AAAAaaaa\"\t\"a\"\t\"AAAAaaaa\"  "
   ]
  },
  {
   "cell_type": "code",
   "execution_count": 44,
   "metadata": {},
   "outputs": [],
   "source": [
    "def solution1(myString, pat):\n",
    "    index = myString[::-1].find(pat)\n",
    "    if index != -1:\n",
    "        real_index = len(myString) - 1 - index + len(pat)\n",
    "    else:\n",
    "        real_index = -1 * len(pat)\n",
    "    return myString[:real_index]"
   ]
  },
  {
   "cell_type": "code",
   "execution_count": 81,
   "metadata": {},
   "outputs": [],
   "source": [
    "def solution1_1(myString, pat):\n",
    "    if myString.endswith(pat):\n",
    "        return myString\n",
    "    else:\n",
    "        index = len(myString) - myString[::-1].find(pat[::-1])\n",
    "        return myString[:index]"
   ]
  },
  {
   "cell_type": "code",
   "execution_count": 82,
   "metadata": {},
   "outputs": [
    {
     "data": {
      "text/plain": [
       "'ABC1cABC'"
      ]
     },
     "execution_count": 82,
     "metadata": {},
     "output_type": "execute_result"
    }
   ],
   "source": [
    "t = \"ABC1cABC2cAB\"\n",
    "pt = \"ABC\"\n",
    "solution1_1(t,pt)"
   ]
  },
  {
   "cell_type": "code",
   "execution_count": 54,
   "metadata": {},
   "outputs": [
    {
     "data": {
      "text/plain": [
       "'AbCdE'"
      ]
     },
     "execution_count": 54,
     "metadata": {},
     "output_type": "execute_result"
    }
   ],
   "source": [
    "solution1_1(test,p)"
   ]
  },
  {
   "cell_type": "code",
   "execution_count": 42,
   "metadata": {},
   "outputs": [
    {
     "name": "stdout",
     "output_type": "stream",
     "text": [
      "-2\n"
     ]
    }
   ],
   "source": [
    "test = \"AbCdEFG\"\n",
    "p = \"dE\"\n",
    "index = test[::-1].find(p)\n",
    "if index != -1:\n",
    "    real_index = len(test) - 1 - index\n",
    "else:\n",
    "    real_index = -1 * len(p)\n",
    "\n",
    "print(real_index)"
   ]
  },
  {
   "cell_type": "code",
   "execution_count": 45,
   "metadata": {},
   "outputs": [
    {
     "data": {
      "text/plain": [
       "'AbCdE'"
      ]
     },
     "execution_count": 45,
     "metadata": {},
     "output_type": "execute_result"
    }
   ],
   "source": [
    "solution1(test,p)"
   ]
  },
  {
   "cell_type": "code",
   "execution_count": 41,
   "metadata": {},
   "outputs": [
    {
     "data": {
      "text/plain": [
       "'AbCdE'"
      ]
     },
     "execution_count": 41,
     "metadata": {},
     "output_type": "execute_result"
    }
   ],
   "source": [
    "test[:-2].endswith"
   ]
  },
  {
   "cell_type": "code",
   "execution_count": 50,
   "metadata": {},
   "outputs": [
    {
     "name": "stdout",
     "output_type": "stream",
     "text": [
      "AAAAaaaa\n"
     ]
    }
   ],
   "source": [
    "test2 = \"AAAAaaaa\"\n",
    "p2 = \"a\"\n",
    "index = test2[::-1].find(p2)\n",
    "if index != -1:\n",
    "    real_index = len(test2) - 1 - index + len(p2)\n",
    "else:\n",
    "    real_index = -1\n",
    "\n",
    "print(test2[:real_index])"
   ]
  },
  {
   "cell_type": "markdown",
   "metadata": {},
   "source": [
    "### Q2. 문자열이 몇 번 등장하는지 세기\n",
    "#### 문제 설명\n",
    "문자열 myString과 pat이 주어집니다. myString에서 pat이 등장하는 횟수를 return 하는 solution 함수를 완성해 주세요.  \n",
    "\n",
    "myString\tpat\tresult  \n",
    "\"banana\"\t\"ana\"\t2  \n",
    "\"aaaa\"\t\"aa\"\t3  "
   ]
  },
  {
   "cell_type": "code",
   "execution_count": 90,
   "metadata": {},
   "outputs": [],
   "source": [
    "def solution2(myString, pat):\n",
    "    ml = []\n",
    "    for i in range(len(myString)):\n",
    "        l = i + len(pat)\n",
    "        ml.append(myString[i:l])\n",
    "    return ml.count(pat)"
   ]
  },
  {
   "cell_type": "code",
   "execution_count": 89,
   "metadata": {},
   "outputs": [
    {
     "name": "stdout",
     "output_type": "stream",
     "text": [
      "2\n"
     ]
    }
   ],
   "source": [
    "ms = \"banana\"\n",
    "p = \"ana\"\n",
    "ml = []\n",
    "for i in range(len(ms)):\n",
    "    l = i + len(p)\n",
    "    ml.append(ms[i:l])\n",
    "print(ml.count)"
   ]
  },
  {
   "cell_type": "markdown",
   "metadata": {},
   "source": [
    "### Q3. ad 제거하기\n",
    "#### 문제 설명\n",
    "문자열 배열 strArr가 주어집니다. 배열 내의 문자열 중 \"ad\"라는 부분 문자열을 포함하고 있는 모든 문자열을 제거하고 남은 문자열을 순서를 유지하여 배열로 return 하는 solution 함수를 완성해 주세요.  \n",
    "  \n",
    "\n",
    "strArr\tresult\n",
    "[\"and\",\"notad\",\"abcd\"]\t[\"and\",\"abcd\"]\n",
    "[\"there\",\"are\",\"no\",\"a\",\"ds\"]\t[\"there\",\"are\",\"no\",\"a\",\"ds\"]"
   ]
  },
  {
   "cell_type": "code",
   "execution_count": null,
   "metadata": {},
   "outputs": [],
   "source": [
    "def solution3(strArr):\n",
    "    answer = []\n",
    "    return answer"
   ]
  },
  {
   "cell_type": "markdown",
   "metadata": {},
   "source": [
    "### Q4. \n",
    "#### 문제 설명"
   ]
  },
  {
   "cell_type": "code",
   "execution_count": null,
   "metadata": {},
   "outputs": [],
   "source": []
  },
  {
   "cell_type": "markdown",
   "metadata": {},
   "source": [
    "### Q5. \n",
    "#### 문제 설명"
   ]
  },
  {
   "cell_type": "code",
   "execution_count": null,
   "metadata": {},
   "outputs": [],
   "source": []
  }
 ],
 "metadata": {
  "kernelspec": {
   "display_name": "py",
   "language": "python",
   "name": "python3"
  },
  "language_info": {
   "codemirror_mode": {
    "name": "ipython",
    "version": 3
   },
   "file_extension": ".py",
   "mimetype": "text/x-python",
   "name": "python",
   "nbconvert_exporter": "python",
   "pygments_lexer": "ipython3",
   "version": "3.8.17"
  }
 },
 "nbformat": 4,
 "nbformat_minor": 2
}
