{
 "cells": [
  {
   "cell_type": "markdown",
   "metadata": {},
   "source": [
    "# 2023-12-14\n",
    "### Q1. 리스트 자르기\n",
    "#### 문제 설명\n",
    "정수 n과 정수 3개가 담긴 리스트 slicer 그리고 정수 여러 개가 담긴 리스트 num_list가 주어집니다.  \n",
    "slicer에 담긴 정수를 차례대로 a, b, c라고 할 때, n에 따라 다음과 같이 num_list를 슬라이싱 하려고 합니다.  \n",
    "- n = 1 : num_list의 0번 인덱스부터 b번 인덱스까지\n",
    "- n = 2 : num_list의 a번 인덱스부터 마지막 인덱스까지\n",
    "- n = 3 : num_list의 a번 인덱스부터 b번 인덱스까지\n",
    "- n = 4 : num_list의 a번 인덱스부터 b번 인덱스까지 c 간격으로\n",
    "올바르게 슬라이싱한 리스트를 return하도록 solution 함수를 완성해주세요.  \n",
    "\n",
    "n\tslicer\tnum_list\tresult  \n",
    "3\t[1, 5, 2]\t[1, 2, 3, 4, 5, 6, 7, 8, 9]\t[2, 3, 4, 5, 6]  \n",
    "4\t[1, 5, 2]\t[1, 2, 3, 4, 5, 6, 7, 8, 9]\t[2, 4, 6]  "
   ]
  },
  {
   "cell_type": "code",
   "execution_count": null,
   "metadata": {},
   "outputs": [],
   "source": [
    "def solution1(n, slicer, num_list):\n",
    "    if n == 1:\n",
    "        answer = num_list[0:slicer[1]+1]\n",
    "    elif n == 2:\n",
    "        answer = num_list[slicer[0]:]\n",
    "    elif n == 3:\n",
    "        answer = num_list[slicer[0]:slicer[1]+1]\n",
    "    else:\n",
    "        answer = num_list[slicer[0]:slicer[1]+1:slicer[2]]\n",
    "    return answer"
   ]
  },
  {
   "cell_type": "code",
   "execution_count": null,
   "metadata": {},
   "outputs": [],
   "source": [
    "solution1(4,[1, 5, 2],[1, 2, 3, 4, 5, 6, 7, 8, 9])"
   ]
  },
  {
   "cell_type": "code",
   "execution_count": null,
   "metadata": {},
   "outputs": [],
   "source": [
    "def solution1_1(n, slicer, num_list):\n",
    "    start = slicer[0] if n != 1 else 0\n",
    "    end = slicer[1] + 1 if n in [1, 3, 4] else None\n",
    "    step = slicer[2] if n != 3 else None\n",
    "    return num_list[start:end:step]"
   ]
  },
  {
   "cell_type": "code",
   "execution_count": null,
   "metadata": {},
   "outputs": [],
   "source": [
    "solution1_1(4,[1, 5, 2],[1, 2, 3, 4, 5, 6, 7, 8, 9])"
   ]
  },
  {
   "cell_type": "markdown",
   "metadata": {},
   "source": [
    "### Q2. 첫 번째로 나오는 음수\n",
    "#### 문제 설명\n",
    "정수 리스트 num_list가 주어질 때, 첫 번째로 나오는 음수의 인덱스를 return하도록 solution 함수를 완성해주세요. 음수가 없다면 -1을 return합니다.  \n",
    "  \n",
    "num_list\tresult  \n",
    "[12, 4, 15, 46, 38, -2, 15]\t5  \n",
    "[13, 22, 53, 24, 15, 6]\t-1  "
   ]
  },
  {
   "cell_type": "code",
   "execution_count": null,
   "metadata": {},
   "outputs": [],
   "source": [
    "def solution2(num_list):\n",
    "    answer = -1\n",
    "    for i in num_list:\n",
    "        if i < 0:\n",
    "            answer = num_list.index(i)\n",
    "            break\n",
    "    return answer"
   ]
  },
  {
   "cell_type": "code",
   "execution_count": null,
   "metadata": {},
   "outputs": [],
   "source": [
    "solution2([12, 4, 15, 46, 38, -2, 15])"
   ]
  },
  {
   "cell_type": "code",
   "execution_count": null,
   "metadata": {},
   "outputs": [],
   "source": [
    "test = [12, 4, 15, 46, 38, -2, 15]\n",
    "for i in test:\n",
    "    if i < 0:\n",
    "        print(test.index(i))\n",
    "    else:\n",
    "        print(-1)\n"
   ]
  },
  {
   "cell_type": "code",
   "execution_count": null,
   "metadata": {},
   "outputs": [],
   "source": [
    "for i,val in enumerate([12, 4, 15, 46, 38, -2, 15]):\n",
    "    print(i,val)"
   ]
  },
  {
   "cell_type": "markdown",
   "metadata": {},
   "source": [
    "### Q3. 배열 만들기 3\n",
    "#### 문제 설명\n",
    "정수 배열 arr와 2개의 구간이 담긴 배열 intervals가 주어집니다.  \n",
    "intervals는 항상 [[a1, b1], [a2, b2]]의 꼴로 주어지며 각 구간은 닫힌 구간입니다. 닫힌 구간은 양 끝값과 그 사이의 값을 모두 포함하는 구간을 의미합니다.  \n",
    "이때 배열 arr의 첫 번째 구간에 해당하는 배열과 두 번째 구간에 해당하는 배열을 앞뒤로 붙여 새로운 배열을 만들어 return 하는 solution 함수를 완성해 주세요.  \n",
    "\n",
    "arr\tintervals\tresult  \n",
    "[1, 2, 3, 4, 5]\t[[1, 3], [0, 4]]\t[2, 3, 4, 1, 2, 3, 4, 5]  "
   ]
  },
  {
   "cell_type": "code",
   "execution_count": null,
   "metadata": {},
   "outputs": [],
   "source": [
    "def solution3(arr, intervals):\n",
    "    answer = []\n",
    "    for s,e in intervals:\n",
    "        answer.extend(arr[s:e+1])\n",
    "    return answer"
   ]
  },
  {
   "cell_type": "code",
   "execution_count": null,
   "metadata": {},
   "outputs": [],
   "source": [
    "a = [1, 2, 3, 4, 5]\n",
    "i = [[1, 3], [0, 4]]\n",
    "solution3(a,i)"
   ]
  },
  {
   "cell_type": "markdown",
   "metadata": {},
   "source": [
    "### Q4. 2의 영역\n",
    "#### 문제 설명\n",
    "정수 배열 arr가 주어집니다. 배열 안의 2가 모두 포함된 가장 작은 연속된 부분 배열을 return 하는 solution 함수를 완성해 주세요.  \n",
    "단, arr에 2가 없는 경우 [-1]을 return 합니다.  \n",
    "\n",
    "arr\tresult  \n",
    "[1, 2, 1, 4, 5, 2, 9]\t[2, 1, 4, 5, 2]  \n",
    "[1, 2, 1]\t[2]  \n",
    "[1, 1, 1]\t[-1]  \n",
    "[1, 2, 1, 2, 1, 10, 2, 1]\t[2, 1, 2, 1, 10, 2]  "
   ]
  },
  {
   "cell_type": "code",
   "execution_count": null,
   "metadata": {},
   "outputs": [],
   "source": [
    "def solution4(arr):\n",
    "    answer = []\n",
    "    if 2 in arr:\n",
    "        ind = [i for i,val in enumerate(arr) if val == 2]\n",
    "        start = min(ind)\n",
    "        end = max(ind) if arr.count(2) >= 2 else start+1\n",
    "        answer.extend(arr[start:end])\n",
    "    else:\n",
    "        answer.append(-1)\n",
    "    return answer"
   ]
  },
  {
   "cell_type": "code",
   "execution_count": null,
   "metadata": {},
   "outputs": [],
   "source": [
    "a = [1, 2, 1, 4, 5, 2, 9]\n",
    "b = [1, 2, 1]\n",
    "s = a.index(2)\n",
    "e = a.index(2)\n",
    "e"
   ]
  },
  {
   "cell_type": "code",
   "execution_count": null,
   "metadata": {},
   "outputs": [],
   "source": [
    "solution4(b)"
   ]
  },
  {
   "cell_type": "code",
   "execution_count": null,
   "metadata": {},
   "outputs": [],
   "source": [
    "s = b.index(2)\n",
    "b.index(2,s+1)"
   ]
  },
  {
   "cell_type": "code",
   "execution_count": null,
   "metadata": {},
   "outputs": [],
   "source": [
    "[i for i,val in enumerate(a) if val == 2]"
   ]
  },
  {
   "cell_type": "code",
   "execution_count": null,
   "metadata": {},
   "outputs": [],
   "source": [
    "# def solution(arr):\n",
    "#     if 2 not in arr:\n",
    "#         return [-1]\n",
    "#     return arr[arr.index(2) : len(arr) - arr[::-1].index(2)]\n"
   ]
  },
  {
   "cell_type": "markdown",
   "metadata": {},
   "source": [
    "### Q5. 배열 조각하기\n",
    "#### 문제 설명\n",
    "정수 배열 arr와 query가 주어집니다.  \n",
    "query를 순회하면서 다음 작업을 반복합니다.  \n",
    "짝수 인덱스에서는 arr에서 query[i]번 인덱스를 제외하고 배열의 query[i]번 인덱스 뒷부분을 잘라서 버립니다.  \n",
    "홀수 인덱스에서는 arr에서 query[i]번 인덱스는 제외하고 배열의 query[i]번 인덱스 앞부분을 잘라서 버립니다.  \n",
    "위 작업을 마친 후 남은 arr의 부분 배열을 return 하는 solution 함수를 완성해 주세요.  \n",
    "  \n",
    "arr\tquery\tresult  \n",
    "[0, 1, 2, 3, 4, 5]\t[4, 1, 2]\t[1, 2, 3]  "
   ]
  },
  {
   "cell_type": "code",
   "execution_count": 167,
   "metadata": {},
   "outputs": [],
   "source": [
    "def solution5(arr, query):\n",
    "    for i,q in enumerate(query):\n",
    "        if i % 2 == 0:\n",
    "            arr = arr[:q+1]\n",
    "        else:\n",
    "            arr = arr[q:]\n",
    "    return arr"
   ]
  },
  {
   "cell_type": "code",
   "execution_count": 163,
   "metadata": {},
   "outputs": [],
   "source": [
    "ar = [0, 1, 2, 3, 4, 5]\n",
    "qu = [4, 1, 2]"
   ]
  },
  {
   "cell_type": "code",
   "execution_count": 156,
   "metadata": {},
   "outputs": [
    {
     "name": "stdout",
     "output_type": "stream",
     "text": [
      "[1, 2, 3]\n"
     ]
    }
   ],
   "source": [
    "for i in qu:\n",
    "    if i % 2 == 0:\n",
    "        ar.pop(i+1)\n",
    "    else:\n",
    "        ar.pop(i-1)\n",
    "print(ar)"
   ]
  },
  {
   "cell_type": "code",
   "execution_count": 168,
   "metadata": {},
   "outputs": [
    {
     "data": {
      "text/plain": [
       "[1, 2, 3]"
      ]
     },
     "execution_count": 168,
     "metadata": {},
     "output_type": "execute_result"
    }
   ],
   "source": [
    "solution5(ar,qu)"
   ]
  },
  {
   "cell_type": "code",
   "execution_count": null,
   "metadata": {},
   "outputs": [],
   "source": [
    "4/2"
   ]
  }
 ],
 "metadata": {
  "kernelspec": {
   "display_name": "py",
   "language": "python",
   "name": "python3"
  },
  "language_info": {
   "codemirror_mode": {
    "name": "ipython",
    "version": 3
   },
   "file_extension": ".py",
   "mimetype": "text/x-python",
   "name": "python",
   "nbconvert_exporter": "python",
   "pygments_lexer": "ipython3",
   "version": "3.8.17"
  }
 },
 "nbformat": 4,
 "nbformat_minor": 2
}
