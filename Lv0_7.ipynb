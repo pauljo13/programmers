{
 "cells": [
  {
   "cell_type": "markdown",
   "metadata": {},
   "source": [
    "# 2023-12-09\n",
    "### Q1. 배열 만들기 5\n",
    "#### 문제 설명\n",
    "문자열 배열 intStrs와 정수 k, s, l가 주어집니다. intStrs의 원소는 숫자로 이루어져 있습니다.  \n",
    "\n",
    "배열 intStrs의 각 원소마다 s번 인덱스에서 시작하는 길이 l짜리 부분 문자열을 잘라내 정수로 변환합니다.  이때 변환한 정수값이 k보다 큰 값들을 담은 배열을 return 하는 solution 함수를 완성해 주세요.  \n",
    "\n",
    "intStrs\tk\ts\tl\t-> result  \n",
    "[\"0123456789\",\"9876543210\",\"9999999999999\"]\t50000\t5\t5\t[56789, 99999"
   ]
  },
  {
   "cell_type": "code",
   "execution_count": 2,
   "metadata": {},
   "outputs": [],
   "source": [
    "def solution1(intStrs, k, s, l):\n",
    "    answer = []\n",
    "    for i in intStrs:\n",
    "        if int(i[s:s+l])>k:\n",
    "            answer.append(int(i[s:s+l]))\n",
    "        else:\n",
    "            pass\n",
    "    return answer"
   ]
  },
  {
   "cell_type": "code",
   "execution_count": 1,
   "metadata": {},
   "outputs": [
    {
     "name": "stdout",
     "output_type": "stream",
     "text": [
      "[56789, 99999]\n"
     ]
    }
   ],
   "source": [
    "inst = [\"0123456789\",\"9876543210\",\"9999999999999\"]\n",
    "k = 50000\n",
    "s = 5\n",
    "l = 5\n",
    "answer = []\n",
    "for i in inst:\n",
    "    if int(i[s:s+l])>k:\n",
    "        answer.append(int(i[s:s+l]))\n",
    "    else:\n",
    "        pass\n",
    "print(answer)\n"
   ]
  },
  {
   "cell_type": "markdown",
   "metadata": {},
   "source": [
    "### Q2. 부분 문자열 이어 붙여 문자열 만들기\n",
    "#### 문제 설명\n",
    "길이가 같은 문자열 배열 my_strings와 이차원 정수 배열 parts가 매개변수로 주어집니다.  \n",
    "parts[i]는 [s, e] 형태로, my_string[i]의 인덱스 s부터 인덱스 e까지의 부분 문자열을 의미합니다.  \n",
    "각 my_strings의 원소의 parts에 해당하는 부분 문자열을 순서대로 이어 붙인 문자열을 return 하는 solution 함수를 작성해 주세요.  \n",
    "\n",
    "my_strings\tparts ->\tresult  \n",
    "[\"progressive\", \"hamburger\", \"hammer\", \"ahocorasick\"]\t[[0, 4], [1, 2], [3, 5], [7, 7]] -> \"programmers\""
   ]
  },
  {
   "cell_type": "code",
   "execution_count": null,
   "metadata": {},
   "outputs": [],
   "source": [
    "def solution2(my_strings, parts):\n",
    "    anslist = []\n",
    "    for i in range(len(my_strings)):\n",
    "        a = my_strings[i]\n",
    "        for x,y in [parts[i]]:\n",
    "            anslist.append(a[x:y+1])\n",
    "    answer = ''.join(anslist)\n",
    "    return answer"
   ]
  },
  {
   "cell_type": "code",
   "execution_count": 17,
   "metadata": {},
   "outputs": [
    {
     "name": "stdout",
     "output_type": "stream",
     "text": [
      "programmers\n"
     ]
    }
   ],
   "source": [
    "test = [\"progressive\", \"hamburger\", \"hammer\", \"ahocorasick\"]\n",
    "arr = [[0, 4], [1, 2], [3, 5], [7, 7]]\n",
    "anslist = []\n",
    "for i in range(len(test)):\n",
    "    a = test[i]\n",
    "    for x,y in [arr[i]]:\n",
    "        anslist.append(a[x:y+1])\n",
    "answer = ''.join(anslist)\n",
    "print(answer)"
   ]
  },
  {
   "cell_type": "code",
   "execution_count": 13,
   "metadata": {},
   "outputs": [
    {
     "name": "stdout",
     "output_type": "stream",
     "text": [
      "0 4\n"
     ]
    }
   ],
   "source": [
    "for a,b in [[0,4]]:\n",
    "    print(a,b)"
   ]
  },
  {
   "cell_type": "markdown",
   "metadata": {},
   "source": [
    "### Q3. 문자열의 뒤의 n글자\n",
    "#### 문제 설명\n",
    "문자열 my_string과 정수 n이 매개변수로 주어질 때, my_string의 뒤의 n글자로 이루어진 문자열을 return 하는 solution 함수를 작성해 주세요.  \n",
    "\n",
    "my_string\tn\t-> result  \n",
    "\"ProgrammerS123\"\t11\t\"grammerS123\"\n",
    "\"He110W0r1d\"\t5\t\"W0r1d\""
   ]
  },
  {
   "cell_type": "code",
   "execution_count": 18,
   "metadata": {},
   "outputs": [],
   "source": [
    "def solution3(my_string, n):\n",
    "    answer = my_string[-n:]\n",
    "    return answer"
   ]
  },
  {
   "cell_type": "code",
   "execution_count": 19,
   "metadata": {},
   "outputs": [
    {
     "data": {
      "text/plain": [
       "'grammerS123'"
      ]
     },
     "execution_count": 19,
     "metadata": {},
     "output_type": "execute_result"
    }
   ],
   "source": [
    "solution3(\"ProgrammerS123\",11)"
   ]
  },
  {
   "cell_type": "markdown",
   "metadata": {},
   "source": [
    "### Q4. 접미사 배열\n",
    "#### 문제 설명\n",
    "어떤 문자열에 대해서 접미사는 특정 인덱스부터 시작하는 문자열을 의미합니다.  \n",
    "예를 들어, \"banana\"의 모든 접미사는 \"banana\", \"anana\", \"nana\", \"ana\", \"na\", \"a\"입니다.  \n",
    "문자열 my_string이 매개변수로 주어질 때, my_string의 모든 접미사를 사전순으로 정렬한 문자열 배열을 return 하는 solution 함수를 작성해 주세요.  \n",
    " \n",
    "my_string\tresult  \n",
    "\"banana\"\t[\"a\", \"ana\", \"anana\", \"banana\", \"na\", \"nana\"]  \n",
    "\"programmers\"\t[\"ammers\", \"ers\", \"grammers\", \"mers\", \"mmers\", \"ogrammers\", \"programmers\", \"rammers\", \"rogrammers\", \"rs\", \"s\"]  "
   ]
  },
  {
   "cell_type": "code",
   "execution_count": 2,
   "metadata": {},
   "outputs": [],
   "source": [
    "def solution4(my_string):\n",
    "    return sorted(my_string[i:] for i in range(len(my_string)))"
   ]
  },
  {
   "cell_type": "code",
   "execution_count": 3,
   "metadata": {},
   "outputs": [
    {
     "data": {
      "text/plain": [
       "['a', 'ana', 'anana', 'banana', 'na', 'nana']"
      ]
     },
     "execution_count": 3,
     "metadata": {},
     "output_type": "execute_result"
    }
   ],
   "source": [
    "test2 = \"banana\"\n",
    "solution4(test2)"
   ]
  },
  {
   "cell_type": "markdown",
   "metadata": {},
   "source": [
    "### Q5. 접미사인지 확인하기\n",
    "#### 문제 설명\n",
    "어떤 문자열에 대해서 접미사는 특정 인덱스부터 시작하는 문자열을 의미합니다.  \n",
    "예를 들어, \"banana\"의 모든 접미사는 \"banana\", \"anana\", \"nana\", \"ana\", \"na\", \"a\"입니다.  \n",
    "문자열 my_string과 is_suffix가 주어질 때, is_suffix가 my_string의 접미사라면 1을,  \n",
    "아니면 0을 return 하는 solution 함수를 작성해 주세요.  \n",
    "\n"
   ]
  },
  {
   "cell_type": "code",
   "execution_count": 20,
   "metadata": {},
   "outputs": [],
   "source": [
    "def solution5(my_string, is_suffix):\n",
    "    answer = 0\n",
    "    if my_string.endswith(is_suffix):\n",
    "        answer += 1\n",
    "    return answer"
   ]
  },
  {
   "cell_type": "code",
   "execution_count": 22,
   "metadata": {},
   "outputs": [
    {
     "data": {
      "text/plain": [
       "0"
      ]
     },
     "execution_count": 22,
     "metadata": {},
     "output_type": "execute_result"
    }
   ],
   "source": [
    "a = \"banana\"\n",
    "b = \"nan\"\n",
    "solution5(a,b)"
   ]
  }
 ],
 "metadata": {
  "kernelspec": {
   "display_name": "py",
   "language": "python",
   "name": "python3"
  },
  "language_info": {
   "codemirror_mode": {
    "name": "ipython",
    "version": 3
   },
   "file_extension": ".py",
   "mimetype": "text/x-python",
   "name": "python",
   "nbconvert_exporter": "python",
   "pygments_lexer": "ipython3",
   "version": "3.8.17"
  }
 },
 "nbformat": 4,
 "nbformat_minor": 2
}
