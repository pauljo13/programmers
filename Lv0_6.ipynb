{
 "cells": [
  {
   "cell_type": "markdown",
   "metadata": {},
   "source": [
    "\n",
    "# 2023-12-06\n",
    "## Q1. 간단한 논리 연산\n",
    "### 문제 설명\n",
    "boolean 변수 x1, x2, x3, x4가 매개변수로 주어질 때,  \n",
    "다음의 식의 true/false를 return 하는 solution 함수를 작성해 주세요.\n",
    "ex  \n",
    "(x1 ∨ x2) ∧ (x3 ∨ x4) ≡ (F ∨ T) ∧ (T ∨ T) ≡ T ∧ T ≡ T  \n",
    "(x1 ∨ x2) ∧ (x3 ∨ x4) ≡ (T ∨ F) ∧ (F ∨ F) ≡ T ∧ F ≡ F  "
   ]
  },
  {
   "cell_type": "code",
   "execution_count": 5,
   "metadata": {},
   "outputs": [],
   "source": [
    "def solution1(x1, x2, x3, x4):\n",
    "    x = x1 or x2\n",
    "    y = x3 or x4\n",
    "    answer = x and y\n",
    "    return answer"
   ]
  },
  {
   "cell_type": "code",
   "execution_count": 4,
   "metadata": {},
   "outputs": [
    {
     "data": {
      "text/plain": [
       "True"
      ]
     },
     "execution_count": 4,
     "metadata": {},
     "output_type": "execute_result"
    }
   ],
   "source": [
    "x = True and True\n",
    "x"
   ]
  },
  {
   "cell_type": "code",
   "execution_count": 2,
   "metadata": {},
   "outputs": [
    {
     "data": {
      "text/plain": [
       "True"
      ]
     },
     "execution_count": 2,
     "metadata": {},
     "output_type": "execute_result"
    }
   ],
   "source": [
    "True or False"
   ]
  },
  {
   "cell_type": "code",
   "execution_count": 3,
   "metadata": {},
   "outputs": [
    {
     "data": {
      "text/plain": [
       "False"
      ]
     },
     "execution_count": 3,
     "metadata": {},
     "output_type": "execute_result"
    }
   ],
   "source": [
    "True and False"
   ]
  },
  {
   "cell_type": "markdown",
   "metadata": {},
   "source": [
    "## Q2. 주사위 게임 3\n",
    "### 문제 설명\n",
    "1부터 6까지 숫자가 적힌 주사위가 네 개 있습니다. 네 주사위를 굴렸을 때 나온 숫자에 따라 다음과 같은 점수를 얻습니다.  \n",
    "  \n",
    "- 네 주사위에서 나온 숫자가 모두 p로 같다면 1111 × p점을 얻습니다.\n",
    "- 세 주사위에서 나온 숫자가 p로 같고 나머지 다른 주사위에서 나온 숫자가 q(p ≠ q)라면 (10 × p + q)2 점을 얻습니다.\n",
    "- 주사위가 두 개씩 같은 값이 나오고, 나온 숫자를 각각 p, q(p ≠ q)라고 한다면 (p + q) × |p - q|점을 얻습니다.\n",
    "- 어느 두 주사위에서 나온 숫자가 p로 같고 나머지 두 주사위에서 나온 숫자가 각각 p와 다른 q, r(q ≠ r)이라면 q × r점을 얻습니다.\n",
    "- 네 주사위에 적힌 숫자가 모두 다르다면 나온 숫자 중 가장 작은 숫자 만큼의 점수를 얻습니다.  \n",
    "  \n",
    "네 주사위를 굴렸을 때 나온 숫자가 정수 매개변수 a, b, c, d로 주어질 때, 얻는 점수를 return 하는 solution 함수를 작성해 주세요.\n",
    "\n",
    "ex  \n",
    "a\tb\tc\td -> result  \n",
    "2\t2\t2\t2 -> 2222  \n",
    "4\t1\t4\t4 -> 1681  \n",
    "6\t3\t3\t6 -> 27  \n",
    "2\t5\t2\t6 -> 30  \n",
    "6\t4\t2\t5 -> 2  "
   ]
  },
  {
   "cell_type": "code",
   "execution_count": 34,
   "metadata": {},
   "outputs": [],
   "source": [
    "def solution1(a, b, c, d):\n",
    "    arr = [a,b,c,d]\n",
    "    arrset = list(set(arr))\n",
    "    values = []\n",
    "    for i in arrset:\n",
    "        values.append(arr.count(i))\n",
    "    my_dict = dict(zip(arrset,values))\n",
    "    p = max(my_dict,key=my_dict.get)\n",
    "    if len(arrset)==1:\n",
    "        answer = 1111 * p\n",
    "    elif len(arrset)==2 and arr.count(arrset[0]) != arr.count(arrset[1]):\n",
    "        q = min(my_dict,key=my_dict.get)\n",
    "        answer = (10*p+q)**2\n",
    "    elif len(arrset)==2 and arr.count(arrset[0]) == arr.count(arrset[1]):\n",
    "        arrset.remove(p)\n",
    "        q = arrset[0]\n",
    "        answer = (p + q)*abs(p-q)\n",
    "    elif len(arrset)==3:\n",
    "        arr.remove(p)\n",
    "        answer = arr[0]*arr[1]\n",
    "    else:\n",
    "        answer = min(arr)\n",
    "    return answer"
   ]
  },
  {
   "cell_type": "code",
   "execution_count": 39,
   "metadata": {},
   "outputs": [
    {
     "name": "stdout",
     "output_type": "stream",
     "text": [
      "30\n"
     ]
    }
   ],
   "source": [
    "arr = [2,5,2,6]\n",
    "arrset = list(set(arr))\n",
    "values = []\n",
    "for i in arrset:\n",
    "    values.append(arr.count(i))\n",
    "my_dict = dict(zip(arrset,values))\n",
    "p = max(my_dict,key=my_dict.get)\n",
    "if len(arrset)==1:\n",
    "    answer = 1111 * p\n",
    "elif len(arrset)==2 and arr.count(arrset[0]) != arr.count(arrset[1]):\n",
    "    q = min(my_dict,key=my_dict.get)\n",
    "    answer = (10*p+q)**2\n",
    "elif len(arrset)==2 and arr.count(arrset[0]) == arr.count(arrset[1]):\n",
    "    arrset.remove(p)\n",
    "    q = arrset[0]\n",
    "    answer = (p + q)*abs(p-q)\n",
    "elif len(arrset)==3:\n",
    "    arrset.remove(p)\n",
    "    answer = arrset[0]*arrset[1]\n",
    "else:\n",
    "    answer = min(arr)\n",
    "print(answer)"
   ]
  },
  {
   "cell_type": "code",
   "execution_count": 28,
   "metadata": {},
   "outputs": [
    {
     "data": {
      "text/plain": [
       "1681"
      ]
     },
     "execution_count": 28,
     "metadata": {},
     "output_type": "execute_result"
    }
   ],
   "source": [
    "(10*4+1)**2"
   ]
  },
  {
   "cell_type": "code",
   "execution_count": 1,
   "metadata": {},
   "outputs": [
    {
     "name": "stdout",
     "output_type": "stream",
     "text": [
      "{1, 2, 3, 4, 5}\n"
     ]
    }
   ],
   "source": [
    "my_list = [1, 2, 2, 3, 4, 4, 5]\n",
    "my_set = set(my_list)\n",
    "print(my_set)"
   ]
  },
  {
   "cell_type": "code",
   "execution_count": 20,
   "metadata": {},
   "outputs": [
    {
     "name": "stdout",
     "output_type": "stream",
     "text": [
      "3 3\n"
     ]
    }
   ],
   "source": [
    "li = [3,3,3,3]\n",
    "keys = list(set(li))\n",
    "values = []\n",
    "for i in keys:\n",
    "    values.append(li.count(i))\n",
    "my_dict = dict(zip(keys,values))\n",
    "p = max(my_dict,key=my_dict.get)\n",
    "q = min(my_dict,key=my_dict.get)\n",
    "print(p,q)"
   ]
  },
  {
   "cell_type": "code",
   "execution_count": 15,
   "metadata": {},
   "outputs": [
    {
     "name": "stdout",
     "output_type": "stream",
     "text": [
      "1\n"
     ]
    }
   ],
   "source": [
    "p = 0\n",
    "for i in b:\n",
    "    if a.count(i) > p:\n",
    "        p = i\n",
    "print(p)"
   ]
  },
  {
   "cell_type": "markdown",
   "metadata": {},
   "source": [
    "## Q3. 글자 이어 붙여 문자열 만들기\n",
    "### 문제 설명\n",
    "문자열 my_string과 정수 배열 index_list가 매개변수로 주어집니다.  \n",
    "my_string의 index_list의 원소들에 해당하는 인덱스의 글자들을 순서대로 이어 붙인 문자열을 return 하는 solution 함수를 작성해 주세요.  \n",
    "\n",
    "my_string\tindex_list  ->\tresult  \n",
    "\"cvsgiorszzzmrpaqpe\"\t[16, 6, 5, 3, 12, 14, 11, 11, 17, 12, 7] -> \"programmers\"  \n",
    "\"zpiaz\"\t[1, 2, 0, 0, 3] ->\t\"pizza\"  "
   ]
  },
  {
   "cell_type": "code",
   "execution_count": 53,
   "metadata": {},
   "outputs": [],
   "source": [
    "def solution2(my_string, index_list):\n",
    "    string_list = [i for i in my_string]\n",
    "    answer_list = []\n",
    "    for s in range(len(index_list)):\n",
    "        answer_list.append(string_list[index_list[s]])\n",
    "    answer = ''.join(answer_list)\n",
    "    return answer"
   ]
  },
  {
   "cell_type": "code",
   "execution_count": 54,
   "metadata": {},
   "outputs": [
    {
     "data": {
      "text/plain": [
       "'programmers'"
      ]
     },
     "execution_count": 54,
     "metadata": {},
     "output_type": "execute_result"
    }
   ],
   "source": [
    "a = \"cvsgiorszzzmrpaqpe\"\n",
    "b = [16, 6, 5, 3, 12, 14, 11, 11, 17, 12, 7]\n",
    "solution2(a,b)"
   ]
  },
  {
   "cell_type": "code",
   "execution_count": 50,
   "metadata": {},
   "outputs": [
    {
     "data": {
      "text/plain": [
       "'p'"
      ]
     },
     "execution_count": 50,
     "metadata": {},
     "output_type": "execute_result"
    }
   ],
   "source": [
    "my_list[16]"
   ]
  },
  {
   "cell_type": "markdown",
   "metadata": {},
   "source": [
    "## Q4. 9로 나눈 나머지\n",
    "### 문제 설명"
   ]
  },
  {
   "cell_type": "code",
   "execution_count": null,
   "metadata": {},
   "outputs": [],
   "source": []
  },
  {
   "cell_type": "markdown",
   "metadata": {},
   "source": [
    "## Q5. 문자열 여러 번 뒤집기\n",
    "### 문제 설명"
   ]
  }
 ],
 "metadata": {
  "kernelspec": {
   "display_name": "py",
   "language": "python",
   "name": "python3"
  },
  "language_info": {
   "codemirror_mode": {
    "name": "ipython",
    "version": 3
   },
   "file_extension": ".py",
   "mimetype": "text/x-python",
   "name": "python",
   "nbconvert_exporter": "python",
   "pygments_lexer": "ipython3",
   "version": "3.8.17"
  },
  "orig_nbformat": 4
 },
 "nbformat": 4,
 "nbformat_minor": 2
}
