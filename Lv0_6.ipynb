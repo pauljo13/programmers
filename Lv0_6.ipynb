{
 "cells": [
  {
   "cell_type": "markdown",
   "metadata": {},
   "source": [
    "\n",
    "# 2023-12-06\n",
    "## Q1. 간단한 논리 연산\n",
    "### 문제 설명\n",
    "boolean 변수 x1, x2, x3, x4가 매개변수로 주어질 때,  \n",
    "다음의 식의 true/false를 return 하는 solution 함수를 작성해 주세요.\n",
    "ex  \n",
    "(x1 ∨ x2) ∧ (x3 ∨ x4) ≡ (F ∨ T) ∧ (T ∨ T) ≡ T ∧ T ≡ T  \n",
    "(x1 ∨ x2) ∧ (x3 ∨ x4) ≡ (T ∨ F) ∧ (F ∨ F) ≡ T ∧ F ≡ F  "
   ]
  },
  {
   "cell_type": "code",
   "execution_count": 5,
   "metadata": {},
   "outputs": [],
   "source": [
    "def solution1(x1, x2, x3, x4):\n",
    "    x = x1 or x2\n",
    "    y = x3 or x4\n",
    "    answer = x and y\n",
    "    return answer"
   ]
  },
  {
   "cell_type": "code",
   "execution_count": 4,
   "metadata": {},
   "outputs": [
    {
     "data": {
      "text/plain": [
       "True"
      ]
     },
     "execution_count": 4,
     "metadata": {},
     "output_type": "execute_result"
    }
   ],
   "source": [
    "x = True and True\n",
    "x"
   ]
  },
  {
   "cell_type": "code",
   "execution_count": 2,
   "metadata": {},
   "outputs": [
    {
     "data": {
      "text/plain": [
       "True"
      ]
     },
     "execution_count": 2,
     "metadata": {},
     "output_type": "execute_result"
    }
   ],
   "source": [
    "True or False"
   ]
  },
  {
   "cell_type": "code",
   "execution_count": 3,
   "metadata": {},
   "outputs": [
    {
     "data": {
      "text/plain": [
       "False"
      ]
     },
     "execution_count": 3,
     "metadata": {},
     "output_type": "execute_result"
    }
   ],
   "source": [
    "True and False"
   ]
  },
  {
   "cell_type": "markdown",
   "metadata": {},
   "source": [
    "## Q2. 주사위 게임 3\n",
    "### 문제 설명\n",
    "1부터 6까지 숫자가 적힌 주사위가 네 개 있습니다. 네 주사위를 굴렸을 때 나온 숫자에 따라 다음과 같은 점수를 얻습니다.  \n",
    "  \n",
    "- 네 주사위에서 나온 숫자가 모두 p로 같다면 1111 × p점을 얻습니다.\n",
    "- 세 주사위에서 나온 숫자가 p로 같고 나머지 다른 주사위에서 나온 숫자가 q(p ≠ q)라면 (10 × p + q)2 점을 얻습니다.\n",
    "- 주사위가 두 개씩 같은 값이 나오고, 나온 숫자를 각각 p, q(p ≠ q)라고 한다면 (p + q) × |p - q|점을 얻습니다.\n",
    "- 어느 두 주사위에서 나온 숫자가 p로 같고 나머지 두 주사위에서 나온 숫자가 각각 p와 다른 q, r(q ≠ r)이라면 q × r점을 얻습니다.\n",
    "- 네 주사위에 적힌 숫자가 모두 다르다면 나온 숫자 중 가장 작은 숫자 만큼의 점수를 얻습니다.  \n",
    "  \n",
    "네 주사위를 굴렸을 때 나온 숫자가 정수 매개변수 a, b, c, d로 주어질 때, 얻는 점수를 return 하는 solution 함수를 작성해 주세요.\n",
    "\n",
    "ex  \n",
    "a\tb\tc\td -> result  \n",
    "2\t2\t2\t2 -> 2222  \n",
    "4\t1\t4\t4 -> 1681  \n",
    "6\t3\t3\t6 -> 27  \n",
    "2\t5\t2\t6 -> 30  \n",
    "6\t4\t2\t5 -> 2  "
   ]
  },
  {
   "cell_type": "code",
   "execution_count": null,
   "metadata": {},
   "outputs": [],
   "source": [
    "def solution(a, b, c, d):\n",
    "    answer = 0\n",
    "    return answer"
   ]
  },
  {
   "cell_type": "code",
   "execution_count": 4,
   "metadata": {},
   "outputs": [
    {
     "ename": "TypeError",
     "evalue": "'set' object is not callable",
     "output_type": "error",
     "traceback": [
      "\u001b[0;31m---------------------------------------------------------------------------\u001b[0m",
      "\u001b[0;31mTypeError\u001b[0m                                 Traceback (most recent call last)",
      "\u001b[1;32m/Users/bumsoojoe/Desktop/programmers/Lv0_6.ipynb 셀 8\u001b[0m line \u001b[0;36m2\n\u001b[1;32m      <a href='vscode-notebook-cell:/Users/bumsoojoe/Desktop/programmers/Lv0_6.ipynb#X10sZmlsZQ%3D%3D?line=0'>1</a>\u001b[0m arr \u001b[39m=\u001b[39m [\u001b[39m1\u001b[39m,\u001b[39m2\u001b[39m,\u001b[39m1\u001b[39m,\u001b[39m2\u001b[39m]\n\u001b[0;32m----> <a href='vscode-notebook-cell:/Users/bumsoojoe/Desktop/programmers/Lv0_6.ipynb#X10sZmlsZQ%3D%3D?line=1'>2</a>\u001b[0m arrset \u001b[39m=\u001b[39m \u001b[39mset\u001b[39;49m(arr)\n\u001b[1;32m      <a href='vscode-notebook-cell:/Users/bumsoojoe/Desktop/programmers/Lv0_6.ipynb#X10sZmlsZQ%3D%3D?line=2'>3</a>\u001b[0m p \u001b[39m=\u001b[39m \u001b[39m0\u001b[39m\n\u001b[1;32m      <a href='vscode-notebook-cell:/Users/bumsoojoe/Desktop/programmers/Lv0_6.ipynb#X10sZmlsZQ%3D%3D?line=3'>4</a>\u001b[0m q \u001b[39m=\u001b[39m \u001b[39m0\u001b[39m\n",
      "\u001b[0;31mTypeError\u001b[0m: 'set' object is not callable"
     ]
    }
   ],
   "source": [
    "arr = [1,2,1,2]\n",
    "arrset = set(arr)\n",
    "p = 0\n",
    "q = 0\n",
    "for i in arrset:\n",
    "    if arr.count(i) > p:\n",
    "        p = i\n",
    "print(p,q)\n",
    "if len(arrset)==1:\n",
    "    answer = 1111 * p\n",
    "elif len(arrset)==2:\n",
    "    answer = (10 * p + q)**2\n",
    "elif len(arrset)==3:\n",
    "    answer = (p + q)*abs(p-q)\n",
    "else:\n",
    "    answer = min(arr)"
   ]
  },
  {
   "cell_type": "code",
   "execution_count": 12,
   "metadata": {},
   "outputs": [
    {
     "ename": "TypeError",
     "evalue": "'set' object is not callable",
     "output_type": "error",
     "traceback": [
      "\u001b[0;31m---------------------------------------------------------------------------\u001b[0m",
      "\u001b[0;31mTypeError\u001b[0m                                 Traceback (most recent call last)",
      "\u001b[1;32m/Users/bumsoojoe/Desktop/programmers/Lv0_6.ipynb 셀 9\u001b[0m line \u001b[0;36m2\n\u001b[1;32m      <a href='vscode-notebook-cell:/Users/bumsoojoe/Desktop/programmers/Lv0_6.ipynb#X23sZmlsZQ%3D%3D?line=0'>1</a>\u001b[0m my_list \u001b[39m=\u001b[39m [\u001b[39m1\u001b[39m, \u001b[39m2\u001b[39m, \u001b[39m2\u001b[39m, \u001b[39m3\u001b[39m, \u001b[39m4\u001b[39m, \u001b[39m4\u001b[39m, \u001b[39m5\u001b[39m]\n\u001b[0;32m----> <a href='vscode-notebook-cell:/Users/bumsoojoe/Desktop/programmers/Lv0_6.ipynb#X23sZmlsZQ%3D%3D?line=1'>2</a>\u001b[0m my_set \u001b[39m=\u001b[39m \u001b[39mset\u001b[39;49m(my_list)\n\u001b[1;32m      <a href='vscode-notebook-cell:/Users/bumsoojoe/Desktop/programmers/Lv0_6.ipynb#X23sZmlsZQ%3D%3D?line=2'>3</a>\u001b[0m \u001b[39mprint\u001b[39m(my_set)\n",
      "\u001b[0;31mTypeError\u001b[0m: 'set' object is not callable"
     ]
    }
   ],
   "source": [
    "my_list = [1, 2, 2, 3, 4, 4, 5]\n",
    "my_set = set(my_list)\n",
    "print(my_set)"
   ]
  },
  {
   "cell_type": "code",
   "execution_count": 11,
   "metadata": {},
   "outputs": [
    {
     "ename": "TypeError",
     "evalue": "'set' object is not callable",
     "output_type": "error",
     "traceback": [
      "\u001b[0;31m---------------------------------------------------------------------------\u001b[0m",
      "\u001b[0;31mTypeError\u001b[0m                                 Traceback (most recent call last)",
      "\u001b[1;32m/Users/bumsoojoe/Desktop/programmers/Lv0_6.ipynb 셀 10\u001b[0m line \u001b[0;36m2\n\u001b[1;32m      <a href='vscode-notebook-cell:/Users/bumsoojoe/Desktop/programmers/Lv0_6.ipynb#X11sZmlsZQ%3D%3D?line=0'>1</a>\u001b[0m li \u001b[39m=\u001b[39m [\u001b[39m3\u001b[39m,\u001b[39m4\u001b[39m,\u001b[39m3\u001b[39m,\u001b[39m1\u001b[39m]\n\u001b[0;32m----> <a href='vscode-notebook-cell:/Users/bumsoojoe/Desktop/programmers/Lv0_6.ipynb#X11sZmlsZQ%3D%3D?line=1'>2</a>\u001b[0m se \u001b[39m=\u001b[39m \u001b[39mset\u001b[39;49m(li)\n\u001b[1;32m      <a href='vscode-notebook-cell:/Users/bumsoojoe/Desktop/programmers/Lv0_6.ipynb#X11sZmlsZQ%3D%3D?line=2'>3</a>\u001b[0m p \u001b[39m=\u001b[39m li[\u001b[39m0\u001b[39m]\n\u001b[1;32m      <a href='vscode-notebook-cell:/Users/bumsoojoe/Desktop/programmers/Lv0_6.ipynb#X11sZmlsZQ%3D%3D?line=3'>4</a>\u001b[0m \u001b[39mprint\u001b[39m(p)\n",
      "\u001b[0;31mTypeError\u001b[0m: 'set' object is not callable"
     ]
    }
   ],
   "source": [
    "li = [3,4,3,1]\n",
    "s = set(li)\n",
    "p = li[0]\n",
    "print(p)\n",
    "q = 0\n",
    "for i in s:\n",
    "    if li.count(p) > li.count(i):\n",
    "        print(p)\n"
   ]
  },
  {
   "cell_type": "code",
   "execution_count": 15,
   "metadata": {},
   "outputs": [
    {
     "name": "stdout",
     "output_type": "stream",
     "text": [
      "1\n"
     ]
    }
   ],
   "source": [
    "p = 0\n",
    "for i in b:\n",
    "    if a.count(i) > p:\n",
    "        p = i\n",
    "print(p)"
   ]
  },
  {
   "cell_type": "code",
   "execution_count": 29,
   "metadata": {},
   "outputs": [
    {
     "ename": "TypeError",
     "evalue": "'int' object is not subscriptable",
     "output_type": "error",
     "traceback": [
      "\u001b[0;31m---------------------------------------------------------------------------\u001b[0m",
      "\u001b[0;31mTypeError\u001b[0m                                 Traceback (most recent call last)",
      "\u001b[1;32m/Users/bumsoojoe/Desktop/programmers/Lv0_6.ipynb 셀 10\u001b[0m line \u001b[0;36m2\n\u001b[1;32m      <a href='vscode-notebook-cell:/Users/bumsoojoe/Desktop/programmers/Lv0_6.ipynb#X22sZmlsZQ%3D%3D?line=0'>1</a>\u001b[0m a \u001b[39m=\u001b[39m [\u001b[39m2\u001b[39m,\u001b[39m2\u001b[39m,\u001b[39m2\u001b[39m,\u001b[39m3\u001b[39m]\n\u001b[0;32m----> <a href='vscode-notebook-cell:/Users/bumsoojoe/Desktop/programmers/Lv0_6.ipynb#X22sZmlsZQ%3D%3D?line=1'>2</a>\u001b[0m a\u001b[39m.\u001b[39;49mpop(\u001b[39m2\u001b[39;49m)[\u001b[39m0\u001b[39;49m]\n\u001b[1;32m      <a href='vscode-notebook-cell:/Users/bumsoojoe/Desktop/programmers/Lv0_6.ipynb#X22sZmlsZQ%3D%3D?line=2'>3</a>\u001b[0m a\n",
      "\u001b[0;31mTypeError\u001b[0m: 'int' object is not subscriptable"
     ]
    }
   ],
   "source": [
    "a = [2,2,2,3]\n",
    "a.pop(2)\n",
    "a"
   ]
  },
  {
   "cell_type": "markdown",
   "metadata": {},
   "source": [
    "## Q3. 글자 이어 붙여 문자열 만들기\n",
    "### 문제 설명"
   ]
  },
  {
   "cell_type": "code",
   "execution_count": null,
   "metadata": {},
   "outputs": [],
   "source": []
  },
  {
   "cell_type": "markdown",
   "metadata": {},
   "source": [
    "## Q4. 9로 나눈 나머지\n",
    "### 문제 설명"
   ]
  },
  {
   "cell_type": "code",
   "execution_count": null,
   "metadata": {},
   "outputs": [],
   "source": []
  },
  {
   "cell_type": "markdown",
   "metadata": {},
   "source": [
    "## Q5. 문자열 여러 번 뒤집기\n",
    "### 문제 설명"
   ]
  }
 ],
 "metadata": {
  "kernelspec": {
   "display_name": "py",
   "language": "python",
   "name": "python3"
  },
  "language_info": {
   "codemirror_mode": {
    "name": "ipython",
    "version": 3
   },
   "file_extension": ".py",
   "mimetype": "text/x-python",
   "name": "python",
   "nbconvert_exporter": "python",
   "pygments_lexer": "ipython3",
   "version": "3.8.17"
  },
  "orig_nbformat": 4
 },
 "nbformat": 4,
 "nbformat_minor": 2
}
