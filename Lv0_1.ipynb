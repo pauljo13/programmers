{
 "cells": [
  {
   "cell_type": "code",
   "execution_count": 29,
   "metadata": {},
   "outputs": [
    {
     "name": "stdout",
     "output_type": "stream",
     "text": [
      "HelloWorld \n",
      " ProgrammerS123\n"
     ]
    }
   ],
   "source": [
    "#문자열 겹쳐쓰기\n",
    "''' \n",
    "문제 설명\n",
    "문자열 my_string, overwrite_string과 정수 s가 주어집니다. 문자열 my_string의 인덱스 s부터 overwrite_string의 길이만큼을 문자열 overwrite_string으로 바꾼 문자열을 return 하는 solution 함수를 작성해 주세요.\n",
    "\n",
    "제한사항\n",
    "my_string와 overwrite_string은 숫자와 알파벳으로 이루어져 있습니다.\n",
    "1 ≤ overwrite_string의 길이 ≤ my_string의 길이 ≤ 1,000\n",
    "0 ≤ s ≤ my_string의 길이 - overwrite_string의 길이\n",
    "'''\n",
    "def solution(my_string, overwrite_string, s):\n",
    "    rest_index = len(overwrite_string) + s\n",
    "    answer = my_string[:s] + overwrite_string + my_string[rest_index:] #인덱스 초과하면 출력되지 않는다.\n",
    "    return answer\n",
    "\n",
    "print(solution(\"He11oWor1d\", \t\"lloWorl\", 2),'\\n',solution(\"Program29b8UYP\", \t\"merS123\", 7))"
   ]
  },
  {
   "cell_type": "code",
   "execution_count": 30,
   "metadata": {},
   "outputs": [
    {
     "data": {
      "text/plain": [
       "'b'"
      ]
     },
     "execution_count": 30,
     "metadata": {},
     "output_type": "execute_result"
    }
   ],
   "source": [
    "my_string = \"Program29b8UYP\"\n",
    "overwrite_string = \"merS123\"\n",
    "s = 7\n",
    "lest_len = len(my_string)-(len(my_string[:2]) + len(overwrite_string))\n",
    "my_string[-lest_len]"
   ]
  },
  {
   "cell_type": "code",
   "execution_count": 32,
   "metadata": {},
   "outputs": [
    {
     "data": {
      "text/plain": [
       "''"
      ]
     },
     "execution_count": 32,
     "metadata": {},
     "output_type": "execute_result"
    }
   ],
   "source": [
    "len(overwrite_string) + s\n",
    "my_string[14:]"
   ]
  },
  {
   "cell_type": "code",
   "execution_count": 37,
   "metadata": {},
   "outputs": [
    {
     "data": {
      "text/plain": [
       "'ababababab'"
      ]
     },
     "execution_count": 37,
     "metadata": {},
     "output_type": "execute_result"
    }
   ],
   "source": [
    "# 문자열 섞기\n",
    "'''\n",
    "문제 설명\n",
    "길이가 같은 두 문자열 str1과 str2가 주어집니다.\n",
    "\n",
    "두 문자열의 각 문자가 앞에서부터 서로 번갈아가면서 한 번씩 등장하는 문자열을 만들어 return 하는 solution 함수를 완성해 주세요.\n",
    "\n",
    "제한사항\n",
    "1 ≤ str1의 길이 = str2의 길이 ≤ 10\n",
    "str1과 str2는 알파벳 소문자로 이루어진 문자열입니다.\n",
    "\n",
    "str1\tstr2\tresult\n",
    "\"aaaaa\"\t\"bbbbb\"\t\"ababababab\"\n",
    "'''\n",
    "\n",
    "def solution(str1, str2):\n",
    "    answer = ''\n",
    "    for i in range(len(str1)):\n",
    "        answer += (str1[i]+str2[i])\n",
    "    return answer\n",
    "\n",
    "str1 = \"aaaaa\"\n",
    "str2 = \"bbbbb\"\n",
    "print(solution(str1, str2))\n",
    "print()"
   ]
  },
  {
   "cell_type": "code",
   "execution_count": 42,
   "metadata": {},
   "outputs": [
    {
     "data": {
      "text/plain": [
       "'abc'"
      ]
     },
     "execution_count": 42,
     "metadata": {},
     "output_type": "execute_result"
    }
   ],
   "source": [
    "# 문자 리스트를 문자열로 변환하기\n",
    "''' \n",
    "문제 설명\n",
    "문자들이 담겨있는 배열 arr가 주어집니다. \n",
    "arr의 원소들을 순서대로 이어 붙인 문자열을 return 하는 solution함수를 작성해 주세요.\n",
    "\n",
    "제한사항\n",
    "1 ≤ arr의 길이 ≤ 200\n",
    "arr의 원소는 전부 알파벳 소문자로 이루어진 길이가 1인 문자열입니다.\n",
    "\n",
    "입출력 예\n",
    "arr\tresult\n",
    "[\"a\",\"b\",\"c\"]\t\"abc\"\n",
    "'''\n",
    "test = [\"a\",\"b\",\"c\"]\n",
    "\n",
    "def solution(arr):\n",
    "    answer = \"\".join(arr)\n",
    "    return answer\n",
    "\n",
    "solution(test)"
   ]
  },
  {
   "cell_type": "code",
   "execution_count": 1,
   "metadata": {},
   "outputs": [
    {
     "data": {
      "text/plain": [
       "'stringstringstring'"
      ]
     },
     "execution_count": 1,
     "metadata": {},
     "output_type": "execute_result"
    }
   ],
   "source": [
    "# 문자열 곱하기\n",
    "''' \n",
    "문제 설명\n",
    "문자열 my_string과 정수 k가 주어질 때, my_string을 k번 반복한 문자열을 return 하는 solution 함수를 작성해 주세요.\n",
    "\n",
    "제한사항\n",
    "1 ≤ my_string의 길이 ≤ 100\n",
    "my_string은 영소문자로만 이루어져 있습니다.\n",
    "1 ≤ k ≤ 100\n",
    "입출력 예\n",
    "my_string\tk\tresult\n",
    "\"string\"\t3\t\"stringstringstring\"\n",
    "\"love\"\t10\t\"lovelovelovelovelovelovelovelovelovelove\"\n",
    "'''\n",
    "\n",
    "def solution(my_string, k):\n",
    "    answer = my_string*k\n",
    "    return answer\n",
    "\n",
    "my_string = \"string\"\n",
    "solution(my_string, 3)"
   ]
  },
  {
   "cell_type": "code",
   "execution_count": 9,
   "metadata": {},
   "outputs": [
    {
     "name": "stdout",
     "output_type": "stream",
     "text": [
      "898\n",
      "898\n"
     ]
    }
   ],
   "source": [
    "# 더 크게 합치기\n",
    "'''\n",
    "문제 설명\n",
    "연산 ⊕는 두 정수에 대한 연산으로 두 정수를 붙여서 쓴 값을 반환합니다. 예를 들면 다음과 같습니다.\n",
    "\n",
    "12 ⊕ 3 = 123\n",
    "3 ⊕ 12 = 312\n",
    "양의 정수 a와 b가 주어졌을 때, a ⊕ b와 b ⊕ a 중 더 큰 값을 return 하는 solution 함수를 완성해 주세요.\n",
    "\n",
    "단, a ⊕ b와 b ⊕ a가 같다면 a ⊕ b를 return 합니다.\n",
    "\n",
    "제한사항\n",
    "1 ≤ a, b < 10,000\n",
    "'''\n",
    "def solution(a, b):\n",
    "    ans1 = int(str(a)+str(b))\n",
    "    ans2 = int(str(b)+str(a))\n",
    "    if ans1 > ans2:\n",
    "        return ans1\n",
    "    else:\n",
    "        return ans2\n",
    "\n",
    "#추가적인 답\n",
    "def solution2(a, b):\n",
    "    return int(max(f\"{a}{b}\",f\"{b}{a}\"))\n",
    "\n",
    "print(solution(89, 8))\n",
    "print(solution2(89, 8))"
   ]
  },
  {
   "cell_type": "code",
   "execution_count": null,
   "metadata": {},
   "outputs": [],
   "source": []
  }
 ],
 "metadata": {
  "kernelspec": {
   "display_name": "model5",
   "language": "python",
   "name": "python3"
  },
  "language_info": {
   "codemirror_mode": {
    "name": "ipython",
    "version": 3
   },
   "file_extension": ".py",
   "mimetype": "text/x-python",
   "name": "python",
   "nbconvert_exporter": "python",
   "pygments_lexer": "ipython3",
   "version": "3.8.16"
  },
  "orig_nbformat": 4
 },
 "nbformat": 4,
 "nbformat_minor": 2
}
