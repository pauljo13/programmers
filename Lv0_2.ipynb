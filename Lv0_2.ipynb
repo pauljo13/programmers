{
 "cells": [
  {
   "cell_type": "markdown",
   "metadata": {},
   "source": [
    "# 두 수의 연산값 비교하기\n",
    "연산 ⊕는 두 정수에 대한 연산으로 두 정수를 붙여서 쓴 값을 반환합니다. 예를 들면 다음과 같습니다.\n",
    "\n",
    "12 ⊕ 3 = 123\n",
    "3 ⊕ 12 = 312\n",
    "양의 정수 a와 b가 주어졌을 때, a ⊕ b와 2 * a * b 중 더 큰 값을 return하는 solution 함수를 완성해 주세요.\n",
    "\n",
    "단, a ⊕ b와 2 * a * b가 같으면 a ⊕ b를 return 합니다.\n",
    "\n",
    "- 1 ≤ a, b < 10,000\n",
    "- a"
   ]
  },
  {
   "cell_type": "code",
   "execution_count": null,
   "metadata": {},
   "outputs": [],
   "source": [
    "def solution(a, b):\n",
    "    return "
   ]
  },
  {
   "cell_type": "code",
   "execution_count": 8,
   "metadata": {},
   "outputs": [
    {
     "data": {
      "text/plain": [
       "'109'"
      ]
     },
     "execution_count": 8,
     "metadata": {},
     "output_type": "execute_result"
    }
   ],
   "source": [
    "f\"{10}{9}\""
   ]
  },
  {
   "cell_type": "code",
   "execution_count": 9,
   "metadata": {},
   "outputs": [],
   "source": [
    "def solution(a, b):\n",
    "    pro = int(f\"{a}{b}\")\n",
    "    return max(pro,2*a*b)"
   ]
  },
  {
   "cell_type": "code",
   "execution_count": 10,
   "metadata": {},
   "outputs": [
    {
     "data": {
      "text/plain": [
       "364"
      ]
     },
     "execution_count": 10,
     "metadata": {},
     "output_type": "execute_result"
    }
   ],
   "source": [
    "solution(2,91)"
   ]
  },
  {
   "cell_type": "markdown",
   "metadata": {},
   "source": [
    "# n의 배수\n",
    "문제 설명\n",
    "정수 num과 n이 매개 변수로 주어질 때, num이 n의 배수이면 1을 return n의 배수가 아니라면 0을 return하도록 solution 함수를 완성해주세요.\n",
    "\n",
    "제한사항\n",
    "2 ≤ num ≤ 100\n",
    "2 ≤ n ≤ 9\n",
    "\n",
    "입출력 예 설명\n",
    "입출력 예 #1\n",
    "\n",
    "98은 2의 배수이므로 1을 return합니다.\n",
    "입출력 예 #2\n",
    "\n",
    "32는 3의 배수가 아니므로 0을 return합니다."
   ]
  },
  {
   "cell_type": "code",
   "execution_count": 11,
   "metadata": {},
   "outputs": [],
   "source": [
    "def solution(num, n):\n",
    "    if num % n == 0:\n",
    "        return 1\n",
    "    return 0"
   ]
  },
  {
   "cell_type": "code",
   "execution_count": 12,
   "metadata": {},
   "outputs": [
    {
     "data": {
      "text/plain": [
       "1"
      ]
     },
     "execution_count": 12,
     "metadata": {},
     "output_type": "execute_result"
    }
   ],
   "source": [
    "solution(98,2)"
   ]
  },
  {
   "cell_type": "code",
   "execution_count": 13,
   "metadata": {},
   "outputs": [
    {
     "data": {
      "text/plain": [
       "0"
      ]
     },
     "execution_count": 13,
     "metadata": {},
     "output_type": "execute_result"
    }
   ],
   "source": [
    "solution(34,3)"
   ]
  },
  {
   "cell_type": "markdown",
   "metadata": {},
   "source": [
    "# 공배수\n",
    "문제 설명\n",
    "정수 number와 n, m이 주어집니다. number가 n의 배수이면서 m의 배수이면 1을 아니라면 0을 return하도록 solution 함수를 완성해주세요.\n",
    "\n",
    "제한사항\n",
    "10 ≤ number ≤ 100\n",
    "2 ≤ n, m < 10\n",
    "\n",
    "입출력 예 설명\n",
    "입출력 예 #1\n",
    "\n",
    "60은 2의 배수이면서 3의 배수이기 때문에 1을 return합니다.\n",
    "입출력 예 #2\n",
    "\n",
    "55는 5의 배수이지만 10의 배수가 아니기 때문에 0을 return합니다.\n"
   ]
  },
  {
   "cell_type": "code",
   "execution_count": 15,
   "metadata": {},
   "outputs": [],
   "source": [
    "def solution(number, n, m):\n",
    "    if number % n == 0 and number % m == 0:\n",
    "        return 1\n",
    "    return 0"
   ]
  },
  {
   "cell_type": "code",
   "execution_count": 16,
   "metadata": {},
   "outputs": [
    {
     "data": {
      "text/plain": [
       "1"
      ]
     },
     "execution_count": 16,
     "metadata": {},
     "output_type": "execute_result"
    }
   ],
   "source": [
    "solution(60,2,3)"
   ]
  },
  {
   "cell_type": "code",
   "execution_count": 17,
   "metadata": {},
   "outputs": [
    {
     "data": {
      "text/plain": [
       "0"
      ]
     },
     "execution_count": 17,
     "metadata": {},
     "output_type": "execute_result"
    }
   ],
   "source": [
    "solution(55,5,10)"
   ]
  },
  {
   "cell_type": "markdown",
   "metadata": {},
   "source": [
    "# 홀짝에 따라 다른 값 반환하기\n",
    "문제 설명\n",
    "양의 정수 n이 매개변수로 주어질 때, n이 홀수라면 n 이하의 홀수인 모든 양의 정수의 합을 return 하고 n이 짝수라면 n 이하의 짝수인 모든 양의 정수의 제곱의 합을 return 하는 solution 함수를 작성해 주세요.\n",
    "\n",
    "제한사항\n",
    "1 ≤ n ≤ 100\n",
    "\n",
    "입출력 예 설명\n",
    "입출력 예 #1\n",
    "\n",
    "예제 1번의 n은 7로 홀수입니다. 7 이하의 모든 양의 홀수는 1, 3, 5, 7이고 이들의 합인 1 + 3 + 5 + 7 = 16을 return 합니다.\n",
    "입출력 예 #2\n",
    "\n",
    "예제 2번의 n은 10으로 짝수입니다. 10 이하의 모든 양의 짝수는 2, 4, 6, 8, 10이고 이들의 제곱의 합인 22 + 42 + 62 + 82 + 102 = 4 + 16 + 36 + 64 + 100 = 220을 return 합니다."
   ]
  },
  {
   "cell_type": "code",
   "execution_count": 19,
   "metadata": {},
   "outputs": [
    {
     "data": {
      "text/plain": [
       "0"
      ]
     },
     "execution_count": 19,
     "metadata": {},
     "output_type": "execute_result"
    }
   ],
   "source": [
    "10%2"
   ]
  },
  {
   "cell_type": "code",
   "execution_count": 21,
   "metadata": {},
   "outputs": [
    {
     "data": {
      "text/plain": [
       "7"
      ]
     },
     "execution_count": 21,
     "metadata": {},
     "output_type": "execute_result"
    }
   ],
   "source": [
    "9-2"
   ]
  },
  {
   "cell_type": "code",
   "execution_count": 23,
   "metadata": {},
   "outputs": [],
   "source": [
    "def solution(n):\n",
    "    if n <= 1 :\n",
    "        return n\n",
    "    if n%2 == 0:\n",
    "        return n**2 + solution(n-2)\n",
    "    else:\n",
    "        return n + solution(n-2)"
   ]
  },
  {
   "cell_type": "code",
   "execution_count": 24,
   "metadata": {},
   "outputs": [
    {
     "data": {
      "text/plain": [
       "220"
      ]
     },
     "execution_count": 24,
     "metadata": {},
     "output_type": "execute_result"
    }
   ],
   "source": [
    "solution(10)"
   ]
  },
  {
   "cell_type": "code",
   "execution_count": 25,
   "metadata": {},
   "outputs": [
    {
     "data": {
      "text/plain": [
       "25"
      ]
     },
     "execution_count": 25,
     "metadata": {},
     "output_type": "execute_result"
    }
   ],
   "source": [
    "solution(9)"
   ]
  },
  {
   "cell_type": "markdown",
   "metadata": {},
   "source": [
    "# 조건 문자열\n",
    "문제 설명\n",
    "문자열에 따라 다음과 같이 두 수의 크기를 비교하려고 합니다.\n",
    "\n",
    "두 수가 n과 m이라면\n",
    "\">\", \"=\" : n >= m\n",
    "\"<\", \"=\" : n <= m\n",
    "\">\", \"!\" : n > m\n",
    "\"<\", \"!\" : n < m\n",
    "두 문자열 ineq와 eq가 주어집니다. ineq는 \"<\"와 \">\"중 하나고, eq는 \"=\"와 \"!\"중 하나입니다. 그리고 두 정수 n과 m이 주어질 때, n과 m이 ineq와 eq의 조건에 맞으면 1을 아니면 0을 return하도록 solution 함수를 완성해주세요.\n",
    "\n",
    "제한 사항\n",
    "1 ≤ n, m ≤ 100\n",
    "\n",
    "입출력 예 설명\n",
    "입출력 예 #1\n",
    "\n",
    "20 <= 50은 참이기 때문에 1을 return합니다.\n",
    "입출력 예 #2\n",
    "\n",
    "41 > 78은 거짓이기 때문에 0을 return합니다."
   ]
  },
  {
   "cell_type": "code",
   "execution_count": null,
   "metadata": {},
   "outputs": [],
   "source": [
    "def solution3(ineq, eq, n, m):\n",
    "    test = f\"{ineq}{eq}\"\n",
    "    if eq == '!':\n",
    "        test = ineq\n",
    "    if eval(f\"{n}{test}{m}\") == True:\n",
    "        return 1\n",
    "    else:\n",
    "        return 0"
   ]
  },
  {
   "cell_type": "code",
   "execution_count": 35,
   "metadata": {},
   "outputs": [
    {
     "data": {
      "text/plain": [
       "True"
      ]
     },
     "execution_count": 35,
     "metadata": {},
     "output_type": "execute_result"
    }
   ],
   "source": [
    "a = '>'\n",
    "n = 10\n",
    "m = 3\n",
    "eval(f\"{n}{a}{m}\")"
   ]
  },
  {
   "cell_type": "code",
   "execution_count": null,
   "metadata": {},
   "outputs": [],
   "source": []
  }
 ],
 "metadata": {
  "kernelspec": {
   "display_name": "pro",
   "language": "python",
   "name": "python3"
  },
  "language_info": {
   "codemirror_mode": {
    "name": "ipython",
    "version": 3
   },
   "file_extension": ".py",
   "mimetype": "text/x-python",
   "name": "python",
   "nbconvert_exporter": "python",
   "pygments_lexer": "ipython3",
   "version": "3.8.17"
  },
  "orig_nbformat": 4
 },
 "nbformat": 4,
 "nbformat_minor": 2
}
