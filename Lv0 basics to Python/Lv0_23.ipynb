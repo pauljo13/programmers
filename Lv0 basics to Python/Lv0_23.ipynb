{
 "cells": [
  {
   "cell_type": "markdown",
   "metadata": {},
   "source": [
    "# 2024-01-06\n",
    "### Q1. 정수를 나선형으로 배치하기\n",
    "#### 문제 설명\n",
    "양의 정수 n이 매개변수로 주어집니다. n × n 배열에 1부터 n2 까지 정수를 인덱스 [0][0]부터 시계방향 나선형으로 배치한 이차원 배열을 return 하는 solution 함수를 작성해 주세요.  \n",
    " \n",
    "n\tresult  \n",
    "4\t[[1, 2, 3, 4], [12, 13, 14, 5], [11, 16, 15, 6], [10, 9, 8, 7]]  \n",
    "5\t[[1, 2, 3, 4, 5], [16, 17, 18, 19, 6], [15, 24, 25, 20, 7], [14, 23, 22, 21, 8], [13, 12, 11, 10, 9]]  "
   ]
  },
  {
   "cell_type": "code",
   "execution_count": 49,
   "metadata": {},
   "outputs": [],
   "source": [
    "def solution1(n):\n",
    "    answer = [[0 for _ in range(n)]for _ in range(n)]\n",
    "    directions = [(0, 1), (1, 0), (0, -1), (-1, 0)]\n",
    "    index = 0\n",
    "    x, y = 0, 0\n",
    "    for i in range(1,n**2+1):\n",
    "        answer[x][y] = i\n",
    "        dx, dy = directions[index]\n",
    "        new_x, new_y = x + dx, y + dy\n",
    "        if new_x < 0 or new_x >= n or new_y < 0 or new_y >= n or answer[new_x][new_y] != 0:\n",
    "            index = (index + 1) % 4\n",
    "            dx, dy = directions[index]\n",
    "        x, y = x + dx, y + dy      \n",
    "    return answer"
   ]
  },
  {
   "cell_type": "code",
   "execution_count": null,
   "metadata": {},
   "outputs": [],
   "source": [
    "def solution1_1(n):\n",
    "    answer = [[None for j in range(n)] for i in range(n)]\n",
    "    move = [[0, 1], [1, 0], [0, -1], [-1, 0]]\n",
    "    x, y, m = 0, 0, 0\n",
    "    for i in range(1, n**2 + 1):\n",
    "        answer[y][x] = i\n",
    "        if y + move[m][0] >= n or x + move[m][1] >= n or answer[y + move[m][0]][x + move[m][1]]:\n",
    "            m = (m + 1) % len(move)\n",
    "        y, x = y + move[m][0], x + move[m][1]\n",
    "    return answer\n"
   ]
  },
  {
   "cell_type": "code",
   "execution_count": 50,
   "metadata": {},
   "outputs": [
    {
     "data": {
      "text/plain": [
       "[[1, 2, 3, 4], [12, 13, 14, 5], [11, 16, 15, 6], [10, 9, 8, 7]]"
      ]
     },
     "execution_count": 50,
     "metadata": {},
     "output_type": "execute_result"
    }
   ],
   "source": [
    "solution1(4)"
   ]
  },
  {
   "cell_type": "code",
   "execution_count": 51,
   "metadata": {},
   "outputs": [
    {
     "data": {
      "text/plain": [
       "[[1, 2, 3, 4, 5],\n",
       " [16, 17, 18, 19, 6],\n",
       " [15, 24, 25, 20, 7],\n",
       " [14, 23, 22, 21, 8],\n",
       " [13, 12, 11, 10, 9]]"
      ]
     },
     "execution_count": 51,
     "metadata": {},
     "output_type": "execute_result"
    }
   ],
   "source": [
    "solution1(5)"
   ]
  },
  {
   "cell_type": "code",
   "execution_count": 6,
   "metadata": {},
   "outputs": [
    {
     "data": {
      "text/plain": [
       "[[0, 0, 0, 0], [0, 0, 0, 0], [0, 0, 0, 0], [0, 0, 0, 0]]"
      ]
     },
     "execution_count": 6,
     "metadata": {},
     "output_type": "execute_result"
    }
   ],
   "source": [
    "test = [[0 for _ in range(4)]for _ in range(4)]\n",
    "test #00 01 02 03 / 13 23 33 / 32 31 30 / 20 10 / 11 12 / 22 21"
   ]
  },
  {
   "cell_type": "code",
   "execution_count": 37,
   "metadata": {},
   "outputs": [
    {
     "data": {
      "text/plain": [
       "(0, 1)"
      ]
     },
     "execution_count": 37,
     "metadata": {},
     "output_type": "execute_result"
    }
   ],
   "source": [
    "beter = [(0,1), (1,0), (0,-1), (-1,0)]\n",
    "beter[0]"
   ]
  },
  {
   "cell_type": "code",
   "execution_count": 45,
   "metadata": {},
   "outputs": [
    {
     "data": {
      "text/plain": [
       "[[0, 0, 0, 0], [0, 0, 0, 0]]"
      ]
     },
     "execution_count": 45,
     "metadata": {},
     "output_type": "execute_result"
    }
   ],
   "source": [
    "test[0:2:1]"
   ]
  },
  {
   "cell_type": "code",
   "execution_count": 46,
   "metadata": {},
   "outputs": [
    {
     "name": "stdout",
     "output_type": "stream",
     "text": [
      "0 1\n",
      "0 2\n",
      "0 3\n",
      "0 4\n",
      "2 3\n",
      "3 3\n",
      "4 3\n",
      "3 1\n",
      "3 0\n",
      "3 -1\n",
      "1 0\n",
      "0 0\n",
      "1 2\n",
      "1 3\n",
      "3 2\n",
      "2 0\n"
     ]
    },
    {
     "data": {
      "text/plain": [
       "[[1, 2, 3, 4], [12, 13, 14, 5], [11, 16, 15, 6], [10, 9, 8, 7]]"
      ]
     },
     "execution_count": 46,
     "metadata": {},
     "output_type": "execute_result"
    }
   ],
   "source": [
    "directions = [(0, 1), (1, 0), (0, -1), (-1, 0)]  # 오른쪽, 아래, 왼쪽, 위 순서\n",
    "direction_index = 0  # 현재 방향 인덱스\n",
    "n = 4\n",
    "\n",
    "x, y = 0, 0  # 시작 위치\n",
    "for i in range(1, n * n + 1):\n",
    "    test[x][y] = i\n",
    "    dx, dy = directions[direction_index]\n",
    "\n",
    "    # 다음 위치\n",
    "    new_x, new_y = x + dx, y + dy\n",
    "    print(new_x, new_y)\n",
    "\n",
    "    # 경계를 벗어나거나 이미 방문한 셀인 경우 방향 변경\n",
    "    if new_x < 0 or new_x >= n or new_y < 0 or new_y >= n or test[new_x][new_y] != 0:\n",
    "        direction_index = (direction_index + 1) % 4  # 다음 방향으로 변경\n",
    "        dx, dy = directions[direction_index]\n",
    "\n",
    "    x, y = x + dx, y + dy\n",
    "test"
   ]
  },
  {
   "cell_type": "markdown",
   "metadata": {},
   "source": [
    "### Q2. 특별한 이차원 배열 2\n",
    "#### 문제 설명\n",
    "n × n 크기의 이차원 배열 arr이 매개변수로 주어질 때, arr이 다음을 만족하면 1을 아니라면 0을 return 하는 solution 함수를 작성해 주세요.\n",
    "  \n",
    "- 0 ≤ i, j < n인 정수 i, j에 대하여 arr[i][j] = arr[j][i]  \n",
    "  \n",
    "arr\tresult\n",
    "[[5, 192, 33], [192, 72, 95], [33, 95, 999]]\t1\n",
    "[[19, 498, 258, 587], [63, 93, 7, 754], [258, 7, 1000, 723], [587, 754, 723, 81]]\t0"
   ]
  },
  {
   "cell_type": "code",
   "execution_count": 18,
   "metadata": {},
   "outputs": [],
   "source": [
    "def solution2(arr):\n",
    "    answer = 1\n",
    "    for i in range(len(arr)):\n",
    "        for j in range(len(arr)):\n",
    "            if arr[i][j] != arr[j][i]:\n",
    "                answer = 0\n",
    "                return answer\n",
    "    return answer"
   ]
  },
  {
   "cell_type": "code",
   "execution_count": 19,
   "metadata": {},
   "outputs": [],
   "source": [
    "arr1 = [[5, 192, 33], [192, 72, 95], [33, 95, 999]]\n",
    "arr2 = [[19, 498, 258, 587], [63, 93, 7, 754], [258, 7, 1000, 723], [587, 754, 723, 81]]"
   ]
  },
  {
   "cell_type": "code",
   "execution_count": 20,
   "metadata": {},
   "outputs": [
    {
     "name": "stdout",
     "output_type": "stream",
     "text": [
      "5 5\n",
      "192 192\n",
      "33 33\n",
      "192 192\n",
      "72 72\n",
      "95 95\n",
      "33 33\n",
      "95 95\n",
      "999 999\n"
     ]
    }
   ],
   "source": [
    "for i in range(len(arr1)):\n",
    "    for j in range(len(arr1)):\n",
    "        if arr1[i][j] == arr1[j][i]:\n",
    "            print(arr1[i][j],arr1[j][i])"
   ]
  },
  {
   "cell_type": "code",
   "execution_count": 21,
   "metadata": {},
   "outputs": [
    {
     "data": {
      "text/plain": [
       "1"
      ]
     },
     "execution_count": 21,
     "metadata": {},
     "output_type": "execute_result"
    }
   ],
   "source": [
    "solution2(arr1)"
   ]
  },
  {
   "cell_type": "code",
   "execution_count": 22,
   "metadata": {},
   "outputs": [
    {
     "data": {
      "text/plain": [
       "0"
      ]
     },
     "execution_count": 22,
     "metadata": {},
     "output_type": "execute_result"
    }
   ],
   "source": [
    "solution2(arr2)"
   ]
  },
  {
   "cell_type": "markdown",
   "metadata": {},
   "source": [
    "### Q3. 정사각형으로 만들기\n",
    "#### 문제 설명\n",
    "이차원 정수 배열 arr이 매개변수로 주어집니다. arr의 행의 수가 더 많다면 열의 수가 행의 수와 같아지도록 각 행의 끝에 0을 추가하고, 열의 수가 더 많다면 행의 수가 열의 수와 같아지도록 각 열의 끝에 0을 추가한 이차원 배열을 return 하는 solution 함수를 작성해 주세요.  \n",
    "  \n",
    "arr\tresult  \n",
    "[[572, 22, 37], [287, 726, 384], [85, 137, 292], [487, 13, 876]]\t[[572, 22, 37, 0], [287, 726, 384, 0], [85, 137, 292, 0], [487, 13, 876, 0]]  \n",
    "[[57, 192, 534, 2], [9, 345, 192, 999]]\t[[57, 192, 534, 2], [9, 345, 192, 999], [0, 0, 0, 0], [0, 0, 0, 0]]\n",
    "[[1, 2], [3, 4]]\t[[1, 2], [3, 4]]  "
   ]
  },
  {
   "cell_type": "code",
   "execution_count": 48,
   "metadata": {},
   "outputs": [],
   "source": [
    "def solution3(arr):\n",
    "    row = len(arr[0])\n",
    "    col = len(arr)\n",
    "    if row > col:\n",
    "        for i in range(row - col):\n",
    "            arr.append([0 for _ in range(row)])\n",
    "    elif row < col:\n",
    "        for i in range(col):\n",
    "            arr[i].extend([0 for _ in range(col - row)])\n",
    "    return arr"
   ]
  },
  {
   "cell_type": "code",
   "execution_count": 49,
   "metadata": {},
   "outputs": [],
   "source": [
    "arr3 = [[572, 22, 37], [287, 726, 384], [85, 137, 292], [487, 13, 876]]\n",
    "arr4 = [[57, 192, 534, 2], [9, 345, 192, 999]]\n",
    "arr5 = [[1, 2], [3, 4]]"
   ]
  },
  {
   "cell_type": "code",
   "execution_count": 50,
   "metadata": {},
   "outputs": [
    {
     "data": {
      "text/plain": [
       "[[572, 22, 37, 0], [287, 726, 384, 0], [85, 137, 292, 0], [487, 13, 876, 0]]"
      ]
     },
     "execution_count": 50,
     "metadata": {},
     "output_type": "execute_result"
    }
   ],
   "source": [
    "solution3(arr3)"
   ]
  },
  {
   "cell_type": "code",
   "execution_count": 51,
   "metadata": {},
   "outputs": [
    {
     "data": {
      "text/plain": [
       "[[57, 192, 534, 2], [9, 345, 192, 999], [0, 0, 0, 0], [0, 0, 0, 0]]"
      ]
     },
     "execution_count": 51,
     "metadata": {},
     "output_type": "execute_result"
    }
   ],
   "source": [
    "solution3(arr4)"
   ]
  },
  {
   "cell_type": "code",
   "execution_count": 52,
   "metadata": {},
   "outputs": [
    {
     "data": {
      "text/plain": [
       "[[1, 2], [3, 4]]"
      ]
     },
     "execution_count": 52,
     "metadata": {},
     "output_type": "execute_result"
    }
   ],
   "source": [
    "solution3(arr5)"
   ]
  },
  {
   "cell_type": "markdown",
   "metadata": {},
   "source": [
    "### Q4. 이차원 배열 대각선 순회하기\n",
    "#### 문제 설명\n",
    "2차원 정수 배열 board와 정수 k가 주어집니다.\n",
    "\n",
    "i + j <= k를 만족하는 모든 (i, j)에 대한 board[i][j]의 합을 return 하는 solution 함수를 완성해 주세요.\n",
    "  \n",
    "board\tk\tresult  \n",
    "[[0, 1, 2],[1, 2, 3],[2, 3, 4],[3, 4, 5]]\t2\t8  "
   ]
  },
  {
   "cell_type": "code",
   "execution_count": 53,
   "metadata": {},
   "outputs": [],
   "source": [
    "def solution4(board, k):\n",
    "    answer = 0\n",
    "    for i in range(len(board)):\n",
    "        for j in range(len(board[i])):\n",
    "            if i + j <= k:\n",
    "                answer += board[i][j]\n",
    "    return answer"
   ]
  },
  {
   "cell_type": "code",
   "execution_count": 54,
   "metadata": {},
   "outputs": [
    {
     "data": {
      "text/plain": [
       "8"
      ]
     },
     "execution_count": 54,
     "metadata": {},
     "output_type": "execute_result"
    }
   ],
   "source": [
    "board = [[0, 1, 2],[1, 2, 3],[2, 3, 4],[3, 4, 5]]\n",
    "solution4(board, 2)"
   ]
  },
  {
   "cell_type": "code",
   "execution_count": null,
   "metadata": {},
   "outputs": [],
   "source": []
  }
 ],
 "metadata": {
  "kernelspec": {
   "display_name": "py",
   "language": "python",
   "name": "python3"
  },
  "language_info": {
   "codemirror_mode": {
    "name": "ipython",
    "version": 3
   },
   "file_extension": ".py",
   "mimetype": "text/x-python",
   "name": "python",
   "nbconvert_exporter": "python",
   "pygments_lexer": "ipython3",
   "version": "3.8.17"
  }
 },
 "nbformat": 4,
 "nbformat_minor": 2
}
