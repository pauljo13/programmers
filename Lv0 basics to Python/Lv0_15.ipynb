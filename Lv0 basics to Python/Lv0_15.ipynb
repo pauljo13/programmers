{
 "cells": [
  {
   "cell_type": "markdown",
   "metadata": {},
   "source": [
    "# 2023-12-25\n",
    "### Q1. 특정 문자열로 끝나는 가장 긴 부분 문자열 찾기\n",
    "#### 문제 설명\n",
    "문자열 myString과 pat가 주어집니다. myString의 부분 문자열중 pat로 끝나는 가장 긴 부분 문자열을 찾아서 return 하는 solution 함수를 완성해 주세요.  \n",
    "  \n",
    "myString\tpat\tresult  \n",
    "\"AbCdEFG\"\t\"dE\"\t\"AbCdE\"  \n",
    "\"AAAAaaaa\"\t\"a\"\t\"AAAAaaaa\"  "
   ]
  },
  {
   "cell_type": "code",
   "execution_count": 44,
   "metadata": {},
   "outputs": [],
   "source": [
    "def solution1(myString, pat):\n",
    "    index = myString[::-1].find(pat)\n",
    "    if index != -1:\n",
    "        real_index = len(myString) - 1 - index + len(pat)\n",
    "    else:\n",
    "        real_index = -1 * len(pat)\n",
    "    return myString[:real_index]"
   ]
  },
  {
   "cell_type": "code",
   "execution_count": 81,
   "metadata": {},
   "outputs": [],
   "source": [
    "def solution1_1(myString, pat):\n",
    "    if myString.endswith(pat):\n",
    "        return myString\n",
    "    else:\n",
    "        index = len(myString) - myString[::-1].find(pat[::-1])\n",
    "        return myString[:index]"
   ]
  },
  {
   "cell_type": "code",
   "execution_count": 82,
   "metadata": {},
   "outputs": [
    {
     "data": {
      "text/plain": [
       "'ABC1cABC'"
      ]
     },
     "execution_count": 82,
     "metadata": {},
     "output_type": "execute_result"
    }
   ],
   "source": [
    "t = \"ABC1cABC2cAB\"\n",
    "pt = \"ABC\"\n",
    "solution1_1(t,pt)"
   ]
  },
  {
   "cell_type": "code",
   "execution_count": 54,
   "metadata": {},
   "outputs": [
    {
     "data": {
      "text/plain": [
       "'AbCdE'"
      ]
     },
     "execution_count": 54,
     "metadata": {},
     "output_type": "execute_result"
    }
   ],
   "source": [
    "solution1_1(test,p)"
   ]
  },
  {
   "cell_type": "code",
   "execution_count": 42,
   "metadata": {},
   "outputs": [
    {
     "name": "stdout",
     "output_type": "stream",
     "text": [
      "-2\n"
     ]
    }
   ],
   "source": [
    "test = \"AbCdEFG\"\n",
    "p = \"dE\"\n",
    "index = test[::-1].find(p)\n",
    "if index != -1:\n",
    "    real_index = len(test) - 1 - index\n",
    "else:\n",
    "    real_index = -1 * len(p)\n",
    "\n",
    "print(real_index)"
   ]
  },
  {
   "cell_type": "code",
   "execution_count": 45,
   "metadata": {},
   "outputs": [
    {
     "data": {
      "text/plain": [
       "'AbCdE'"
      ]
     },
     "execution_count": 45,
     "metadata": {},
     "output_type": "execute_result"
    }
   ],
   "source": [
    "solution1(test,p)"
   ]
  },
  {
   "cell_type": "code",
   "execution_count": 41,
   "metadata": {},
   "outputs": [
    {
     "data": {
      "text/plain": [
       "'AbCdE'"
      ]
     },
     "execution_count": 41,
     "metadata": {},
     "output_type": "execute_result"
    }
   ],
   "source": [
    "test[:-2].endswith"
   ]
  },
  {
   "cell_type": "code",
   "execution_count": 50,
   "metadata": {},
   "outputs": [
    {
     "name": "stdout",
     "output_type": "stream",
     "text": [
      "AAAAaaaa\n"
     ]
    }
   ],
   "source": [
    "test2 = \"AAAAaaaa\"\n",
    "p2 = \"a\"\n",
    "index = test2[::-1].find(p2)\n",
    "if index != -1:\n",
    "    real_index = len(test2) - 1 - index + len(p2)\n",
    "else:\n",
    "    real_index = -1\n",
    "\n",
    "print(test2[:real_index])"
   ]
  },
  {
   "cell_type": "markdown",
   "metadata": {},
   "source": [
    "### Q2. 문자열이 몇 번 등장하는지 세기\n",
    "#### 문제 설명\n",
    "문자열 myString과 pat이 주어집니다. myString에서 pat이 등장하는 횟수를 return 하는 solution 함수를 완성해 주세요.  \n",
    "\n",
    "myString\tpat\tresult  \n",
    "\"banana\"\t\"ana\"\t2  \n",
    "\"aaaa\"\t\"aa\"\t3  "
   ]
  },
  {
   "cell_type": "code",
   "execution_count": 90,
   "metadata": {},
   "outputs": [],
   "source": [
    "def solution2(myString, pat):\n",
    "    ml = []\n",
    "    for i in range(len(myString)):\n",
    "        l = i + len(pat)\n",
    "        ml.append(myString[i:l])\n",
    "    return ml.count(pat)"
   ]
  },
  {
   "cell_type": "code",
   "execution_count": 89,
   "metadata": {},
   "outputs": [
    {
     "name": "stdout",
     "output_type": "stream",
     "text": [
      "2\n"
     ]
    }
   ],
   "source": [
    "ms = \"banana\"\n",
    "p = \"ana\"\n",
    "ml = []\n",
    "for i in range(len(ms)):\n",
    "    l = i + len(p)\n",
    "    ml.append(ms[i:l])\n",
    "print(ml.count)"
   ]
  },
  {
   "cell_type": "markdown",
   "metadata": {},
   "source": [
    "### Q3. ad 제거하기\n",
    "#### 문제 설명\n",
    "문자열 배열 strArr가 주어집니다. 배열 내의 문자열 중 \"ad\"라는 부분 문자열을 포함하고 있는 모든 문자열을 제거하고 남은 문자열을 순서를 유지하여 배열로 return 하는 solution 함수를 완성해 주세요.  \n",
    "  \n",
    "\n",
    "strArr\tresult  \n",
    "[\"and\",\"notad\",\"abcd\"]\t[\"and\",\"abcd\"]  \n",
    "[\"there\",\"are\",\"no\",\"a\",\"ds\"]\t[\"there\",\"are\",\"no\",\"a\",\"ds\"]  "
   ]
  },
  {
   "cell_type": "code",
   "execution_count": 107,
   "metadata": {},
   "outputs": [],
   "source": [
    "def solution3(strArr):\n",
    "    answer = []\n",
    "    for i in strArr:\n",
    "        if not \"ad\" in i:\n",
    "            # strArr.pop(strArr.index(i))\n",
    "            answer.append(i)\n",
    "    return answer"
   ]
  },
  {
   "cell_type": "code",
   "execution_count": 108,
   "metadata": {},
   "outputs": [],
   "source": [
    "sa1 = [\"and\",\"notad\",\"abcd\",\"ddaddd\"]\n",
    "sa2 = [\"there\",\"are\",\"no\",\"a\",\"ds\",\"ad\"]"
   ]
  },
  {
   "cell_type": "code",
   "execution_count": 109,
   "metadata": {},
   "outputs": [
    {
     "data": {
      "text/plain": [
       "1"
      ]
     },
     "execution_count": 109,
     "metadata": {},
     "output_type": "execute_result"
    }
   ],
   "source": [
    "\"ad\" in sa1[1]\n",
    "sa1.index(\"notad\")"
   ]
  },
  {
   "cell_type": "code",
   "execution_count": 110,
   "metadata": {},
   "outputs": [
    {
     "data": {
      "text/plain": [
       "['and', 'abcd']"
      ]
     },
     "execution_count": 110,
     "metadata": {},
     "output_type": "execute_result"
    }
   ],
   "source": [
    "solution3(sa1)"
   ]
  },
  {
   "cell_type": "code",
   "execution_count": 111,
   "metadata": {},
   "outputs": [
    {
     "data": {
      "text/plain": [
       "['there', 'are', 'no', 'a', 'ds']"
      ]
     },
     "execution_count": 111,
     "metadata": {},
     "output_type": "execute_result"
    }
   ],
   "source": [
    "solution3(sa2)"
   ]
  },
  {
   "cell_type": "markdown",
   "metadata": {},
   "source": [
    "### Q4. 공백으로 구분하기 1\n",
    "#### 문제 설명\n",
    "단어가 공백 한 개로 구분되어 있는 문자열 my_string이 매개변수로 주어질 때, my_string에 나온 단어를 앞에서부터 순서대로 담은 문자열 배열을 return 하는 solution 함수를 작성해 주세요.  \n",
    "\n",
    "my_string\tresult  \n",
    "\"i love you\"\t[\"i\", \"love\", \"you\"]  \n",
    "\"programmers\"\t[\"programmers\"]  "
   ]
  },
  {
   "cell_type": "code",
   "execution_count": 114,
   "metadata": {},
   "outputs": [],
   "source": [
    "def solution4(my_string):\n",
    "    return my_string.split(\" \")"
   ]
  },
  {
   "cell_type": "code",
   "execution_count": 113,
   "metadata": {},
   "outputs": [
    {
     "data": {
      "text/plain": [
       "['programmers']"
      ]
     },
     "execution_count": 113,
     "metadata": {},
     "output_type": "execute_result"
    }
   ],
   "source": [
    "mst = \"i love you\"\n",
    "mst2 = \"programmers\"\n",
    "mst2.split(\" \")"
   ]
  },
  {
   "cell_type": "markdown",
   "metadata": {},
   "source": [
    "### Q5. 공백으로 구분하기 2\n",
    "#### 문제 설명\n",
    "단어가 공백 한 개 이상으로 구분되어 있는 문자열 my_string이 매개변수로 주어질 때, my_string에 나온 단어를 앞에서부터 순서대로 담은 문자열 배열을 return 하는 solution 함수를 작성해 주세요.  \n",
    "  \n",
    "my_string\tresult  \n",
    "\" i    love  you\"\t[\"i\", \"love\", \"you\"]  \n",
    "\"    programmers  \"\t[\"programmers\"]  "
   ]
  },
  {
   "cell_type": "code",
   "execution_count": 126,
   "metadata": {},
   "outputs": [],
   "source": [
    "def solution5(my_string):\n",
    "    my_list = my_string.split(\" \")\n",
    "    return [element for element in my_list if element != \"\"]"
   ]
  },
  {
   "cell_type": "code",
   "execution_count": 125,
   "metadata": {},
   "outputs": [
    {
     "data": {
      "text/plain": [
       "['i', 'love', 'you']"
      ]
     },
     "execution_count": 125,
     "metadata": {},
     "output_type": "execute_result"
    }
   ],
   "source": [
    "mst3 = \" i    love  you\"\n",
    "mst4 = \"    programmers  \"\n",
    "msl = mst3.split(\" \")\n",
    "msl2 = [element for element in msl if element != \"\"]\n",
    "msl2"
   ]
  },
  {
   "cell_type": "code",
   "execution_count": null,
   "metadata": {},
   "outputs": [],
   "source": []
  }
 ],
 "metadata": {
  "kernelspec": {
   "display_name": "py",
   "language": "python",
   "name": "python3"
  },
  "language_info": {
   "codemirror_mode": {
    "name": "ipython",
    "version": 3
   },
   "file_extension": ".py",
   "mimetype": "text/x-python",
   "name": "python",
   "nbconvert_exporter": "python",
   "pygments_lexer": "ipython3",
   "version": "3.8.17"
  }
 },
 "nbformat": 4,
 "nbformat_minor": 2
}
