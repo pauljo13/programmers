{
 "cells": [
  {
   "cell_type": "markdown",
   "metadata": {},
   "source": [
    "# 2024-03-27\n",
    "## 문자열을 정수로 바꾸기\n",
    "### 문제 내용\n",
    "- 문제 설명\n",
    "    문자열 s를 숫자로 변환한 결과를 반환하는 함수, solution을 완성하세요.\n",
    "- 제한 조건\n",
    "    - s의 길이는 1 이상 5이하입니다.\n",
    "    - s의 맨앞에는 부호(+, -)가 올 수 있습니다.\n",
    "    - s는 부호와 숫자로만 이루어져있습니다.\n",
    "    - s는 \"0\"으로 시작하지 않습니다.\n",
    "### 예시\n",
    "예를들어 str이 \"1234\"이면 1234를 반환하고, \"-1234\"이면 -1234를 반환하면 됩니다.  \n",
    "str은 부호(+,-)와 숫자로만 구성되어 있고, 잘못된 값이 입력되는 경우는 없습니다.  "
   ]
  },
  {
   "cell_type": "code",
   "execution_count": 8,
   "metadata": {},
   "outputs": [],
   "source": [
    "def solution1(s):\n",
    "    return int(s)"
   ]
  },
  {
   "cell_type": "code",
   "execution_count": 6,
   "metadata": {},
   "outputs": [
    {
     "data": {
      "text/plain": [
       "-123"
      ]
     },
     "execution_count": 6,
     "metadata": {},
     "output_type": "execute_result"
    }
   ],
   "source": [
    "int(\"-123\")"
   ]
  },
  {
   "cell_type": "markdown",
   "metadata": {},
   "source": [
    "## 짝수와 홀수\n",
    "### 문제 내용\n",
    "- 문제 설명\n",
    "    정수 num이 짝수일 경우 \"Even\"을 반환하고 홀수인 경우 \"Odd\"를 반환하는 함수, solution을 완성해주세요.\n",
    "- 제한 조건\n",
    "    - num은 int 범위의 정수입니다.\n",
    "    - 0은 짝수입니다.\n",
    "### 예시\n",
    "num\treturn  \n",
    "3\t\"Odd\"  \n",
    "4\t\"Even\"  "
   ]
  },
  {
   "cell_type": "code",
   "execution_count": 9,
   "metadata": {},
   "outputs": [],
   "source": [
    "def solution2(num):\n",
    "    return \"Even\" if num % 2 == 0 else \"Odd\""
   ]
  },
  {
   "cell_type": "code",
   "execution_count": 10,
   "metadata": {},
   "outputs": [
    {
     "data": {
      "text/plain": [
       "'Odd'"
      ]
     },
     "execution_count": 10,
     "metadata": {},
     "output_type": "execute_result"
    }
   ],
   "source": [
    "solution2(3)"
   ]
  },
  {
   "cell_type": "code",
   "execution_count": 11,
   "metadata": {},
   "outputs": [
    {
     "data": {
      "text/plain": [
       "'Even'"
      ]
     },
     "execution_count": 11,
     "metadata": {},
     "output_type": "execute_result"
    }
   ],
   "source": [
    "solution2(4)"
   ]
  },
  {
   "cell_type": "markdown",
   "metadata": {},
   "source": [
    "## 평균 구하기\n",
    "### 문제 내용\n",
    "- 문제 설명\n",
    "    정수를 담고 있는 배열 arr의 평균값을 return하는 함수, solution을 완성해보세요.\n",
    "- 제한 조건\n",
    "    - arr은 길이 1 이상, 100 이하인 배열입니다.\n",
    "    - arr의 원소는 -10,000 이상 10,000 이하인 정수입니다.\n",
    "### 예시\n",
    "arr\treturn  \n",
    "[1,2,3,4]\t2.5  \n",
    "[5,5]\t5  "
   ]
  },
  {
   "cell_type": "code",
   "execution_count": 12,
   "metadata": {},
   "outputs": [],
   "source": [
    "def solution3(arr):\n",
    "    return sum(arr)/len(arr)"
   ]
  },
  {
   "cell_type": "code",
   "execution_count": 13,
   "metadata": {},
   "outputs": [
    {
     "name": "stdout",
     "output_type": "stream",
     "text": [
      "2.5\n",
      "5.0\n"
     ]
    }
   ],
   "source": [
    "a = [1,2,3,4]\n",
    "b = [5,5]\n",
    "print(solution3(a))\n",
    "print(solution3(b))"
   ]
  },
  {
   "cell_type": "markdown",
   "metadata": {},
   "source": [
    "## 자릿수 더하기\n",
    "### 문제 내용\n",
    "- 문제 설명\n",
    "    자연수 N이 주어지면, N의 각 자릿수의 합을 구해서 return 하는 solution 함수를 만들어 주세요.  \n",
    "    예를들어 N = 123이면 1 + 2 + 3 = 6을 return 하면 됩니다.\n",
    "- 제한 조건\n",
    "    N의 범위 : 100,000,000 이하의 자연수\n",
    "### 예시\n",
    "N\tanswer  \n",
    "123\t6  \n",
    "987\t24  "
   ]
  },
  {
   "cell_type": "code",
   "execution_count": 29,
   "metadata": {},
   "outputs": [],
   "source": [
    "def solution4(n):\n",
    "    return sum([int(x) for x in str(n)])"
   ]
  },
  {
   "cell_type": "code",
   "execution_count": 28,
   "metadata": {},
   "outputs": [
    {
     "data": {
      "text/plain": [
       "6"
      ]
     },
     "execution_count": 28,
     "metadata": {},
     "output_type": "execute_result"
    }
   ],
   "source": [
    "a = 123\n",
    "sum([int(x) for x in str(a)])"
   ]
  },
  {
   "cell_type": "code",
   "execution_count": 30,
   "metadata": {},
   "outputs": [
    {
     "data": {
      "text/plain": [
       "6"
      ]
     },
     "execution_count": 30,
     "metadata": {},
     "output_type": "execute_result"
    }
   ],
   "source": [
    "solution4(123)"
   ]
  },
  {
   "cell_type": "code",
   "execution_count": 31,
   "metadata": {},
   "outputs": [
    {
     "data": {
      "text/plain": [
       "24"
      ]
     },
     "execution_count": 31,
     "metadata": {},
     "output_type": "execute_result"
    }
   ],
   "source": [
    "solution4(987)"
   ]
  },
  {
   "cell_type": "markdown",
   "metadata": {},
   "source": [
    "## 나머지가 1이 되는 수 찾기\n",
    "### 문제 내용\n",
    "- 문제 설명\n",
    "    자연수 n이 매개변수로 주어집니다. n을 x로 나눈 나머지가 1이 되도록 하는 가장 작은 자연수 x를 return 하도록 solution 함수를 완성해주세요. 답이 항상 존재함은 증명될 수 있습니다.\n",
    "- 제한 조건\n",
    "    3 ≤ n ≤ 1,000,000\n",
    "### 예시\n",
    "n\tresult  \n",
    "10\t3  \n",
    "12\t11  "
   ]
  },
  {
   "cell_type": "code",
   "execution_count": 41,
   "metadata": {},
   "outputs": [],
   "source": [
    "def solution5(n):\n",
    "    for i in range(1,n):\n",
    "        if n % i == 1:\n",
    "            return i\n",
    "            break"
   ]
  },
  {
   "cell_type": "code",
   "execution_count": 42,
   "metadata": {},
   "outputs": [
    {
     "name": "stdout",
     "output_type": "stream",
     "text": [
      "3\n"
     ]
    }
   ],
   "source": [
    "a = 10\n",
    "for i in range(1,a):\n",
    "    if a % i == 1:\n",
    "        print(i)\n",
    "        break"
   ]
  },
  {
   "cell_type": "code",
   "execution_count": 43,
   "metadata": {},
   "outputs": [
    {
     "data": {
      "text/plain": [
       "3"
      ]
     },
     "execution_count": 43,
     "metadata": {},
     "output_type": "execute_result"
    }
   ],
   "source": [
    "solution5(10)"
   ]
  },
  {
   "cell_type": "code",
   "execution_count": 44,
   "metadata": {},
   "outputs": [
    {
     "data": {
      "text/plain": [
       "11"
      ]
     },
     "execution_count": 44,
     "metadata": {},
     "output_type": "execute_result"
    }
   ],
   "source": [
    "solution5(12)"
   ]
  },
  {
   "cell_type": "markdown",
   "metadata": {},
   "source": [
    "## 약수의 합\n",
    "### 문제 내용\n",
    "- 문제 설명\n",
    "    - 정수 n을 입력받아 n의 약수를 모두 더한 값을 리턴하는 함수, solution을 완성해주세요.\n",
    "\n",
    "- 제한 사항\n",
    "    - n은 0 이상 3000이하인 정수입니다.\n",
    "### 예시\n",
    "n\treturn  \n",
    "12\t28  \n",
    "5\t6  "
   ]
  },
  {
   "cell_type": "code",
   "execution_count": 50,
   "metadata": {},
   "outputs": [],
   "source": [
    "def solution6(n):\n",
    "    return sum([ i for i in range(1,n+1) if n % i == 0 ])"
   ]
  },
  {
   "cell_type": "code",
   "execution_count": 49,
   "metadata": {},
   "outputs": [
    {
     "data": {
      "text/plain": [
       "28"
      ]
     },
     "execution_count": 49,
     "metadata": {},
     "output_type": "execute_result"
    }
   ],
   "source": [
    "n = 12\n",
    "sum([ i for i in range(1,n+1) if n % i == 0 ])"
   ]
  },
  {
   "cell_type": "markdown",
   "metadata": {},
   "source": [
    "## x만큼 간격이 있는 n개의 숫자\n",
    "### 문제 내용\n",
    "- 문제 설명\n",
    "    함수 solution은 정수 x와 자연수 n을 입력 받아, x부터 시작해 x씩 증가하는 숫자를 n개 지니는 리스트를 리턴해야 합니다. 다음 제한 조건을 보고, 조건을 만족하는 함수, solution을 완성해주세요.\n",
    "\n",
    "- 제한 조건\n",
    "    - x는 -10000000 이상, 10000000 이하인 정수입니다.\n",
    "    - n은 1000 이하인 자연수입니다.\n",
    "\n",
    "### 예시\n",
    "x\tn\tanswer\n",
    "2\t5\t[2,4,6,8,10]  \n",
    "4\t3\t[4,8,12]  \n",
    "-4\t2\t[-4, -8]  "
   ]
  },
  {
   "cell_type": "code",
   "execution_count": 60,
   "metadata": {},
   "outputs": [],
   "source": [
    "def solution7(x, n):\n",
    "    answer = []\n",
    "    a = 0\n",
    "    while len(answer) != n:\n",
    "        a += x\n",
    "        answer.append(a)\n",
    "    return answer"
   ]
  },
  {
   "cell_type": "code",
   "execution_count": 59,
   "metadata": {},
   "outputs": [
    {
     "name": "stdout",
     "output_type": "stream",
     "text": [
      "[2, 4, 6, 8, 10]\n"
     ]
    }
   ],
   "source": [
    "m = []\n",
    "n = 5\n",
    "x = 2\n",
    "a = 2\n",
    "while len(m) != 5:\n",
    "    m.append(a)\n",
    "    a += x\n",
    "print(m)"
   ]
  },
  {
   "cell_type": "markdown",
   "metadata": {},
   "source": [
    "## 자연수 뒤집어 배열로 만들기\n",
    "### 문제 내용\n",
    "- 문제 설명\n",
    "    자연수 n을 뒤집어 각 자리 숫자를 원소로 가지는 배열 형태로 리턴해주세요. 예를들어 n이 12345이면 [5,4,3,2,1]을 리턴합니다.\n",
    "- 제한 조건\n",
    "    n은 10,000,000,000이하인 자연수입니다.\n",
    "### 예시\n",
    "n\treturn\n",
    "12345\t[5,4,3,2,1]"
   ]
  },
  {
   "cell_type": "code",
   "execution_count": 64,
   "metadata": {},
   "outputs": [],
   "source": [
    "def solution8(n):\n",
    "    x = str(n)\n",
    "    return [int(x[-i]) for i in range(1,len(x))]"
   ]
  },
  {
   "cell_type": "code",
   "execution_count": 65,
   "metadata": {},
   "outputs": [
    {
     "data": {
      "text/plain": [
       "'4'"
      ]
     },
     "execution_count": 65,
     "metadata": {},
     "output_type": "execute_result"
    }
   ],
   "source": [
    "str(1234)[-1]"
   ]
  },
  {
   "cell_type": "markdown",
   "metadata": {},
   "source": [
    "## 문자열 내 p와 y의 개수\n",
    "### 문제 내용\n",
    "- 문제 설명\n",
    "    대문자와 소문자가 섞여있는 문자열 s가 주어집니다. s에 'p'의 개수와 'y'의 개수를 비교해 같으면 True, 다르면 False를 return 하는 solution를 완성하세요. 'p', 'y' 모두 하나도 없는 경우는 항상 True를 리턴합니다. 단, 개수를 비교할 때 대문자와 소문자는 구별하지 않습니다.  \n",
    "  \n",
    "    예를 들어 s가 \"pPoooyY\"면 true를 return하고 \"Pyy\"라면 false를 return합니다.  \n",
    "  \n",
    "- 제한사항\n",
    "    문자열 s의 길이 : 50 이하의 자연수  \n",
    "    문자열 s는 알파벳으로만 이루어져 있습니다.  \n",
    "### 예시\n",
    "s\tanswer  \n",
    "\"pPoooyY\"\ttrue  \n",
    "\"Pyy\"\tfalse  "
   ]
  },
  {
   "cell_type": "code",
   "execution_count": 72,
   "metadata": {},
   "outputs": [],
   "source": [
    "def solution9(s):\n",
    "    pCount = s.count(\"p\") + s.count(\"P\")\n",
    "    yCount = s.count(\"y\") + s.count(\"Y\")\n",
    "    return True if pCount == yCount else False"
   ]
  },
  {
   "cell_type": "code",
   "execution_count": 71,
   "metadata": {},
   "outputs": [
    {
     "data": {
      "text/plain": [
       "2"
      ]
     },
     "execution_count": 71,
     "metadata": {},
     "output_type": "execute_result"
    }
   ],
   "source": [
    "s1 = \"pPoooyY\"\n",
    "s2 = \"Pyy\"\n",
    "s1.count(\"p\") + s1.count(\"P\")"
   ]
  },
  {
   "cell_type": "code",
   "execution_count": 73,
   "metadata": {},
   "outputs": [
    {
     "data": {
      "text/plain": [
       "True"
      ]
     },
     "execution_count": 73,
     "metadata": {},
     "output_type": "execute_result"
    }
   ],
   "source": [
    "solution9(s1)"
   ]
  },
  {
   "cell_type": "code",
   "execution_count": 74,
   "metadata": {},
   "outputs": [
    {
     "data": {
      "text/plain": [
       "False"
      ]
     },
     "execution_count": 74,
     "metadata": {},
     "output_type": "execute_result"
    }
   ],
   "source": [
    "solution9(s2)"
   ]
  },
  {
   "cell_type": "markdown",
   "metadata": {},
   "source": [
    "## 정수 제곱근 판별\n",
    "### 문제 내용\n",
    "- 문제 설명\n",
    "    임의의 양의 정수 n에 대해, n이 어떤 양의 정수 x의 제곱인지 아닌지 판단하려 합니다.  \n",
    "    n이 양의 정수 x의 제곱이라면 x+1의 제곱을 리턴하고, n이 양의 정수 x의 제곱이 아니라면 -1을 리턴하는 함수를 완성하세요.  \n",
    "\n",
    "- 제한 사항\n",
    "    n은 1이상, 50000000000000 이하인 양의 정수입니다.  \n",
    "### 예시\n",
    "n\treturn  \n",
    "121\t144  \n",
    "3\t-1  "
   ]
  },
  {
   "cell_type": "code",
   "execution_count": 85,
   "metadata": {},
   "outputs": [],
   "source": [
    "def solution10(n):\n",
    "    nRoot = n**0.5\n",
    "    if nRoot - int(nRoot) != 0:\n",
    "        return -1\n",
    "    else:\n",
    "        return (int(nRoot)+1)**2"
   ]
  },
  {
   "cell_type": "code",
   "execution_count": 86,
   "metadata": {},
   "outputs": [
    {
     "data": {
      "text/plain": [
       "144"
      ]
     },
     "execution_count": 86,
     "metadata": {},
     "output_type": "execute_result"
    }
   ],
   "source": [
    "solution10(121)"
   ]
  },
  {
   "cell_type": "code",
   "execution_count": 87,
   "metadata": {},
   "outputs": [
    {
     "data": {
      "text/plain": [
       "-1"
      ]
     },
     "execution_count": 87,
     "metadata": {},
     "output_type": "execute_result"
    }
   ],
   "source": [
    "solution10(3)"
   ]
  }
 ],
 "metadata": {
  "kernelspec": {
   "display_name": "py",
   "language": "python",
   "name": "python3"
  },
  "language_info": {
   "codemirror_mode": {
    "name": "ipython",
    "version": 3
   },
   "file_extension": ".py",
   "mimetype": "text/x-python",
   "name": "python",
   "nbconvert_exporter": "python",
   "pygments_lexer": "ipython3",
   "version": "3.8.17"
  }
 },
 "nbformat": 4,
 "nbformat_minor": 2
}
