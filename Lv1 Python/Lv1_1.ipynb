{
 "cells": [
  {
   "cell_type": "markdown",
   "metadata": {},
   "source": [
    "# 2024-03-27\n",
    "## 문자열을 정수로 바꾸기\n",
    "### 문제 내용\n",
    "- 문제 설명\n",
    "    문자열 s를 숫자로 변환한 결과를 반환하는 함수, solution을 완성하세요.\n",
    "- 제한 조건\n",
    "    - s의 길이는 1 이상 5이하입니다.\n",
    "    - s의 맨앞에는 부호(+, -)가 올 수 있습니다.\n",
    "    - s는 부호와 숫자로만 이루어져있습니다.\n",
    "    - s는 \"0\"으로 시작하지 않습니다.\n",
    "### 예시\n",
    "예를들어 str이 \"1234\"이면 1234를 반환하고, \"-1234\"이면 -1234를 반환하면 됩니다.  \n",
    "str은 부호(+,-)와 숫자로만 구성되어 있고, 잘못된 값이 입력되는 경우는 없습니다.  "
   ]
  },
  {
   "cell_type": "code",
   "execution_count": 8,
   "metadata": {},
   "outputs": [],
   "source": [
    "def solution1(s):\n",
    "    return int(s)"
   ]
  },
  {
   "cell_type": "code",
   "execution_count": 6,
   "metadata": {},
   "outputs": [
    {
     "data": {
      "text/plain": [
       "-123"
      ]
     },
     "execution_count": 6,
     "metadata": {},
     "output_type": "execute_result"
    }
   ],
   "source": [
    "int(\"-123\")"
   ]
  },
  {
   "cell_type": "markdown",
   "metadata": {},
   "source": [
    "## 짝수와 홀수\n",
    "### 문제 내용\n",
    "- 문제 설명\n",
    "    정수 num이 짝수일 경우 \"Even\"을 반환하고 홀수인 경우 \"Odd\"를 반환하는 함수, solution을 완성해주세요.\n",
    "- 제한 조건\n",
    "    - num은 int 범위의 정수입니다.\n",
    "    - 0은 짝수입니다.\n",
    "### 예시\n",
    "num\treturn  \n",
    "3\t\"Odd\"  \n",
    "4\t\"Even\"  "
   ]
  },
  {
   "cell_type": "code",
   "execution_count": 9,
   "metadata": {},
   "outputs": [],
   "source": [
    "def solution2(num):\n",
    "    return \"Even\" if num % 2 == 0 else \"Odd\""
   ]
  },
  {
   "cell_type": "code",
   "execution_count": 10,
   "metadata": {},
   "outputs": [
    {
     "data": {
      "text/plain": [
       "'Odd'"
      ]
     },
     "execution_count": 10,
     "metadata": {},
     "output_type": "execute_result"
    }
   ],
   "source": [
    "solution2(3)"
   ]
  },
  {
   "cell_type": "code",
   "execution_count": 11,
   "metadata": {},
   "outputs": [
    {
     "data": {
      "text/plain": [
       "'Even'"
      ]
     },
     "execution_count": 11,
     "metadata": {},
     "output_type": "execute_result"
    }
   ],
   "source": [
    "solution2(4)"
   ]
  },
  {
   "cell_type": "markdown",
   "metadata": {},
   "source": [
    "## 평균 구하기\n",
    "### 문제 내용\n",
    "- 문제 설명\n",
    "    정수를 담고 있는 배열 arr의 평균값을 return하는 함수, solution을 완성해보세요.\n",
    "- 제한 조건\n",
    "    - arr은 길이 1 이상, 100 이하인 배열입니다.\n",
    "    - arr의 원소는 -10,000 이상 10,000 이하인 정수입니다.\n",
    "### 예시\n",
    "arr\treturn  \n",
    "[1,2,3,4]\t2.5  \n",
    "[5,5]\t5  "
   ]
  },
  {
   "cell_type": "code",
   "execution_count": 12,
   "metadata": {},
   "outputs": [],
   "source": [
    "def solution3(arr):\n",
    "    return sum(arr)/len(arr)"
   ]
  },
  {
   "cell_type": "code",
   "execution_count": 13,
   "metadata": {},
   "outputs": [
    {
     "name": "stdout",
     "output_type": "stream",
     "text": [
      "2.5\n",
      "5.0\n"
     ]
    }
   ],
   "source": [
    "a = [1,2,3,4]\n",
    "b = [5,5]\n",
    "print(solution3(a))\n",
    "print(solution3(b))"
   ]
  },
  {
   "cell_type": "markdown",
   "metadata": {},
   "source": [
    "## 자릿수 더하기\n",
    "### 문제 내용\n",
    "- 문제 설명\n",
    "    자연수 N이 주어지면, N의 각 자릿수의 합을 구해서 return 하는 solution 함수를 만들어 주세요.  \n",
    "    예를들어 N = 123이면 1 + 2 + 3 = 6을 return 하면 됩니다.\n",
    "- 제한 조건\n",
    "    N의 범위 : 100,000,000 이하의 자연수\n",
    "### 예시\n",
    "N\tanswer  \n",
    "123\t6  \n",
    "987\t24  "
   ]
  },
  {
   "cell_type": "code",
   "execution_count": 29,
   "metadata": {},
   "outputs": [],
   "source": [
    "def solution4(n):\n",
    "    return sum([int(x) for x in str(n)])"
   ]
  },
  {
   "cell_type": "code",
   "execution_count": 28,
   "metadata": {},
   "outputs": [
    {
     "data": {
      "text/plain": [
       "6"
      ]
     },
     "execution_count": 28,
     "metadata": {},
     "output_type": "execute_result"
    }
   ],
   "source": [
    "a = 123\n",
    "sum([int(x) for x in str(a)])"
   ]
  },
  {
   "cell_type": "code",
   "execution_count": 30,
   "metadata": {},
   "outputs": [
    {
     "data": {
      "text/plain": [
       "6"
      ]
     },
     "execution_count": 30,
     "metadata": {},
     "output_type": "execute_result"
    }
   ],
   "source": [
    "solution4(123)"
   ]
  },
  {
   "cell_type": "code",
   "execution_count": 31,
   "metadata": {},
   "outputs": [
    {
     "data": {
      "text/plain": [
       "24"
      ]
     },
     "execution_count": 31,
     "metadata": {},
     "output_type": "execute_result"
    }
   ],
   "source": [
    "solution4(987)"
   ]
  },
  {
   "cell_type": "markdown",
   "metadata": {},
   "source": [
    "## 나머지가 1이 되는 수 찾기\n",
    "### 문제 내용\n",
    "- 문제 설명\n",
    "    자연수 n이 매개변수로 주어집니다. n을 x로 나눈 나머지가 1이 되도록 하는 가장 작은 자연수 x를 return 하도록 solution 함수를 완성해주세요. 답이 항상 존재함은 증명될 수 있습니다.\n",
    "- 제한 조건\n",
    "    3 ≤ n ≤ 1,000,000\n",
    "### 예시\n",
    "n\tresult  \n",
    "10\t3  \n",
    "12\t11  "
   ]
  },
  {
   "cell_type": "code",
   "execution_count": 41,
   "metadata": {},
   "outputs": [],
   "source": [
    "def solution5(n):\n",
    "    for i in range(1,n):\n",
    "        if n % i == 1:\n",
    "            return i\n",
    "            break"
   ]
  },
  {
   "cell_type": "code",
   "execution_count": 42,
   "metadata": {},
   "outputs": [
    {
     "name": "stdout",
     "output_type": "stream",
     "text": [
      "3\n"
     ]
    }
   ],
   "source": [
    "a = 10\n",
    "for i in range(1,a):\n",
    "    if a % i == 1:\n",
    "        print(i)\n",
    "        break"
   ]
  },
  {
   "cell_type": "code",
   "execution_count": 43,
   "metadata": {},
   "outputs": [
    {
     "data": {
      "text/plain": [
       "3"
      ]
     },
     "execution_count": 43,
     "metadata": {},
     "output_type": "execute_result"
    }
   ],
   "source": [
    "solution5(10)"
   ]
  },
  {
   "cell_type": "code",
   "execution_count": 44,
   "metadata": {},
   "outputs": [
    {
     "data": {
      "text/plain": [
       "11"
      ]
     },
     "execution_count": 44,
     "metadata": {},
     "output_type": "execute_result"
    }
   ],
   "source": [
    "solution5(12)"
   ]
  },
  {
   "cell_type": "code",
   "execution_count": null,
   "metadata": {},
   "outputs": [],
   "source": []
  }
 ],
 "metadata": {
  "kernelspec": {
   "display_name": "py",
   "language": "python",
   "name": "python3"
  },
  "language_info": {
   "codemirror_mode": {
    "name": "ipython",
    "version": 3
   },
   "file_extension": ".py",
   "mimetype": "text/x-python",
   "name": "python",
   "nbconvert_exporter": "python",
   "pygments_lexer": "ipython3",
   "version": "3.8.17"
  }
 },
 "nbformat": 4,
 "nbformat_minor": 2
}
