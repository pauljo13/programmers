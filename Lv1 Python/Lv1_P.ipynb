{
 "cells": [
  {
   "cell_type": "markdown",
   "metadata": {},
   "source": [
    "# 2024-05-14\n",
    "## [PCCP 기출문제] 1번 / 붕대 감기\n",
    "### 문제 설명\n",
    "어떤 게임에는 붕대 감기라는 기술이 있습니다.\n",
    "\n",
    "붕대 감기는 t초 동안 붕대를 감으면서 1초마다 x만큼의 체력을 회복합니다. t초 연속으로 붕대를 감는 데 성공한다면 y만큼의 체력을 추가로 회복합니다. 게임 캐릭터에는 최대 체력이 존재해 현재 체력이 최대 체력보다 커지는 것은 불가능합니다.\n",
    "\n",
    "기술을 쓰는 도중 몬스터에게 공격을 당하면 기술이 취소되고, 공격을 당하는 순간에는 체력을 회복할 수 없습니다. 몬스터에게 공격당해 기술이 취소당하거나 기술이 끝나면 그 즉시 붕대 감기를 다시 사용하며, 연속 성공 시간이 0으로 초기화됩니다.\n",
    "\n",
    "몬스터의 공격을 받으면 정해진 피해량만큼 현재 체력이 줄어듭니다. 이때, 현재 체력이 0 이하가 되면 캐릭터가 죽으며 더 이상 체력을 회복할 수 없습니다.\n",
    "\n",
    "당신은 붕대감기 기술의 정보, 캐릭터가 가진 최대 체력과 몬스터의 공격 패턴이 주어질 때 캐릭터가 끝까지 생존할 수 있는지 궁금합니다.\n",
    "\n",
    "붕대 감기 기술의 시전 시간, 1초당 회복량, 추가 회복량을 담은 1차원 정수 배열 bandage와 최대 체력을 의미하는 정수 health, 몬스터의 공격 시간과 피해량을 담은 2차원 정수 배열 attacks가 매개변수로 주어집니다. 모든 공격이 끝난 직후 남은 체력을 return 하도록 solution 함수를 완성해 주세요. 만약 몬스터의 공격을 받고 캐릭터의 체력이 0 이하가 되어 죽는다면 -1을 return 해주세요.\n",
    "\n",
    "\n",
    "### 제한사항\n",
    "bandage는 [시전 시간, 초당 회복량, 추가 회복량] 형태의 길이가 3인 정수 배열입니다.  \n",
    "1 ≤ 시전 시간 = t ≤ 50  \n",
    "1 ≤ 초당 회복량 = x ≤ 100  \n",
    "1 ≤ 추가 회복량 = y ≤ 100  \n",
    "1 ≤ health ≤ 1,000  \n",
    "1 ≤ attacks의 길이 ≤ 100  \n",
    "attacks[i]는 [공격 시간, 피해량] 형태의 길이가 2인 정수 배열입니다.  \n",
    "attacks는 공격 시간을 기준으로 오름차순 정렬된 상태입니다.  \n",
    "attacks의 공격 시간은 모두 다릅니다.  \n",
    "1 ≤ 공격 시간 ≤ 1,000  \n",
    "1 ≤ 피해량 ≤ 100  \n",
    "\n",
    "### 입출력 예\n",
    "bandage\thealth\tattacks\tresult  \n",
    "[5, 1, 5]\t30\t[[2, 10], [9, 15], [10, 5], [11, 5]]\t5   \n",
    "[3, 2, 7]\t20\t[[1, 15], [5, 16], [8, 6]]\t-1   \n",
    "[4, 2, 7]\t20\t[[1, 15], [5, 16], [8, 6]]\t-1   \n",
    "[1, 1, 1]\t5\t[[1, 2], [3, 2]]\t3   \n"
   ]
  },
  {
   "cell_type": "code",
   "execution_count": 48,
   "metadata": {},
   "outputs": [],
   "source": [
    "\"\"\"\n",
    "bandage = [t(붕대 감는 시간), x(1초당 회복 체력), y(성공시 추가 체력 회복)]\n",
    "health = 최대 현재 체력\n",
    "attacks = [공격 시간, 피해량]\n",
    "\"\"\"\n",
    "def solution1(bandage, health, attacks):\n",
    "    hp = health\n",
    "    hel_count = 0\n",
    "    at_count = 0\n",
    "    for i in range(attacks[-1][0]+1):\n",
    "        if i == attacks[at_count][0]:\n",
    "            hp -= attacks[at_count][1]\n",
    "            at_count += 1\n",
    "        elif hp != health:\n",
    "            hp += bandage[1]\n",
    "            hel_count += 1\n",
    "            if hel_count == bandage[0]:\n",
    "                hp += bandage[2]\n",
    "    return -1 if hp <= 0 else hp\n",
    "        "
   ]
  },
  {
   "cell_type": "code",
   "execution_count": 49,
   "metadata": {},
   "outputs": [
    {
     "data": {
      "text/plain": [
       "5"
      ]
     },
     "execution_count": 49,
     "metadata": {},
     "output_type": "execute_result"
    }
   ],
   "source": [
    "band1 = [5, 1, 5]\t\n",
    "h1 = 30\n",
    "at1 = [[2, 10], [9, 15], [10, 5], [11, 5]]\n",
    "solution1(band1,h1,at1)"
   ]
  },
  {
   "cell_type": "markdown",
   "metadata": {},
   "source": [
    "## [PCCE 기출문제] 9번 / 이웃한 칸\n",
    "### 문제 설명\n",
    "각 칸마다 색이 칠해진 2차원 격자 보드판이 있습니다. 그중 한 칸을 골랐을 때, 위, 아래, 왼쪽, 오른쪽 칸 중 같은 색깔로 칠해진 칸의 개수를 구하려고 합니다.\n",
    "\n",
    "보드의 각 칸에 칠해진 색깔 이름이 담긴 이차원 문자열 리스트 board와 고른 칸의 위치를 나타내는 두 정수 h, w가 주어질 때 board[h][w]와 이웃한 칸들 중 같은 색으로 칠해져 있는 칸의 개수를 return 하도록 solution 함수를 완성해 주세요.\n",
    "\n",
    "이웃한 칸들 중 몇 개의 칸이 같은 색으로 색칠되어 있는지 확인하는 과정은 다음과 같습니다.\n",
    "\n",
    "1. 정수를 저장할 변수 n을 만들고 board의 길이를 저장합니다.\n",
    "2. 같은 색으로 색칠된 칸의 개수를 저장할 변수 count를 만들고 0을 저장합니다.\n",
    "3. h와 w의 변화량을 저장할 정수 리스트 dh, dw를 만들고 각각 [0, 1, -1, 0], [1, 0, 0, -1]을 저장합니다.\n",
    "4. 반복문을 이용해 i 값을 0부터 3까지 1 씩 증가시키며 아래 작업을 반복합니다.\n",
    "    4-1. 체크할 칸의 h, w 좌표를 나타내는 변수 h_check, w_check를 만들고 각각 h + dh[i], w + dw[i]를 저장합니다.\n",
    "    4-2. h_check가 0 이상 n 미만이고 w_check가 0 이상 n 미만이라면 다음을 수행합니다.\n",
    "        4-2-a. board[h][w]와 board[h_check][w_check]의 값이 동일하다면 count의 값을 1 증가시킵니다.\n",
    "5. count의 값을 return합니다.\n",
    "  \n",
    "위의 의사코드와 작동방식이 다른 코드를 작성해도 상관없습니다.  \n",
    "\n",
    "### 제한사항\n",
    "1 ≤ board의 길이 ≤ 7\n",
    "    board의 길이와 board[n]의 길이는 동일합니다.\n",
    "0 ≤ h, w < board의 길이\n",
    "1 ≤ board[h][w]의 길이 ≤ 10\n",
    "    board[h][w]는 영어 소문자로만 이루어져 있습니다.\n",
    "\n",
    "### 입출력 예\n",
    "board\th\tw\tresult\n",
    "[[\"blue\", \"red\", \"orange\", \"red\"], [\"red\", \"red\", \"blue\", \"orange\"], [\"blue\", \"orange\", \"red\", \"red\"], [\"orange\", \"orange\", \"red\", \"blue\"]]\t1\t1\t2\n",
    "[[\"yellow\", \"green\", \"blue\"], [\"blue\", \"green\", \"yellow\"], [\"yellow\", \"blue\", \"blue\"]]\t0\t1\t1"
   ]
  },
  {
   "cell_type": "code",
   "execution_count": null,
   "metadata": {},
   "outputs": [],
   "source": [
    "def solution2(board, h, w):\n",
    "    answer = 0\n",
    "    return answer"
   ]
  }
 ],
 "metadata": {
  "kernelspec": {
   "display_name": "Python 3",
   "language": "python",
   "name": "python3"
  },
  "language_info": {
   "codemirror_mode": {
    "name": "ipython",
    "version": 3
   },
   "file_extension": ".py",
   "mimetype": "text/x-python",
   "name": "python",
   "nbconvert_exporter": "python",
   "pygments_lexer": "ipython3",
   "version": "3.8.17"
  }
 },
 "nbformat": 4,
 "nbformat_minor": 2
}
