{
 "cells": [
  {
   "cell_type": "markdown",
   "metadata": {},
   "source": [
    "# 정수 내림차순으로 배치하기\n",
    "\n",
    "### 문제 설명\n",
    "함수 solution은 정수 n을 매개변수로 입력받습니다. n의 각 자릿수를 큰것부터 작은 순으로 정렬한 새로운 정수를 리턴해주세요. 예를들어 n이 118372면 873211을 리턴하면 됩니다.\n",
    "\n",
    "### 제한 조건\n",
    "n은 1이상 8000000000 이하인 자연수입니다.\n",
    "\n",
    "### 입출력 예\n",
    "n\treturn  \n",
    "118372\t873211  "
   ]
  },
  {
   "cell_type": "code",
   "execution_count": null,
   "metadata": {},
   "outputs": [],
   "source": [
    "def solution1(n):\n",
    "    answer = 0\n",
    "    return answer"
   ]
  }
 ],
 "metadata": {
  "language_info": {
   "name": "python"
  }
 },
 "nbformat": 4,
 "nbformat_minor": 2
}
