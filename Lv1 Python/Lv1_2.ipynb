{
 "cells": [
  {
   "cell_type": "markdown",
   "metadata": {},
   "source": [
    "# 금과 은 운반하기\n",
    "## 문제 설명\n",
    "어느 왕국에 하나 이상의 도시들이 있습니다. 왕국의 왕은 새 도시를 짓기로 결정하였습니다. 해당 도시를 짓기 위해서는 도시를 짓는 장소에 금 a kg과 은 b kg이 전달되어야 합니다.\n",
    "  \n",
    "각 도시에는 번호가 매겨져 있는데, i번 도시에는 금 g[i] kg, 은 s[i] kg, 그리고 트럭 한 대가 있습니다. i번 도시의 트럭은 오직 새 도시를 짓는 건설 장소와 i번 도시만을 왕복할 수 있으며, 편도로 이동하는 데 t[i] 시간이 걸리고, 최대 w[i] kg 광물을 운반할 수 있습니다. (광물은 금과 은입니다. 즉, 금과 은을 동시에 운반할 수 있습니다.) 모든 트럭은 같은 도로를 여러 번 왕복할 수 있으며 연료는 무한대라고 가정합니다.\n",
    "  \n",
    "정수 a, b와 정수 배열 g, s, w, t가 매개변수로 주어집니다. 주어진 정보를 바탕으로 각 도시의 트럭을 최적으로 운행했을 때, 새로운 도시를 건설하기 위해 금 a kg과 은 b kg을 전달할 수 있는 가장 빠른 시간을 구해 return 하도록 solution 함수를 완성해주세요.\n",
    "  \n",
    "## 제한사항\n",
    "- 0 ≤ a, b ≤ 109\n",
    "- 1 ≤ g의 길이 = s의 길이 = w의 길이 = t의 길이 = 도시 개수 ≤ 105\n",
    "    - 0 ≤ g[i], s[i] ≤ 109\n",
    "    - 1 ≤ w[i] ≤ 102\n",
    "    - 1 ≤ t[i] ≤ 105\n",
    "    - a ≤ g의 모든 수의 합\n",
    "    - b ≤ s의 모든 수의 합\n"
   ]
  },
  {
   "cell_type": "code",
   "execution_count": 206,
   "metadata": {},
   "outputs": [],
   "source": [
    "def solution1(a, b, g, s, w, t):\n",
    "    g_D = int(a / (len(g) - g.count(0))) # 한 도시 당 가져와야 하는 금양\n",
    "    s_D = int(b / (len(s) - s.count(0))) # 한 도시 당 가져와야 하는 은양\n",
    "    times = []\n",
    "    last = 0 \n",
    "    for i in range(len(g)):\n",
    "        time = 0\n",
    "        totel_rem = 0\n",
    "        gram_s = w[i] if w[i] < s_D else s_D # i 도시에 운송할 수 있는 은양\n",
    "        gram_g = w[i] if w[i] < g_D else g_D # i 도시에 운송할 수 있는 금양\n",
    "        count_g = g_D // gram_g\n",
    "        count_s = s_D // gram_s\n",
    "        if g[i] != 0 and s[i] != 0 : # 해당 도시에 금,은 모두 있는 경우\n",
    "            # 금 운반\n",
    "            time += (2 * (count_g) * t[i]) # i 도시에서 금을 운반 후 완복 한 시간\n",
    "            totel_rem += g_D % gram_g\n",
    "            # 은 운반\n",
    "            time += (2 * (count_s) * t[i]) # i 도시에서 은을 운반 후 완복 한 시간\n",
    "            totel_rem += s_D % gram_s\n",
    "        elif g[i] == 0: #해당 도시에 금이 없는 경우\n",
    "            # 은 운반\n",
    "            time += (2 * (count_s) * t[i]) # i 도시에서 은을 운반 후 완복 한 시간\n",
    "            totel_rem += s_D % gram_s\n",
    "        elif s[i] == 0: #해당 도시에 은이 없는 경우\n",
    "            # 금 운반\n",
    "            time += (2 * (count_g) * t[i]) # i 도시에서 금을 운반 후 완복 한 시간\n",
    "            totel_rem += g_D % gram_g\n",
    "        else:\n",
    "            continue\n",
    "        if totel_rem != 0:\n",
    "            if totel_rem > w[i]:\n",
    "                time += (2 * (totel_rem // w[i]) * t[i]) # 남은 금과 은을 전달\n",
    "            else:\n",
    "                last += 1 \n",
    "                time += t[i]\n",
    "        if last == 0:\n",
    "            time -= t[i]\n",
    "        times.append(time)\n",
    "    return max(times)"
   ]
  },
  {
   "cell_type": "code",
   "execution_count": 207,
   "metadata": {},
   "outputs": [
    {
     "data": {
      "text/plain": [
       "50"
      ]
     },
     "execution_count": 207,
     "metadata": {},
     "output_type": "execute_result"
    }
   ],
   "source": [
    "solution1(10,10,[100],[100],[7],[10])"
   ]
  },
  {
   "cell_type": "code",
   "execution_count": 208,
   "metadata": {},
   "outputs": [
    {
     "data": {
      "text/plain": [
       "499"
      ]
     },
     "execution_count": 208,
     "metadata": {},
     "output_type": "execute_result"
    }
   ],
   "source": [
    "solution1(90,500,[70,70,0],[0,0,500],[100,100,2],[4,8,1])"
   ]
  },
  {
   "cell_type": "code",
   "execution_count": 205,
   "metadata": {},
   "outputs": [
    {
     "data": {
      "text/plain": [
       "4"
      ]
     },
     "execution_count": 205,
     "metadata": {},
     "output_type": "execute_result"
    }
   ],
   "source": [
    "9 // 2"
   ]
  },
  {
   "cell_type": "code",
   "execution_count": 119,
   "metadata": {},
   "outputs": [
    {
     "data": {
      "text/plain": [
       "' \\n목표량\\na : 전달할 금양\\nb : 전달할 은양\\n\\n보유량\\n- 리스트의 개수가 도시의 개수가 됨\\ng : i 도시의 금양\\ns : i 도시의 은양\\n\\n걸리는데 영향\\nw : 최대 운반양 -> 제약\\nt : 편도 시간\\n금과 은은 동시에 운반 할 수 있다.\\n\\nreturn 값 : a와 b을 전달하는데 걸리는 시간\\n'"
      ]
     },
     "execution_count": 119,
     "metadata": {},
     "output_type": "execute_result"
    }
   ],
   "source": [
    "\"\"\" \n",
    "목표량\n",
    "a : 전달할 금양\n",
    "b : 전달할 은양\n",
    "\n",
    "보유량\n",
    "- 리스트의 개수가 도시의 개수가 됨\n",
    "g : i 도시의 금양\n",
    "s : i 도시의 은양\n",
    "\n",
    "걸리는데 영향\n",
    "w : 최대 운반양 -> 제약\n",
    "t : 편도 시간\n",
    "금과 은은 동시에 운반 할 수 있다.\n",
    "\n",
    "return 값 : a와 b을 전달하는데 걸리는 시간\n",
    "\"\"\""
   ]
  },
  {
   "cell_type": "code",
   "execution_count": 23,
   "metadata": {},
   "outputs": [
    {
     "data": {
      "text/plain": [
       "40"
      ]
     },
     "execution_count": 23,
     "metadata": {},
     "output_type": "execute_result"
    }
   ],
   "source": [
    "a = 10\n",
    "b = 10\n",
    "w = 7\n",
    "t = 10\n",
    "\n",
    "(round(a / w) +round(b / w))* 2 * t"
   ]
  },
  {
   "cell_type": "code",
   "execution_count": 20,
   "metadata": {},
   "outputs": [
    {
     "data": {
      "text/plain": [
       "3"
      ]
     },
     "execution_count": 20,
     "metadata": {},
     "output_type": "execute_result"
    }
   ],
   "source": [
    "a % w"
   ]
  },
  {
   "cell_type": "code",
   "execution_count": 6,
   "metadata": {},
   "outputs": [
    {
     "data": {
      "text/plain": [
       "1"
      ]
     },
     "execution_count": 6,
     "metadata": {},
     "output_type": "execute_result"
    }
   ],
   "source": [
    "round(10/7)"
   ]
  },
  {
   "cell_type": "code",
   "execution_count": 21,
   "metadata": {},
   "outputs": [
    {
     "data": {
      "text/plain": [
       "[[70, 0], [70, 0], [0, 500]]"
      ]
     },
     "execution_count": 21,
     "metadata": {},
     "output_type": "execute_result"
    }
   ],
   "source": [
    "a = 90\n",
    "b = 500\n",
    "gold = [70, 70, 0]\n",
    "sliver = [0, 0, 500]\n",
    "truck = [100,100,2]\n",
    "time = [4,8,1]\n",
    "citys = [[gold[i],sliver[i]] for i in range(len(gold))]\n",
    "citys"
   ]
  },
  {
   "cell_type": "code",
   "execution_count": 26,
   "metadata": {},
   "outputs": [
    {
     "name": "stdout",
     "output_type": "stream",
     "text": [
      "45 500\n",
      "45 100\n",
      "45 100\n",
      "2 2\n"
     ]
    }
   ],
   "source": [
    "gram_g = int(a / (len(gold) - gold.count(0)))\n",
    "gram_s = int(b / (len(sliver) - sliver.count(0)))\n",
    "print(gram_g, gram_s)\n",
    "for i in range(len(gold)):\n",
    "    gram_g = truck[i] if truck[i] < gram_g else gram_g\n",
    "    gram_s = truck[i] if truck[i] < gram_s else gram_s\n",
    "    print(gram_g, gram_s)"
   ]
  },
  {
   "cell_type": "code",
   "execution_count": 85,
   "metadata": {},
   "outputs": [
    {
     "data": {
      "text/plain": [
       "1"
      ]
     },
     "execution_count": 85,
     "metadata": {},
     "output_type": "execute_result"
    }
   ],
   "source": [
    "gold.count(0)"
   ]
  },
  {
   "cell_type": "code",
   "execution_count": null,
   "metadata": {},
   "outputs": [],
   "source": []
  }
 ],
 "metadata": {
  "kernelspec": {
   "display_name": "Python 3",
   "language": "python",
   "name": "python3"
  },
  "language_info": {
   "codemirror_mode": {
    "name": "ipython",
    "version": 3
   },
   "file_extension": ".py",
   "mimetype": "text/x-python",
   "name": "python",
   "nbconvert_exporter": "python",
   "pygments_lexer": "ipython3",
   "version": "3.8.17"
  }
 },
 "nbformat": 4,
 "nbformat_minor": 2
}
