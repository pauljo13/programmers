{
 "cells": [
  {
   "cell_type": "markdown",
   "metadata": {},
   "source": [
    "# 2024-01-02\n",
    "### Q1. 커피 심부름\n",
    "#### 문제 설명\n",
    "팀의 막내인 철수는 아메리카노와 카페 라테만 판매하는 카페에서 팀원들의 커피를 사려고 합니다. 아메리카노와 카페 라테의 가격은 차가운 것과 뜨거운 것 상관없이 각각 4500, 5000원입니다. 각 팀원에게 마실 메뉴를 적어달라고 하였고, 그 중에서 메뉴만 적은 팀원의 것은 차가운 것으로 통일하고 \"아무거나\"를 적은 팀원의 것은 차가운 아메리카노로 통일하기로 하였습니다.\n",
    "  \n",
    "각 직원이 적은 메뉴가 문자열 배열 order로 주어질 때, 카페에서 결제하게 될 금액을 return 하는 solution 함수를 작성해주세요. order의 원소는 아래의 것들만 들어오고, 각각의 의미는 다음과 같습니다.  \n",
    "  \n",
    "order의 원소\t의미  \n",
    "\"iceamericano\", \"americanoice\"\t차가운 아메리카노  \n",
    "\"hotamericano\", \"americanohot\"\t따뜻한 아메리카노  \n",
    "\"icecafelatte\", \"cafelatteice\"\t차가운 카페 라테  \n",
    "\"hotcafelatte\", \"cafelattehot\"\t따뜻한 카페 라테  \n",
    "\"americano\"\t아메리카노  \n",
    "\"cafelatte\"\t카페 라테  \n",
    "\"anything\"\t아무거나  \n",
    "  \n",
    "\n",
    "order\tresult  \n",
    "[\"cafelatte\", \"americanoice\", \"hotcafelatte\", \"anything\"]\t19000  \n",
    "[\"americanoice\", \"americano\", \"iceamericano\"]\t13500  "
   ]
  },
  {
   "cell_type": "code",
   "execution_count": 7,
   "metadata": {},
   "outputs": [],
   "source": [
    "def solution1(order):\n",
    "    answer = 0\n",
    "    for i in order:\n",
    "        if \"cafelatte\" in i:\n",
    "            answer += 5000\n",
    "        else:\n",
    "            answer += 4500\n",
    "    return answer"
   ]
  },
  {
   "cell_type": "code",
   "execution_count": 8,
   "metadata": {},
   "outputs": [
    {
     "data": {
      "text/plain": [
       "True"
      ]
     },
     "execution_count": 8,
     "metadata": {},
     "output_type": "execute_result"
    }
   ],
   "source": [
    "\"americano\" in \"iceamericano\""
   ]
  },
  {
   "cell_type": "code",
   "execution_count": 9,
   "metadata": {},
   "outputs": [],
   "source": [
    "od_1 = [\"cafelatte\", \"americanoice\", \"hotcafelatte\", \"anything\"]\n",
    "od_2 = [\"americanoice\", \"americano\", \"iceamericano\"]"
   ]
  },
  {
   "cell_type": "code",
   "execution_count": 10,
   "metadata": {},
   "outputs": [
    {
     "data": {
      "text/plain": [
       "19000"
      ]
     },
     "execution_count": 10,
     "metadata": {},
     "output_type": "execute_result"
    }
   ],
   "source": [
    "solution1(od_1)"
   ]
  },
  {
   "cell_type": "code",
   "execution_count": 11,
   "metadata": {},
   "outputs": [
    {
     "data": {
      "text/plain": [
       "13500"
      ]
     },
     "execution_count": 11,
     "metadata": {},
     "output_type": "execute_result"
    }
   ],
   "source": [
    "solution1(od_2)"
   ]
  },
  {
   "cell_type": "markdown",
   "metadata": {},
   "source": [
    "### Q2. 그림 확대\n",
    "#### 문제 설명\n",
    "직사각형 형태의 그림 파일이 있고, 이 그림 파일은 1 × 1 크기의 정사각형 크기의 픽셀로 이루어져 있습니다. 이 그림 파일을 나타낸 문자열 배열 picture과 정수 k가 매개변수로 주어질 때, 이 그림 파일을 가로 세로로 k배 늘린 그림 파일을 나타내도록 문자열 배열을 return 하는 solution 함수를 작성해 주세요.  \n",
    "  \n",
    "picture\tk\tresult  \n",
    "[\".xx...xx.\", \"x..x.x..x\", \"x...x...x\", \".x.....x.\", \"..x...x..\", \"...x.x...\", \"....x....\"]\t-> 2 ->\t[\"..xxxx......xxxx..\", \"..xxxx......xxxx..\", \"xx....xx..xx....xx\", \"xx....xx..xx....xx\", \"xx......xx......xx\", \"xx......xx......xx\", \"..xx..........xx..\", \"..xx..........xx..\", \"....xx......xx....\", \"....xx......xx....\", \"......xx..xx......\", \"......xx..xx......\", \"........xx........\", \"........xx........\"]\n",
    "  \n",
    "[\"x.x\", \".x.\", \"x.x\"] -> 3 -> [\"xxx...xxx\", \"xxx...xxx\", \"xxx...xxx\", \"...xxx...\", \"...xxx...\", \"...xxx...\", \"xxx...xxx\", \"xxx...xxx\", \"xxx...xxx\"]"
   ]
  },
  {
   "cell_type": "code",
   "execution_count": 23,
   "metadata": {},
   "outputs": [],
   "source": [
    "def solution2(picture, k):\n",
    "    answer = []\n",
    "    for i in picture:\n",
    "        pis = []\n",
    "        for l in i:\n",
    "            pis.append(l*k)\n",
    "        for a in range(k):\n",
    "            answer.append((\"\".join(pis)))\n",
    "    return answer"
   ]
  },
  {
   "cell_type": "code",
   "execution_count": 24,
   "metadata": {},
   "outputs": [],
   "source": [
    "picture_1 = [\".xx...xx.\", \"x..x.x..x\", \"x...x...x\", \".x.....x.\", \"..x...x..\", \"...x.x...\", \"....x....\"]\n",
    "picture_2 = [\"x.x\", \".x.\", \"x.x\"]"
   ]
  },
  {
   "cell_type": "code",
   "execution_count": 25,
   "metadata": {},
   "outputs": [
    {
     "data": {
      "text/plain": [
       "['..xxxx......xxxx..',\n",
       " '..xxxx......xxxx..',\n",
       " 'xx....xx..xx....xx',\n",
       " 'xx....xx..xx....xx',\n",
       " 'xx......xx......xx',\n",
       " 'xx......xx......xx',\n",
       " '..xx..........xx..',\n",
       " '..xx..........xx..',\n",
       " '....xx......xx....',\n",
       " '....xx......xx....',\n",
       " '......xx..xx......',\n",
       " '......xx..xx......',\n",
       " '........xx........',\n",
       " '........xx........']"
      ]
     },
     "execution_count": 25,
     "metadata": {},
     "output_type": "execute_result"
    }
   ],
   "source": [
    "solution2(picture_1,2)"
   ]
  },
  {
   "cell_type": "code",
   "execution_count": 26,
   "metadata": {},
   "outputs": [
    {
     "data": {
      "text/plain": [
       "['xxx...xxx',\n",
       " 'xxx...xxx',\n",
       " 'xxx...xxx',\n",
       " '...xxx...',\n",
       " '...xxx...',\n",
       " '...xxx...',\n",
       " 'xxx...xxx',\n",
       " 'xxx...xxx',\n",
       " 'xxx...xxx']"
      ]
     },
     "execution_count": 26,
     "metadata": {},
     "output_type": "execute_result"
    }
   ],
   "source": [
    "solution2(picture_2,3)"
   ]
  },
  {
   "cell_type": "markdown",
   "metadata": {},
   "source": [
    "### Q3. 조건에 맞게 수열 변환하기 3\n",
    "#### 문제 설명\n",
    "정수 배열 arr와 자연수 k가 주어집니다.\n",
    "\n",
    "만약 k가 홀수라면 arr의 모든 원소에 k를 곱하고, k가 짝수라면 arr의 모든 원소에 k를 더합니다.\n",
    "\n",
    "이러한 변환을 마친 후의 arr를 return 하는 solution 함수를 완성해 주세요.  \n",
    "  \n",
    "arr\tk\tresult  \n",
    "[1, 2, 3, 100, 99, 98]\t3\t[3, 6, 9, 300, 297, 294]  \n",
    "[1, 2, 3, 100, 99, 98]\t2\t[3, 4, 5, 102, 101, 100]  \n"
   ]
  },
  {
   "cell_type": "code",
   "execution_count": 30,
   "metadata": {},
   "outputs": [],
   "source": [
    "def solution3(arr, k):\n",
    "    if k % 2 == 0:\n",
    "        return [i+k for i in arr]\n",
    "    else:\n",
    "        return [i*k for i in arr]"
   ]
  },
  {
   "cell_type": "code",
   "execution_count": 31,
   "metadata": {},
   "outputs": [
    {
     "data": {
      "text/plain": [
       "[3, 6, 9, 300, 297, 294]"
      ]
     },
     "execution_count": 31,
     "metadata": {},
     "output_type": "execute_result"
    }
   ],
   "source": [
    "solution3([1, 2, 3, 100, 99, 98],3)"
   ]
  },
  {
   "cell_type": "code",
   "execution_count": 32,
   "metadata": {},
   "outputs": [
    {
     "data": {
      "text/plain": [
       "[3, 4, 5, 102, 101, 100]"
      ]
     },
     "execution_count": 32,
     "metadata": {},
     "output_type": "execute_result"
    }
   ],
   "source": [
    "solution3([1, 2, 3, 100, 99, 98],2)"
   ]
  },
  {
   "cell_type": "markdown",
   "metadata": {},
   "source": [
    "### Q4. l로 만들기\n",
    "#### 문제 설명\n",
    "알파벳 소문자로 이루어진 문자열 myString이 주어집니다. 알파벳 순서에서 \"l\"보다 앞서는 모든 문자를 \"l\"로 바꾼 문자열을 return 하는 solution 함수를 완성해 주세요.  \n",
    "  \n",
    "myString\tresult  \n",
    "\"abcdevwxyz\"\t\"lllllvwxyz\"  \n",
    "\"jjnnllkkmm\"\t\"llnnllllmm\"  "
   ]
  },
  {
   "cell_type": "code",
   "execution_count": 35,
   "metadata": {},
   "outputs": [],
   "source": [
    "def solution4(myString):\n",
    "    answer = ''\n",
    "    for i in myString:\n",
    "        if i < \"l\":\n",
    "            answer += \"l\"\n",
    "        else:\n",
    "            answer += i\n",
    "    return answer"
   ]
  },
  {
   "cell_type": "code",
   "execution_count": 34,
   "metadata": {},
   "outputs": [
    {
     "data": {
      "text/plain": [
       "True"
      ]
     },
     "execution_count": 34,
     "metadata": {},
     "output_type": "execute_result"
    }
   ],
   "source": [
    "\"a\" < \"l\""
   ]
  },
  {
   "cell_type": "code",
   "execution_count": 36,
   "metadata": {},
   "outputs": [
    {
     "data": {
      "text/plain": [
       "'lllllvwxyz'"
      ]
     },
     "execution_count": 36,
     "metadata": {},
     "output_type": "execute_result"
    }
   ],
   "source": [
    "solution4(\"abcdevwxyz\")"
   ]
  },
  {
   "cell_type": "code",
   "execution_count": 37,
   "metadata": {},
   "outputs": [
    {
     "data": {
      "text/plain": [
       "'llnnllllmm'"
      ]
     },
     "execution_count": 37,
     "metadata": {},
     "output_type": "execute_result"
    }
   ],
   "source": [
    "solution4(\"jjnnllkkmm\")"
   ]
  },
  {
   "cell_type": "markdown",
   "metadata": {},
   "source": [
    "### Q5. 특별한 이차원 배열 1\n",
    "#### 문제 설명\n",
    "정수 n이 매개변수로 주어질 때, 다음과 같은 n × n 크기의 이차원 배열 arr를 return 하는 solution 함수를 작성해 주세요.  \n",
    "\n",
    "arr[i][j] (0 ≤ i, j < n)의 값은 i = j라면 1, 아니라면 0입니다.  \n",
    "  \n",
    "n\tresult  \n",
    "3\t[[1, 0, 0], [0, 1, 0], [0, 0, 1]]  \n",
    "6\t[[1, 0, 0, 0, 0, 0], [0, 1, 0, 0, 0, 0], [0, 0, 1, 0, 0, 0], [0, 0, 0, 1, 0, 0], [0, 0, 0, 0, 1, 0], [0, 0, 0, 0, 0, 1]]  \n",
    "1\t[[1]]  "
   ]
  },
  {
   "cell_type": "code",
   "execution_count": 44,
   "metadata": {},
   "outputs": [],
   "source": [
    "def solution5(n):\n",
    "    answer = []\n",
    "    i = 0\n",
    "    while i != n:\n",
    "        arr = []\n",
    "        for l in range(n):\n",
    "            if l == i:\n",
    "                arr.append(1)\n",
    "            else:\n",
    "                arr.append(0)\n",
    "        answer.append(arr)\n",
    "        i += 1\n",
    "    return answer"
   ]
  },
  {
   "cell_type": "code",
   "execution_count": 51,
   "metadata": {},
   "outputs": [],
   "source": [
    "def solution5_2(n):\n",
    "    # n x n 크기의 0으로 초기화된 이차원 배열 생성\n",
    "    arr = [[0 for _ in range(n)] for _ in range(n)]\n",
    "\n",
    "    # 대각선 요소에 1 할당\n",
    "    for i in range(n):\n",
    "        arr[i][i] = 1\n",
    "\n",
    "    return arr"
   ]
  },
  {
   "cell_type": "code",
   "execution_count": 45,
   "metadata": {},
   "outputs": [],
   "source": [
    "a = [[1]]"
   ]
  },
  {
   "cell_type": "code",
   "execution_count": 46,
   "metadata": {},
   "outputs": [
    {
     "data": {
      "text/plain": [
       "[1]"
      ]
     },
     "execution_count": 46,
     "metadata": {},
     "output_type": "execute_result"
    }
   ],
   "source": [
    "a[0]"
   ]
  },
  {
   "cell_type": "code",
   "execution_count": 48,
   "metadata": {},
   "outputs": [
    {
     "data": {
      "text/plain": [
       "[[1]]"
      ]
     },
     "execution_count": 48,
     "metadata": {},
     "output_type": "execute_result"
    }
   ],
   "source": [
    "solution5(1)"
   ]
  },
  {
   "cell_type": "code",
   "execution_count": 49,
   "metadata": {},
   "outputs": [
    {
     "data": {
      "text/plain": [
       "[[1, 0, 0], [0, 1, 0], [0, 0, 1]]"
      ]
     },
     "execution_count": 49,
     "metadata": {},
     "output_type": "execute_result"
    }
   ],
   "source": [
    "solution5(3)"
   ]
  },
  {
   "cell_type": "code",
   "execution_count": 50,
   "metadata": {},
   "outputs": [
    {
     "data": {
      "text/plain": [
       "[[1, 0, 0, 0, 0, 0],\n",
       " [0, 1, 0, 0, 0, 0],\n",
       " [0, 0, 1, 0, 0, 0],\n",
       " [0, 0, 0, 1, 0, 0],\n",
       " [0, 0, 0, 0, 1, 0],\n",
       " [0, 0, 0, 0, 0, 1]]"
      ]
     },
     "execution_count": 50,
     "metadata": {},
     "output_type": "execute_result"
    }
   ],
   "source": [
    "solution5(6)"
   ]
  },
  {
   "cell_type": "code",
   "execution_count": null,
   "metadata": {},
   "outputs": [],
   "source": []
  }
 ],
 "metadata": {
  "kernelspec": {
   "display_name": "py",
   "language": "python",
   "name": "python3"
  },
  "language_info": {
   "codemirror_mode": {
    "name": "ipython",
    "version": 3
   },
   "file_extension": ".py",
   "mimetype": "text/x-python",
   "name": "python",
   "nbconvert_exporter": "python",
   "pygments_lexer": "ipython3",
   "version": "3.8.17"
  }
 },
 "nbformat": 4,
 "nbformat_minor": 2
}
