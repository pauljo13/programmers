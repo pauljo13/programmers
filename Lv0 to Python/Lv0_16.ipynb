{
 "cells": [
  {
   "cell_type": "markdown",
   "metadata": {},
   "source": [
    "# 2023-12-25\n",
    "### Q1. x 사이의 개수\n",
    "#### 문제 설명\n",
    "문자열 myString이 주어집니다. myString을 문자 \"x\"를 기준으로 나눴을 때 나눠진 문자열 각각의 길이를 순서대로 저장한 배열을 return 하는 solution 함수를 완성해 주세요.  \n",
    "  \n",
    "myString\tresult  \n",
    "\"oxooxoxxox\"\t[1, 2, 1, 0, 1, 0]  \n",
    "\"xabcxdefxghi\"\t[0, 3, 3, 3]  "
   ]
  },
  {
   "cell_type": "code",
   "execution_count": 4,
   "metadata": {},
   "outputs": [],
   "source": [
    "def solution1(myString):\n",
    "    return [len(i) for i in myString.split(\"x\")]"
   ]
  },
  {
   "cell_type": "code",
   "execution_count": 5,
   "metadata": {},
   "outputs": [],
   "source": [
    "ms1 = \"oxooxoxxox\"\n",
    "ms2 = \"xabcxdefxghi\""
   ]
  },
  {
   "cell_type": "code",
   "execution_count": 6,
   "metadata": {},
   "outputs": [
    {
     "data": {
      "text/plain": [
       "[1, 2, 1, 0, 1, 0]"
      ]
     },
     "execution_count": 6,
     "metadata": {},
     "output_type": "execute_result"
    }
   ],
   "source": [
    "solution1(ms1)"
   ]
  },
  {
   "cell_type": "markdown",
   "metadata": {},
   "source": [
    "### Q2. 문자열 잘라서 정렬하기\n",
    "#### 문제 설명\n",
    "문자열 myString이 주어집니다. \"x\"를 기준으로 해당 문자열을 잘라내 배열을 만든 후 사전순으로 정렬한 배열을 return 하는 solution 함수를 완성해 주세요.  \n",
    "\n",
    "단, 빈 문자열은 반환할 배열에 넣지 않습니다.  \n",
    "  \n",
    "myString\tresult  \n",
    "\"axbxcxdx\"\t[\"a\",\"b\",\"c\",\"d\"]  \n",
    "\"dxccxbbbxaaaa\"\t[\"aaaa\",\"bbb\",\"cc\",\"d\"]  "
   ]
  },
  {
   "cell_type": "code",
   "execution_count": 18,
   "metadata": {},
   "outputs": [],
   "source": [
    "def solution2(myString):\n",
    "    answer = [i for i in myString.split(\"x\") if i != \"\"]\n",
    "    answer.sort()\n",
    "    return answer"
   ]
  },
  {
   "cell_type": "code",
   "execution_count": 19,
   "metadata": {},
   "outputs": [],
   "source": [
    "ms3 = \"axbxcxdx\"\n",
    "ms4 = \"dxccxbbbxaaaa\""
   ]
  },
  {
   "cell_type": "code",
   "execution_count": 20,
   "metadata": {},
   "outputs": [
    {
     "data": {
      "text/plain": [
       "['a', 'b', 'c', 'd']"
      ]
     },
     "execution_count": 20,
     "metadata": {},
     "output_type": "execute_result"
    }
   ],
   "source": [
    "solution2(ms3)"
   ]
  },
  {
   "cell_type": "code",
   "execution_count": 21,
   "metadata": {},
   "outputs": [
    {
     "data": {
      "text/plain": [
       "['aaaa', 'bbb', 'cc', 'd']"
      ]
     },
     "execution_count": 21,
     "metadata": {},
     "output_type": "execute_result"
    }
   ],
   "source": [
    "solution2(ms4)"
   ]
  },
  {
   "cell_type": "markdown",
   "metadata": {},
   "source": [
    "### Q3. 간단한 식 계산하기\n",
    "#### 문제 설명\n",
    "문자열 binomial이 매개변수로 주어집니다. binomial은 \"a op b\" 형태의 이항식이고 a와 b는 음이 아닌 정수, op는 '+', '-', '*' 중 하나입니다. 주어진 식을 계산한 정수를 return 하는 solution 함수를 작성해 주세요.  \n",
    "  \n",
    "binomial\tresult  \n",
    "\"43 + 12\"\t55  \n",
    "\"0 - 7777\"\t-7777  \n",
    "\"40000 * 40000\"\t1600000000  "
   ]
  },
  {
   "cell_type": "code",
   "execution_count": 44,
   "metadata": {},
   "outputs": [],
   "source": [
    "def solution3(binomial):\n",
    "    bino_list = binomial.split(\" \")\n",
    "    if \"+\" in bino_list:\n",
    "        return int(bino_list[0]) + int(bino_list[-1])\n",
    "    elif \"-\" in bino_list:\n",
    "        return int(bino_list[0]) - int(bino_list[-1])\n",
    "    else:\n",
    "        return int(bino_list[0]) * int(bino_list[-1])"
   ]
  },
  {
   "cell_type": "code",
   "execution_count": 46,
   "metadata": {},
   "outputs": [],
   "source": [
    "def solution3_2(binomial):\n",
    "    return eval(binomial)"
   ]
  },
  {
   "cell_type": "code",
   "execution_count": 47,
   "metadata": {},
   "outputs": [
    {
     "name": "stdout",
     "output_type": "stream",
     "text": [
      "-2\n"
     ]
    }
   ],
   "source": [
    "print(10 + int(\"-12\"))"
   ]
  },
  {
   "cell_type": "code",
   "execution_count": 48,
   "metadata": {},
   "outputs": [
    {
     "data": {
      "text/plain": [
       "['43', '+', '12']"
      ]
     },
     "execution_count": 48,
     "metadata": {},
     "output_type": "execute_result"
    }
   ],
   "source": [
    "b1 = \"43 + 12\"\n",
    "b2 = \"0 - 7777\"\n",
    "b3 = \"40000 * 40000\"\n",
    "b1.split(\" \")"
   ]
  },
  {
   "cell_type": "code",
   "execution_count": 51,
   "metadata": {},
   "outputs": [
    {
     "data": {
      "text/plain": [
       "55"
      ]
     },
     "execution_count": 51,
     "metadata": {},
     "output_type": "execute_result"
    }
   ],
   "source": [
    "solution3(b1)"
   ]
  },
  {
   "cell_type": "code",
   "execution_count": 52,
   "metadata": {},
   "outputs": [
    {
     "data": {
      "text/plain": [
       "55"
      ]
     },
     "execution_count": 52,
     "metadata": {},
     "output_type": "execute_result"
    }
   ],
   "source": [
    "solution3_2(b1)"
   ]
  },
  {
   "cell_type": "markdown",
   "metadata": {},
   "source": [
    "### Q4. 문자열 바꿔서 찾기\n",
    "#### 문제 설명\n",
    "문자 \"A\"와 \"B\"로 이루어진 문자열 myString과 pat가 주어집니다. myString의 \"A\"를 \"B\"로, \"B\"를 \"A\"로 바꾼 문자열의 연속하는 부분 문자열 중 pat이 있으면 1을 아니면 0을 return 하는 solution 함수를 완성하세요.  \n",
    "  \n",
    "myString\tpat\tresult  \n",
    "\"ABBAA\"\t\"AABB\"\t1  \n",
    "\"ABAB\"\t\"ABAB\"\t0  "
   ]
  },
  {
   "cell_type": "code",
   "execution_count": 61,
   "metadata": {},
   "outputs": [],
   "source": [
    "def solution4(myString, pat):\n",
    "    cmsl = []\n",
    "    for i in myString:\n",
    "        if i == \"A\":\n",
    "            cmsl.append(\"B\")\n",
    "        else:\n",
    "            cmsl.append(\"A\")\n",
    "    cms = \"\".join(cmsl)\n",
    "    if pat in cms:\n",
    "        return 1\n",
    "    else:\n",
    "        return 0"
   ]
  },
  {
   "cell_type": "code",
   "execution_count": 62,
   "metadata": {},
   "outputs": [],
   "source": [
    "ms5 = \"ABBAA\"\n",
    "p1 = \"AABB\"\n",
    "ms6 = \"ABAB\"\n",
    "p2 = \"ABAB\""
   ]
  },
  {
   "cell_type": "code",
   "execution_count": 63,
   "metadata": {},
   "outputs": [
    {
     "data": {
      "text/plain": [
       "1"
      ]
     },
     "execution_count": 63,
     "metadata": {},
     "output_type": "execute_result"
    }
   ],
   "source": [
    "solution4(ms5,p1)"
   ]
  },
  {
   "cell_type": "markdown",
   "metadata": {},
   "source": [
    "### Q5. rny_string \n",
    "#### 문제 설명\n",
    "'m'과 \"rn\"이 모양이 비슷하게 생긴 점을 활용해 문자열에 장난을 하려고 합니다. 문자열 rny_string이 주어질 때, rny_string의 모든 'm'을 \"rn\"으로 바꾼 문자열을 return 하는 solution 함수를 작성해 주세요.  \n",
    "\n",
    "rny_string\tresult  \n",
    "\"masterpiece\"\t\"rnasterpiece\"  \n",
    "\"programmers\"\t\"prograrnrners\"  \n",
    "\"jerry\"\t\"jerry\"  \n",
    "\"burn\"\t\"burn\"  "
   ]
  },
  {
   "cell_type": "code",
   "execution_count": 66,
   "metadata": {},
   "outputs": [],
   "source": [
    "def solution5(rny_string):\n",
    "    return rny_string.replace(\"m\",\"rn\")"
   ]
  },
  {
   "cell_type": "code",
   "execution_count": 65,
   "metadata": {},
   "outputs": [
    {
     "data": {
      "text/plain": [
       "'rnasterpiece'"
      ]
     },
     "execution_count": 65,
     "metadata": {},
     "output_type": "execute_result"
    }
   ],
   "source": [
    "t = \"masterpiece\"\n",
    "t.replace(\"m\",\"rn\")"
   ]
  },
  {
   "cell_type": "code",
   "execution_count": null,
   "metadata": {},
   "outputs": [],
   "source": []
  }
 ],
 "metadata": {
  "kernelspec": {
   "display_name": "py",
   "language": "python",
   "name": "python3"
  },
  "language_info": {
   "codemirror_mode": {
    "name": "ipython",
    "version": 3
   },
   "file_extension": ".py",
   "mimetype": "text/x-python",
   "name": "python",
   "nbconvert_exporter": "python",
   "pygments_lexer": "ipython3",
   "version": "3.8.17"
  }
 },
 "nbformat": 4,
 "nbformat_minor": 2
}
