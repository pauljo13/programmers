{
 "cells": [
  {
   "cell_type": "markdown",
   "metadata": {},
   "source": [
    "# 코드 처리하기\n",
    "문제 설명\n",
    "문자열 code가 주어집니다.\n",
    "code를 앞에서부터 읽으면서 만약 문자가 \"1\"이면 mode를 바꿉니다. mode에 따라 code를 읽어가면서 문자열 ret을 만들어냅니다.\n",
    "\n",
    "mode는 0과 1이 있으며, idx를 0 부터 code의 길이 - 1 까지 1씩 키워나가면서 code[idx]의 값에 따라 다음과 같이 행동합니다.\n",
    "\n",
    "mode가 0일 때\n",
    "code[idx]가 \"1\"이 아니면 idx가 짝수일 때만 ret의 맨 뒤에 code[idx]를 추가합니다.\n",
    "code[idx]가 \"1\"이면 mode를 0에서 1로 바꿉니다.\n",
    "mode가 1일 때\n",
    "code[idx]가 \"1\"이 아니면 idx가 홀수일 때만 ret의 맨 뒤에 code[idx]를 추가합니다.\n",
    "code[idx]가 \"1\"이면 mode를 1에서 0으로 바꿉니다.\n",
    "문자열 code를 통해 만들어진 문자열 ret를 return 하는 solution 함수를 완성해 주세요.\n",
    "\n",
    "단, 시작할 때 mode는 0이며, return 하려는 ret가 만약 빈 문자열이라면 대신 \"EMPTY\"를 return 합니다."
   ]
  },
  {
   "cell_type": "code",
   "execution_count": 16,
   "metadata": {},
   "outputs": [],
   "source": [
    "def solution(code):\n",
    "    ret = \"\"\n",
    "    mode = 0\n",
    "    for i in range(len(code)):\n",
    "        new = code[i]\n",
    "        if new == '1':\n",
    "            if mode == 1:\n",
    "                mode = 0\n",
    "            else:\n",
    "                mode = 1\n",
    "            continue\n",
    "        if mode == 1:\n",
    "            if i%2 == 1:\n",
    "                ret += new\n",
    "            else:\n",
    "                pass\n",
    "        elif mode == 0:\n",
    "            if i%2 == 0:\n",
    "                ret += new\n",
    "            else:\n",
    "                pass\n",
    "    if len(ret) == 0:\n",
    "        ret = 'EMPTY'\n",
    "    return ret"
   ]
  },
  {
   "cell_type": "code",
   "execution_count": 29,
   "metadata": {},
   "outputs": [],
   "source": [
    "# 다른 사람의 코딩\n",
    "def solution1_1(code):\n",
    "    return \"\".join(code.split(\"1\"))[::2] or \"EMPTY\""
   ]
  },
  {
   "cell_type": "markdown",
   "metadata": {},
   "source": [
    "# 등차수열의 특정한 항만 더하기\n",
    "문제 설명\n",
    "두 정수 a, d와 길이가 n인 boolean 배열 included가 주어집니다. 첫째항이 a, 공차가 d인 등차수열에서 included[i]가 i + 1항을 의미할 때, 이 등차수열의 1항부터 n항까지 included가 true인 항들만 더한 값을 return 하는 solution 함수를 작성해 주세요.\n",
    "\n",
    "제한사항\n",
    "1 ≤ a ≤ 100\n",
    "1 ≤ d ≤ 100\n",
    "1 ≤ included의 길이 ≤ 100\n",
    "included에는 true가 적어도 하나 존재합니다.\n"
   ]
  },
  {
   "cell_type": "code",
   "execution_count": 47,
   "metadata": {},
   "outputs": [],
   "source": [
    "def solution2(a, d, included):\n",
    "    answer = 0\n",
    "    for i in included:\n",
    "        if i == True:\n",
    "            answer += a\n",
    "        a += d\n",
    "    return answer"
   ]
  },
  {
   "cell_type": "code",
   "execution_count": 46,
   "metadata": {},
   "outputs": [
    {
     "name": "stdout",
     "output_type": "stream",
     "text": [
      "3\n",
      "7\n",
      "11\n",
      "15\n",
      "19\n"
     ]
    },
    {
     "data": {
      "text/plain": [
       "37"
      ]
     },
     "execution_count": 46,
     "metadata": {},
     "output_type": "execute_result"
    }
   ],
   "source": [
    "solution2(3,4,[True, False, False, True, True])"
   ]
  },
  {
   "cell_type": "code",
   "execution_count": null,
   "metadata": {},
   "outputs": [],
   "source": [
    "def solution2_2(a, d, included):\n",
    "    answer = 0\n",
    "    for i in range(len(included)):\n",
    "        answer += (a + d * i) * int(included[i])\n",
    "    return answer\n",
    "\n",
    "# True -> int == 1 / False -> int == 0"
   ]
  },
  {
   "cell_type": "markdown",
   "metadata": {},
   "source": [
    "# 주사위 게임 2\n",
    "문제 설명\n",
    "1부터 6까지 숫자가 적힌 주사위가 세 개 있습니다. 세 주사위를 굴렸을 때 나온 숫자를 각각 a, b, c라고 했을 때 얻는 점수는 다음과 같습니다.\n",
    "\n",
    "세 숫자가 모두 다르다면 a + b + c 점을 얻습니다.\n",
    "세 숫자 중 어느 두 숫자는 같고 나머지 다른 숫자는 다르다면 (a + b + c) × (a2 + b2 + c2 )점을 얻습니다.\n",
    "세 숫자가 모두 같다면 (a + b + c) × (a2 + b2 + c2 ) × (a3 + b3 + c3 )점을 얻습니다.\n",
    "세 정수 a, b, c가 매개변수로 주어질 때, 얻는 점수를 return 하는 solution 함수를 작성해 주세요.\n",
    "\n",
    "제한사항\n",
    "a, b, c는 1이상 6이하의 정수입니다."
   ]
  },
  {
   "cell_type": "code",
   "execution_count": null,
   "metadata": {},
   "outputs": [],
   "source": [
    "def solution(a, b, c):\n",
    "    answer = 0\n",
    "    return answer"
   ]
  }
 ],
 "metadata": {
  "kernelspec": {
   "display_name": "pro",
   "language": "python",
   "name": "python3"
  },
  "language_info": {
   "codemirror_mode": {
    "name": "ipython",
    "version": 3
   },
   "file_extension": ".py",
   "mimetype": "text/x-python",
   "name": "python",
   "nbconvert_exporter": "python",
   "pygments_lexer": "ipython3",
   "version": "3.8.17"
  },
  "orig_nbformat": 4
 },
 "nbformat": 4,
 "nbformat_minor": 2
}
